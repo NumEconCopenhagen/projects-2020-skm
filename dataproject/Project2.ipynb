{
 "cells": [
  {
   "cell_type": "markdown",
   "metadata": {},
   "source": [
    "# Employment rates and Income"
   ]
  },
  {
   "cell_type": "markdown",
   "metadata": {},
   "source": [
    "## Introduction\n",
    "\n",
    "The goal of the project is to import two datasets from Statistics Denmark reporting employment rates and income levels. From the unemployment data we will extract two different employmentrates that resemple the employment of decendants of Non-western immigrants and the total poluation in Denmark in the period 2008-2018. Further we import an income statistic fromwhere we extract a serie of disposable income for the educational level vocational.\n",
    "\n",
    "The data will be cleaned out for municipalities, so we can present and compare the data on regional level. This enables us to merge the datasets into one set from where we can contruct interactive charts. \n",
    "\n",
    "Lastly we compute a new variable, which represent the deviation of unemployment from the mean."
   ]
  },
  {
   "cell_type": "code",
   "execution_count": 1,
   "metadata": {},
   "outputs": [],
   "source": [
    "# Importing the packages we need for the project\n",
    "import numpy as np\n",
    "import pandas as pd\n",
    "import datetime\n",
    "\n",
    "import pandas_datareader\n",
    "import pydst \n",
    "\n",
    "\n",
    "import matplotlib.pyplot as plt\n",
    "plt.style.use('seaborn-whitegrid')"
   ]
  },
  {
   "cell_type": "markdown",
   "metadata": {},
   "source": [
    "## Import data from Denmark Statistics\n"
   ]
  },
  {
   "cell_type": "code",
   "execution_count": 23,
   "metadata": {},
   "outputs": [],
   "source": [
    "dst = pydst.Dst(lang='en')\n",
    "dst.get_subjects()\n",
    "\n",
    "tables = dst.get_tables(subjects=['04'])\n",
    "tables[tables.id == 'INDKP107']\n",
    "indk_vars = dst.get_variables(table_id='INDKP107')"
   ]
  },
  {
   "cell_type": "code",
   "execution_count": 24,
   "metadata": {},
   "outputs": [
    {
     "output_type": "stream",
     "name": "stdout",
     "text": "ENHED\n id = 101, text = People with type of income (number)\n id = 110, text = Amount of income (DKK 1.000)\n id = 116, text = Average income for all people (DKK)\n id = 121, text = Average income for people with type of income (DKK)\nKOEN\n id = MOK, text = Men and women, total\n id = M, text = Men\n id = K, text = Women\nUDDNIV\n id = 10, text = 10 BASIC SCHOOL 8-10 grade\n id = 26, text = 20+25 UPPER SECONDARY SCHOOL\n id = 35, text = 35 VOCATIONAL EDUCATION\n id = 40, text = 40 SHORT-CYCLE HIGHER EDUCATION\n id = 61, text = 50+60 MEDIUM-CYCLE HIGHER EDUCATION, BACHLEOR\n id = 65, text = 65 LONG-CYCLE HIGHER EDUCATION\n id = 9, text = Not stated\nINDKOMSTTYPE\n id = 100, text = 1 Disposable income (2+30-31-32-35)\n id = 105, text = 2 Pre-tax Income, total (3+7+22+26+29)\n id = 110, text = 3 Primary income (4+5+6)\n id = 115, text = 4 Wages and salaries etc., total\n id = 120, text = 5 Entrepreneurial income, total\n id = 125, text = 6 Received fees subject to labour market contributions\n id = 130, text = 7 Public transfer incomes(8+14+19)\n id = 135, text = 8 Unemployment and cash benefits (9+10+11+12+13)\n id = 140, text = 9 Unemployment benefits\n id = 145, text = 10 Other benefits from unemployment funds\n id = 150, text = 11 Cash benefits\n id = 155, text = 12 Job training & Limited employment benefits\n id = 160, text = 13 Sickness- & parental leave\n id = 165, text = 14 Other transfers(15+16+17+18)\n id = 170, text = 15 Public educational grants\n id = 175, text = 16 Housing benefits\n id = 180, text = 17 Child benefits\n id = 185, text = 18 Green check\n id = 190, text = 19 Public pensions(20+21)\n id = 195, text = 20 Early retirement pay\n id = 200, text = 21 Disability and old age pensions\n id = 205, text = 22 Private pensions(23+24+25)\n id = 210, text = 23 Public servants pension\n id = 215, text = 24 Pension from the ATP (Labour Market Supplementary Pension Scheme)\n id = 220, text = 25 Labour market and private pensions (Annuities only)\n id = 225, text = 26 Capital income, gross (27+28)\n id = 230, text = 27 Interest received\n id = 235, text = 28 Other property income (From stocks etc.)\n id = 240, text = 29 Other personal income\n id = 245, text = 30 Imputed rent\n id = 250, text = 31 Interest expenses\n id = 255, text = 32 Tax, total (33+34)\n id = 260, text = 33 Income taxes\n id = 265, text = 34 Labour market contributions etc.\n id = 270, text = 35 Paid alimonies\n id = 275, text = Equivalised Disposable income\n id = 280, text = Land tax home owners\n id = 285, text = Land tax, tenants\n id = 290, text = Taxable income\n"
    }
   ],
   "source": [
    "# #We look at the data to see how we can sort it. \n",
    "indk_vars = dst.get_variables(table_id='INDKP107')\n",
    "for id in ['ENHED','KOEN','UDDNIV','INDKOMSTTYPE']:\n",
    "    print(id)\n",
    "    values = indk_vars.loc[indk_vars.id == id,['values']].values[0,0]\n",
    "    for value in values:      \n",
    "        print(f' id = {value[\"id\"]}, text = {value[\"text\"]}')"
   ]
  },
  {
   "cell_type": "code",
   "execution_count": 4,
   "metadata": {},
   "outputs": [],
   "source": [
    "#For each year and area, we choose to look at average disposable income for people with vocational education.\n",
    "inc = dst.get_data(table_id = 'INDKP107', variables= {'OMRÅDE':['*'], 'TID':['*'], 'UDDNIV':['35'],  'ENHED':['116'], 'INDKOMSTTYPE':['100']})\n",
    "\n",
    "#... and we look at the employment rate for each year, area, and origin.\n",
    "empl = dst.get_data(table_id = 'RAS200', variables={'OMRÅDE':['*'], 'TID':['*'], 'HERKOMST':['*']})"
   ]
  },
  {
   "cell_type": "code",
   "execution_count": 5,
   "metadata": {},
   "outputs": [
    {
     "output_type": "execute_result",
     "data": {
      "text/plain": "          OMRÅDE   TID                                HERKOMST       ALDER  \\\n0       Hørsholm  2008  Descendants from non-western countries  Age, total   \n1       Hørsholm  2009  Descendants from non-western countries  Age, total   \n2       Hørsholm  2010  Descendants from non-western countries  Age, total   \n3  Høje-Taastrup  2011                             Descendants  Age, total   \n4  Høje-Taastrup  2012                             Descendants  Age, total   \n\n     KØN        BEREGNING  INDHOLD  \n0  Total  Employment rate     56.9  \n1  Total  Employment rate     53.3  \n2  Total  Employment rate     57.1  \n3  Total  Employment rate     55.7  \n4  Total  Employment rate     54.4  ",
      "text/html": "<div>\n<style scoped>\n    .dataframe tbody tr th:only-of-type {\n        vertical-align: middle;\n    }\n\n    .dataframe tbody tr th {\n        vertical-align: top;\n    }\n\n    .dataframe thead th {\n        text-align: right;\n    }\n</style>\n<table border=\"1\" class=\"dataframe\">\n  <thead>\n    <tr style=\"text-align: right;\">\n      <th></th>\n      <th>OMRÅDE</th>\n      <th>TID</th>\n      <th>HERKOMST</th>\n      <th>ALDER</th>\n      <th>KØN</th>\n      <th>BEREGNING</th>\n      <th>INDHOLD</th>\n    </tr>\n  </thead>\n  <tbody>\n    <tr>\n      <td>0</td>\n      <td>Hørsholm</td>\n      <td>2008</td>\n      <td>Descendants from non-western countries</td>\n      <td>Age, total</td>\n      <td>Total</td>\n      <td>Employment rate</td>\n      <td>56.9</td>\n    </tr>\n    <tr>\n      <td>1</td>\n      <td>Hørsholm</td>\n      <td>2009</td>\n      <td>Descendants from non-western countries</td>\n      <td>Age, total</td>\n      <td>Total</td>\n      <td>Employment rate</td>\n      <td>53.3</td>\n    </tr>\n    <tr>\n      <td>2</td>\n      <td>Hørsholm</td>\n      <td>2010</td>\n      <td>Descendants from non-western countries</td>\n      <td>Age, total</td>\n      <td>Total</td>\n      <td>Employment rate</td>\n      <td>57.1</td>\n    </tr>\n    <tr>\n      <td>3</td>\n      <td>Høje-Taastrup</td>\n      <td>2011</td>\n      <td>Descendants</td>\n      <td>Age, total</td>\n      <td>Total</td>\n      <td>Employment rate</td>\n      <td>55.7</td>\n    </tr>\n    <tr>\n      <td>4</td>\n      <td>Høje-Taastrup</td>\n      <td>2012</td>\n      <td>Descendants</td>\n      <td>Age, total</td>\n      <td>Total</td>\n      <td>Employment rate</td>\n      <td>54.4</td>\n    </tr>\n  </tbody>\n</table>\n</div>"
     },
     "metadata": {},
     "execution_count": 5
    }
   ],
   "source": [
    "empl.head()\n"
   ]
  },
  {
   "cell_type": "code",
   "execution_count": 6,
   "metadata": {},
   "outputs": [
    {
     "output_type": "execute_result",
     "data": {
      "text/plain": "       OMRÅDE   TID                   UDDNIV  \\\n0        Fanø  2013  35 VOCATIONAL EDUCATION   \n1       Varde  2013  35 VOCATIONAL EDUCATION   \n2       Vejen  2013  35 VOCATIONAL EDUCATION   \n3    Aabenraa  2013  35 VOCATIONAL EDUCATION   \n4  Fredericia  2013  35 VOCATIONAL EDUCATION   \n\n                                 ENHED                         INDKOMSTTYPE  \\\n0  Average income for all people (DKK)  1 Disposable income (2+30-31-32-35)   \n1  Average income for all people (DKK)  1 Disposable income (2+30-31-32-35)   \n2  Average income for all people (DKK)  1 Disposable income (2+30-31-32-35)   \n3  Average income for all people (DKK)  1 Disposable income (2+30-31-32-35)   \n4  Average income for all people (DKK)  1 Disposable income (2+30-31-32-35)   \n\n                   KOEN  INDHOLD  \n0  Men and women, total   225466  \n1  Men and women, total   235711  \n2  Men and women, total   226659  \n3  Men and women, total   215493  \n4  Men and women, total   218775  ",
      "text/html": "<div>\n<style scoped>\n    .dataframe tbody tr th:only-of-type {\n        vertical-align: middle;\n    }\n\n    .dataframe tbody tr th {\n        vertical-align: top;\n    }\n\n    .dataframe thead th {\n        text-align: right;\n    }\n</style>\n<table border=\"1\" class=\"dataframe\">\n  <thead>\n    <tr style=\"text-align: right;\">\n      <th></th>\n      <th>OMRÅDE</th>\n      <th>TID</th>\n      <th>UDDNIV</th>\n      <th>ENHED</th>\n      <th>INDKOMSTTYPE</th>\n      <th>KOEN</th>\n      <th>INDHOLD</th>\n    </tr>\n  </thead>\n  <tbody>\n    <tr>\n      <td>0</td>\n      <td>Fanø</td>\n      <td>2013</td>\n      <td>35 VOCATIONAL EDUCATION</td>\n      <td>Average income for all people (DKK)</td>\n      <td>1 Disposable income (2+30-31-32-35)</td>\n      <td>Men and women, total</td>\n      <td>225466</td>\n    </tr>\n    <tr>\n      <td>1</td>\n      <td>Varde</td>\n      <td>2013</td>\n      <td>35 VOCATIONAL EDUCATION</td>\n      <td>Average income for all people (DKK)</td>\n      <td>1 Disposable income (2+30-31-32-35)</td>\n      <td>Men and women, total</td>\n      <td>235711</td>\n    </tr>\n    <tr>\n      <td>2</td>\n      <td>Vejen</td>\n      <td>2013</td>\n      <td>35 VOCATIONAL EDUCATION</td>\n      <td>Average income for all people (DKK)</td>\n      <td>1 Disposable income (2+30-31-32-35)</td>\n      <td>Men and women, total</td>\n      <td>226659</td>\n    </tr>\n    <tr>\n      <td>3</td>\n      <td>Aabenraa</td>\n      <td>2013</td>\n      <td>35 VOCATIONAL EDUCATION</td>\n      <td>Average income for all people (DKK)</td>\n      <td>1 Disposable income (2+30-31-32-35)</td>\n      <td>Men and women, total</td>\n      <td>215493</td>\n    </tr>\n    <tr>\n      <td>4</td>\n      <td>Fredericia</td>\n      <td>2013</td>\n      <td>35 VOCATIONAL EDUCATION</td>\n      <td>Average income for all people (DKK)</td>\n      <td>1 Disposable income (2+30-31-32-35)</td>\n      <td>Men and women, total</td>\n      <td>218775</td>\n    </tr>\n  </tbody>\n</table>\n</div>"
     },
     "metadata": {},
     "execution_count": 6
    }
   ],
   "source": [
    "inc.head() "
   ]
  },
  {
   "cell_type": "code",
   "execution_count": 7,
   "metadata": {},
   "outputs": [],
   "source": [
    "#Renaming \n",
    "columns_dict_empl = {}\n",
    "columns_dict_empl['OMRÅDE'] = 'area'\n",
    "columns_dict_empl['TID'] = 'year'\n",
    "columns_dict_empl['HERKOMST'] = 'origin'\n",
    "columns_dict_empl['INDHOLD'] = 'emp'\n",
    "\n",
    "columns_dict_inc = {}\n",
    "columns_dict_inc['OMRÅDE'] = 'area'\n",
    "columns_dict_inc['TID'] = 'year'\n",
    "columns_dict_inc['INDHOLD'] = 'income'\n",
    "columns_dict_inc['UDDNIV'] = 'educ'\n",
    "\n",
    "empl.rename(columns=columns_dict_empl,inplace=True)\n",
    "inc.rename(columns=columns_dict_inc,inplace=True)\n",
    "\n",
    "##Disposable income by region\n",
    "I = inc.area.str.contains('Region')\n",
    "inc =  inc.loc[I,['area','year','income']]\n",
    "inc.head(10)\n",
    "\n",
    "#Employment rate total by region\n",
    "I = empl.area.str.contains('Region')\n",
    "empl=  empl.loc[I,['area','year','origin','emp']]\n",
    "empl_copy =empl\n",
    "\n"
   ]
  },
  {
   "cell_type": "code",
   "execution_count": 8,
   "metadata": {},
   "outputs": [],
   "source": [
    "#From this data we pick out two different employment rates. This is performed in three steps:\n",
    "\n",
    "#Step 1: Get the total employment rate\n",
    "I= empl.origin.str.contains('Total')\n",
    "empl=  empl.loc[I,['area','year','emp']]\n",
    "\n",
    "#Step 2: From the copy of empl we make the employment rate for decendents of non-western immigrants.\n",
    "L = empl_copy.origin.str.contains('Descendants from non-western countries')\n",
    "empl_copy=  empl_copy.loc[L,['area','year','emp']]\n",
    "empl_copy.rename(columns ={'emp':'emp_nw'}, inplace=True)\n",
    "\n",
    "#Step 3 Merge the two sets and obtain the final employment dataset: empl_true\n",
    "empl_true = pd.merge(empl, empl_copy, on=['area','year'], how='left')"
   ]
  },
  {
   "cell_type": "code",
   "execution_count": 9,
   "metadata": {},
   "outputs": [
    {
     "output_type": "execute_result",
     "data": {
      "text/plain": "                 area  year   emp  emp_nw\n0  Region Midtjylland  2011  72.4    50.0\n1  Region Midtjylland  2012  71.8    47.5\n2  Region Midtjylland  2013  71.7    47.2\n3  Region Midtjylland  2014  72.2    49.3\n4  Region Nordjylland  2011  71.0    44.1",
      "text/html": "<div>\n<style scoped>\n    .dataframe tbody tr th:only-of-type {\n        vertical-align: middle;\n    }\n\n    .dataframe tbody tr th {\n        vertical-align: top;\n    }\n\n    .dataframe thead th {\n        text-align: right;\n    }\n</style>\n<table border=\"1\" class=\"dataframe\">\n  <thead>\n    <tr style=\"text-align: right;\">\n      <th></th>\n      <th>area</th>\n      <th>year</th>\n      <th>emp</th>\n      <th>emp_nw</th>\n    </tr>\n  </thead>\n  <tbody>\n    <tr>\n      <td>0</td>\n      <td>Region Midtjylland</td>\n      <td>2011</td>\n      <td>72.4</td>\n      <td>50.0</td>\n    </tr>\n    <tr>\n      <td>1</td>\n      <td>Region Midtjylland</td>\n      <td>2012</td>\n      <td>71.8</td>\n      <td>47.5</td>\n    </tr>\n    <tr>\n      <td>2</td>\n      <td>Region Midtjylland</td>\n      <td>2013</td>\n      <td>71.7</td>\n      <td>47.2</td>\n    </tr>\n    <tr>\n      <td>3</td>\n      <td>Region Midtjylland</td>\n      <td>2014</td>\n      <td>72.2</td>\n      <td>49.3</td>\n    </tr>\n    <tr>\n      <td>4</td>\n      <td>Region Nordjylland</td>\n      <td>2011</td>\n      <td>71.0</td>\n      <td>44.1</td>\n    </tr>\n  </tbody>\n</table>\n</div>"
     },
     "metadata": {},
     "execution_count": 9
    }
   ],
   "source": [
    "#Plotting the employment dataset:\n",
    "empl_true.head()"
   ]
  },
  {
   "cell_type": "markdown",
   "metadata": {},
   "source": [
    "## Merging and arriving at the final dataset"
   ]
  },
  {
   "cell_type": "code",
   "execution_count": 10,
   "metadata": {},
   "outputs": [
    {
     "output_type": "stream",
     "name": "stdout",
     "text": "Years in empl_true: [2011 2012 2013 2014 2008 2009 2010 2015 2016 2017 2018]\nYears in inc: [2013 2012 2011 2010 2009 2008 2006 2005 2004 2014 2015 2007 2016 2017\n 2018]\nyears in income data, but not in the employment data: [2006, 2005, 2004, 2007]\n"
    }
   ],
   "source": [
    "#Finally merge the income data set to the employment data.\n",
    "\n",
    "#Looking into the data, which differs interms of range of years\n",
    "print(f'Years in empl_true: {empl_true.year.unique()}')\n",
    "print(f'Years in inc: {inc.year.unique()}')\n",
    "\n",
    "#Finding the differences\n",
    "diff_y = [y for y in inc.year.unique() if y not in empl_true.year.unique()] \n",
    "print(f'years in income data, but not in the employment data: {diff_y}')\n",
    "\n",
    "#Merging\n",
    "data = pd.merge(empl_true, inc, on=['area','year'], how='left')\n",
    "data_true = data.sort_values(['area','year'])"
   ]
  },
  {
   "cell_type": "code",
   "execution_count": null,
   "metadata": {},
   "outputs": [],
   "source": []
  },
  {
   "cell_type": "code",
   "execution_count": 11,
   "metadata": {},
   "outputs": [
    {
     "output_type": "execute_result",
     "data": {
      "text/plain": "area\nRegion Hovedstaden    228339.636364\nRegion Midtjylland    224758.909091\nRegion Nordjylland    215044.545455\nRegion Sjælland       222744.818182\nRegion Syddanmark     215945.181818\nName: inc_mean, dtype: float64"
     },
     "metadata": {},
     "execution_count": 11
    }
   ],
   "source": [
    "# Creating a new variable: Mean of disposable income for each region across years .\n",
    "\n",
    "inc_mean = data_true.groupby('area')['income'].apply(lambda x: x.mean()).head() \n",
    "inc_mean.head(10)\n",
    "inc_mean.name = 'inc_mean' # necessary for join\n",
    "inc_mean.head(10)"
   ]
  },
  {
   "cell_type": "code",
   "execution_count": 12,
   "metadata": {},
   "outputs": [],
   "source": [
    "#Mergin the new variable to the dataset\n",
    "data_true = pd.merge(data_true, inc_mean, on=['area'], how='left')\n"
   ]
  },
  {
   "cell_type": "code",
   "execution_count": 13,
   "metadata": {},
   "outputs": [],
   "source": [
    "#Creating a new variable: The difference of the recorded income to the mean.\n",
    "data_true['diff_to_mean']= data_true['income']-data_true['inc_mean']"
   ]
  },
  {
   "cell_type": "code",
   "execution_count": 14,
   "metadata": {},
   "outputs": [
    {
     "output_type": "execute_result",
     "data": {
      "text/plain": "                  area  year   emp  emp_nw  income       inc_mean  \\\n0   Region Hovedstaden  2008  75.8    65.7  197692  228339.636364   \n1   Region Hovedstaden  2009  73.3    59.7  198466  228339.636364   \n2   Region Hovedstaden  2010  72.6    57.3  214620  228339.636364   \n3   Region Hovedstaden  2011  72.5    56.2  219615  228339.636364   \n4   Region Hovedstaden  2012  72.2    55.0  224140  228339.636364   \n5   Region Hovedstaden  2013  72.3    55.5  229318  228339.636364   \n6   Region Hovedstaden  2014  72.5    55.6  235023  228339.636364   \n7   Region Hovedstaden  2015  73.2    57.7  241364  228339.636364   \n8   Region Hovedstaden  2016  73.8    58.7  244771  228339.636364   \n9   Region Hovedstaden  2017  74.4    60.5  250257  228339.636364   \n10  Region Hovedstaden  2018  75.3    63.0  256470  228339.636364   \n11  Region Midtjylland  2008  77.0    62.7  192416  224758.909091   \n12  Region Midtjylland  2009  73.4    55.2  197157  224758.909091   \n13  Region Midtjylland  2010  72.8    52.9  210094  224758.909091   \n14  Region Midtjylland  2011  72.4    50.0  215844  224758.909091   \n15  Region Midtjylland  2012  71.8    47.5  221785  224758.909091   \n16  Region Midtjylland  2013  71.7    47.2  227787  224758.909091   \n17  Region Midtjylland  2014  72.2    49.3  227510  224758.909091   \n18  Region Midtjylland  2015  72.5    50.9  236211  224758.909091   \n19  Region Midtjylland  2016  73.3    51.3  240838  224758.909091   \n20  Region Midtjylland  2017  74.1    53.0  248821  224758.909091   \n21  Region Midtjylland  2018  75.0    54.1  253885  224758.909091   \n22  Region Nordjylland  2008  75.2    49.3  184455  215044.545455   \n23  Region Nordjylland  2009  71.5    44.4  187773  215044.545455   \n24  Region Nordjylland  2010  71.2    45.7  199859  215044.545455   \n25  Region Nordjylland  2011  71.0    44.1  207045  215044.545455   \n26  Region Nordjylland  2012  70.6    42.8  213414  215044.545455   \n27  Region Nordjylland  2013  70.2    42.4  219289  215044.545455   \n28  Region Nordjylland  2014  70.3    42.2  220841  215044.545455   \n29  Region Nordjylland  2015  70.7    44.8  224711  215044.545455   \n30  Region Nordjylland  2016  71.7    46.3  229358  215044.545455   \n31  Region Nordjylland  2017  72.2    47.4  238065  215044.545455   \n32  Region Nordjylland  2018  73.4    47.9  240680  215044.545455   \n33     Region Sjælland  2008  75.7    64.0  192355  222744.818182   \n34     Region Sjælland  2009  72.7    56.8  194916  222744.818182   \n35     Region Sjælland  2010  71.9    55.0  209777  222744.818182   \n36     Region Sjælland  2011  71.6    52.3  212911  222744.818182   \n37     Region Sjælland  2012  70.9    52.4  218913  222744.818182   \n38     Region Sjælland  2013  71.0    51.8  225441  222744.818182   \n39     Region Sjælland  2014  71.3    53.4  229824  222744.818182   \n40     Region Sjælland  2015  71.9    55.7  234122  222744.818182   \n41     Region Sjælland  2016  72.6    56.9  237820  222744.818182   \n42     Region Sjælland  2017  73.3    58.6  244885  222744.818182   \n43     Region Sjælland  2018  74.4    59.1  249229  222744.818182   \n44   Region Syddanmark  2008  75.7    59.6  186939  215945.181818   \n45   Region Syddanmark  2009  72.0    52.4  190717  215945.181818   \n46   Region Syddanmark  2010  71.2    49.4  204138  215945.181818   \n47   Region Syddanmark  2011  70.7    48.4  208367  215945.181818   \n48   Region Syddanmark  2012  70.0    47.5  212855  215945.181818   \n49   Region Syddanmark  2013  70.1    46.4  218032  215945.181818   \n\n    diff_to_mean  \n0  -30647.636364  \n1  -29873.636364  \n2  -13719.636364  \n3   -8724.636364  \n4   -4199.636364  \n5     978.363636  \n6    6683.363636  \n7   13024.363636  \n8   16431.363636  \n9   21917.363636  \n10  28130.363636  \n11 -32342.909091  \n12 -27601.909091  \n13 -14664.909091  \n14  -8914.909091  \n15  -2973.909091  \n16   3028.090909  \n17   2751.090909  \n18  11452.090909  \n19  16079.090909  \n20  24062.090909  \n21  29126.090909  \n22 -30589.545455  \n23 -27271.545455  \n24 -15185.545455  \n25  -7999.545455  \n26  -1630.545455  \n27   4244.454545  \n28   5796.454545  \n29   9666.454545  \n30  14313.454545  \n31  23020.454545  \n32  25635.454545  \n33 -30389.818182  \n34 -27828.818182  \n35 -12967.818182  \n36  -9833.818182  \n37  -3831.818182  \n38   2696.181818  \n39   7079.181818  \n40  11377.181818  \n41  15075.181818  \n42  22140.181818  \n43  26484.181818  \n44 -29006.181818  \n45 -25228.181818  \n46 -11807.181818  \n47  -7578.181818  \n48  -3090.181818  \n49   2086.818182  ",
      "text/html": "<div>\n<style scoped>\n    .dataframe tbody tr th:only-of-type {\n        vertical-align: middle;\n    }\n\n    .dataframe tbody tr th {\n        vertical-align: top;\n    }\n\n    .dataframe thead th {\n        text-align: right;\n    }\n</style>\n<table border=\"1\" class=\"dataframe\">\n  <thead>\n    <tr style=\"text-align: right;\">\n      <th></th>\n      <th>area</th>\n      <th>year</th>\n      <th>emp</th>\n      <th>emp_nw</th>\n      <th>income</th>\n      <th>inc_mean</th>\n      <th>diff_to_mean</th>\n    </tr>\n  </thead>\n  <tbody>\n    <tr>\n      <td>0</td>\n      <td>Region Hovedstaden</td>\n      <td>2008</td>\n      <td>75.8</td>\n      <td>65.7</td>\n      <td>197692</td>\n      <td>228339.636364</td>\n      <td>-30647.636364</td>\n    </tr>\n    <tr>\n      <td>1</td>\n      <td>Region Hovedstaden</td>\n      <td>2009</td>\n      <td>73.3</td>\n      <td>59.7</td>\n      <td>198466</td>\n      <td>228339.636364</td>\n      <td>-29873.636364</td>\n    </tr>\n    <tr>\n      <td>2</td>\n      <td>Region Hovedstaden</td>\n      <td>2010</td>\n      <td>72.6</td>\n      <td>57.3</td>\n      <td>214620</td>\n      <td>228339.636364</td>\n      <td>-13719.636364</td>\n    </tr>\n    <tr>\n      <td>3</td>\n      <td>Region Hovedstaden</td>\n      <td>2011</td>\n      <td>72.5</td>\n      <td>56.2</td>\n      <td>219615</td>\n      <td>228339.636364</td>\n      <td>-8724.636364</td>\n    </tr>\n    <tr>\n      <td>4</td>\n      <td>Region Hovedstaden</td>\n      <td>2012</td>\n      <td>72.2</td>\n      <td>55.0</td>\n      <td>224140</td>\n      <td>228339.636364</td>\n      <td>-4199.636364</td>\n    </tr>\n    <tr>\n      <td>5</td>\n      <td>Region Hovedstaden</td>\n      <td>2013</td>\n      <td>72.3</td>\n      <td>55.5</td>\n      <td>229318</td>\n      <td>228339.636364</td>\n      <td>978.363636</td>\n    </tr>\n    <tr>\n      <td>6</td>\n      <td>Region Hovedstaden</td>\n      <td>2014</td>\n      <td>72.5</td>\n      <td>55.6</td>\n      <td>235023</td>\n      <td>228339.636364</td>\n      <td>6683.363636</td>\n    </tr>\n    <tr>\n      <td>7</td>\n      <td>Region Hovedstaden</td>\n      <td>2015</td>\n      <td>73.2</td>\n      <td>57.7</td>\n      <td>241364</td>\n      <td>228339.636364</td>\n      <td>13024.363636</td>\n    </tr>\n    <tr>\n      <td>8</td>\n      <td>Region Hovedstaden</td>\n      <td>2016</td>\n      <td>73.8</td>\n      <td>58.7</td>\n      <td>244771</td>\n      <td>228339.636364</td>\n      <td>16431.363636</td>\n    </tr>\n    <tr>\n      <td>9</td>\n      <td>Region Hovedstaden</td>\n      <td>2017</td>\n      <td>74.4</td>\n      <td>60.5</td>\n      <td>250257</td>\n      <td>228339.636364</td>\n      <td>21917.363636</td>\n    </tr>\n    <tr>\n      <td>10</td>\n      <td>Region Hovedstaden</td>\n      <td>2018</td>\n      <td>75.3</td>\n      <td>63.0</td>\n      <td>256470</td>\n      <td>228339.636364</td>\n      <td>28130.363636</td>\n    </tr>\n    <tr>\n      <td>11</td>\n      <td>Region Midtjylland</td>\n      <td>2008</td>\n      <td>77.0</td>\n      <td>62.7</td>\n      <td>192416</td>\n      <td>224758.909091</td>\n      <td>-32342.909091</td>\n    </tr>\n    <tr>\n      <td>12</td>\n      <td>Region Midtjylland</td>\n      <td>2009</td>\n      <td>73.4</td>\n      <td>55.2</td>\n      <td>197157</td>\n      <td>224758.909091</td>\n      <td>-27601.909091</td>\n    </tr>\n    <tr>\n      <td>13</td>\n      <td>Region Midtjylland</td>\n      <td>2010</td>\n      <td>72.8</td>\n      <td>52.9</td>\n      <td>210094</td>\n      <td>224758.909091</td>\n      <td>-14664.909091</td>\n    </tr>\n    <tr>\n      <td>14</td>\n      <td>Region Midtjylland</td>\n      <td>2011</td>\n      <td>72.4</td>\n      <td>50.0</td>\n      <td>215844</td>\n      <td>224758.909091</td>\n      <td>-8914.909091</td>\n    </tr>\n    <tr>\n      <td>15</td>\n      <td>Region Midtjylland</td>\n      <td>2012</td>\n      <td>71.8</td>\n      <td>47.5</td>\n      <td>221785</td>\n      <td>224758.909091</td>\n      <td>-2973.909091</td>\n    </tr>\n    <tr>\n      <td>16</td>\n      <td>Region Midtjylland</td>\n      <td>2013</td>\n      <td>71.7</td>\n      <td>47.2</td>\n      <td>227787</td>\n      <td>224758.909091</td>\n      <td>3028.090909</td>\n    </tr>\n    <tr>\n      <td>17</td>\n      <td>Region Midtjylland</td>\n      <td>2014</td>\n      <td>72.2</td>\n      <td>49.3</td>\n      <td>227510</td>\n      <td>224758.909091</td>\n      <td>2751.090909</td>\n    </tr>\n    <tr>\n      <td>18</td>\n      <td>Region Midtjylland</td>\n      <td>2015</td>\n      <td>72.5</td>\n      <td>50.9</td>\n      <td>236211</td>\n      <td>224758.909091</td>\n      <td>11452.090909</td>\n    </tr>\n    <tr>\n      <td>19</td>\n      <td>Region Midtjylland</td>\n      <td>2016</td>\n      <td>73.3</td>\n      <td>51.3</td>\n      <td>240838</td>\n      <td>224758.909091</td>\n      <td>16079.090909</td>\n    </tr>\n    <tr>\n      <td>20</td>\n      <td>Region Midtjylland</td>\n      <td>2017</td>\n      <td>74.1</td>\n      <td>53.0</td>\n      <td>248821</td>\n      <td>224758.909091</td>\n      <td>24062.090909</td>\n    </tr>\n    <tr>\n      <td>21</td>\n      <td>Region Midtjylland</td>\n      <td>2018</td>\n      <td>75.0</td>\n      <td>54.1</td>\n      <td>253885</td>\n      <td>224758.909091</td>\n      <td>29126.090909</td>\n    </tr>\n    <tr>\n      <td>22</td>\n      <td>Region Nordjylland</td>\n      <td>2008</td>\n      <td>75.2</td>\n      <td>49.3</td>\n      <td>184455</td>\n      <td>215044.545455</td>\n      <td>-30589.545455</td>\n    </tr>\n    <tr>\n      <td>23</td>\n      <td>Region Nordjylland</td>\n      <td>2009</td>\n      <td>71.5</td>\n      <td>44.4</td>\n      <td>187773</td>\n      <td>215044.545455</td>\n      <td>-27271.545455</td>\n    </tr>\n    <tr>\n      <td>24</td>\n      <td>Region Nordjylland</td>\n      <td>2010</td>\n      <td>71.2</td>\n      <td>45.7</td>\n      <td>199859</td>\n      <td>215044.545455</td>\n      <td>-15185.545455</td>\n    </tr>\n    <tr>\n      <td>25</td>\n      <td>Region Nordjylland</td>\n      <td>2011</td>\n      <td>71.0</td>\n      <td>44.1</td>\n      <td>207045</td>\n      <td>215044.545455</td>\n      <td>-7999.545455</td>\n    </tr>\n    <tr>\n      <td>26</td>\n      <td>Region Nordjylland</td>\n      <td>2012</td>\n      <td>70.6</td>\n      <td>42.8</td>\n      <td>213414</td>\n      <td>215044.545455</td>\n      <td>-1630.545455</td>\n    </tr>\n    <tr>\n      <td>27</td>\n      <td>Region Nordjylland</td>\n      <td>2013</td>\n      <td>70.2</td>\n      <td>42.4</td>\n      <td>219289</td>\n      <td>215044.545455</td>\n      <td>4244.454545</td>\n    </tr>\n    <tr>\n      <td>28</td>\n      <td>Region Nordjylland</td>\n      <td>2014</td>\n      <td>70.3</td>\n      <td>42.2</td>\n      <td>220841</td>\n      <td>215044.545455</td>\n      <td>5796.454545</td>\n    </tr>\n    <tr>\n      <td>29</td>\n      <td>Region Nordjylland</td>\n      <td>2015</td>\n      <td>70.7</td>\n      <td>44.8</td>\n      <td>224711</td>\n      <td>215044.545455</td>\n      <td>9666.454545</td>\n    </tr>\n    <tr>\n      <td>30</td>\n      <td>Region Nordjylland</td>\n      <td>2016</td>\n      <td>71.7</td>\n      <td>46.3</td>\n      <td>229358</td>\n      <td>215044.545455</td>\n      <td>14313.454545</td>\n    </tr>\n    <tr>\n      <td>31</td>\n      <td>Region Nordjylland</td>\n      <td>2017</td>\n      <td>72.2</td>\n      <td>47.4</td>\n      <td>238065</td>\n      <td>215044.545455</td>\n      <td>23020.454545</td>\n    </tr>\n    <tr>\n      <td>32</td>\n      <td>Region Nordjylland</td>\n      <td>2018</td>\n      <td>73.4</td>\n      <td>47.9</td>\n      <td>240680</td>\n      <td>215044.545455</td>\n      <td>25635.454545</td>\n    </tr>\n    <tr>\n      <td>33</td>\n      <td>Region Sjælland</td>\n      <td>2008</td>\n      <td>75.7</td>\n      <td>64.0</td>\n      <td>192355</td>\n      <td>222744.818182</td>\n      <td>-30389.818182</td>\n    </tr>\n    <tr>\n      <td>34</td>\n      <td>Region Sjælland</td>\n      <td>2009</td>\n      <td>72.7</td>\n      <td>56.8</td>\n      <td>194916</td>\n      <td>222744.818182</td>\n      <td>-27828.818182</td>\n    </tr>\n    <tr>\n      <td>35</td>\n      <td>Region Sjælland</td>\n      <td>2010</td>\n      <td>71.9</td>\n      <td>55.0</td>\n      <td>209777</td>\n      <td>222744.818182</td>\n      <td>-12967.818182</td>\n    </tr>\n    <tr>\n      <td>36</td>\n      <td>Region Sjælland</td>\n      <td>2011</td>\n      <td>71.6</td>\n      <td>52.3</td>\n      <td>212911</td>\n      <td>222744.818182</td>\n      <td>-9833.818182</td>\n    </tr>\n    <tr>\n      <td>37</td>\n      <td>Region Sjælland</td>\n      <td>2012</td>\n      <td>70.9</td>\n      <td>52.4</td>\n      <td>218913</td>\n      <td>222744.818182</td>\n      <td>-3831.818182</td>\n    </tr>\n    <tr>\n      <td>38</td>\n      <td>Region Sjælland</td>\n      <td>2013</td>\n      <td>71.0</td>\n      <td>51.8</td>\n      <td>225441</td>\n      <td>222744.818182</td>\n      <td>2696.181818</td>\n    </tr>\n    <tr>\n      <td>39</td>\n      <td>Region Sjælland</td>\n      <td>2014</td>\n      <td>71.3</td>\n      <td>53.4</td>\n      <td>229824</td>\n      <td>222744.818182</td>\n      <td>7079.181818</td>\n    </tr>\n    <tr>\n      <td>40</td>\n      <td>Region Sjælland</td>\n      <td>2015</td>\n      <td>71.9</td>\n      <td>55.7</td>\n      <td>234122</td>\n      <td>222744.818182</td>\n      <td>11377.181818</td>\n    </tr>\n    <tr>\n      <td>41</td>\n      <td>Region Sjælland</td>\n      <td>2016</td>\n      <td>72.6</td>\n      <td>56.9</td>\n      <td>237820</td>\n      <td>222744.818182</td>\n      <td>15075.181818</td>\n    </tr>\n    <tr>\n      <td>42</td>\n      <td>Region Sjælland</td>\n      <td>2017</td>\n      <td>73.3</td>\n      <td>58.6</td>\n      <td>244885</td>\n      <td>222744.818182</td>\n      <td>22140.181818</td>\n    </tr>\n    <tr>\n      <td>43</td>\n      <td>Region Sjælland</td>\n      <td>2018</td>\n      <td>74.4</td>\n      <td>59.1</td>\n      <td>249229</td>\n      <td>222744.818182</td>\n      <td>26484.181818</td>\n    </tr>\n    <tr>\n      <td>44</td>\n      <td>Region Syddanmark</td>\n      <td>2008</td>\n      <td>75.7</td>\n      <td>59.6</td>\n      <td>186939</td>\n      <td>215945.181818</td>\n      <td>-29006.181818</td>\n    </tr>\n    <tr>\n      <td>45</td>\n      <td>Region Syddanmark</td>\n      <td>2009</td>\n      <td>72.0</td>\n      <td>52.4</td>\n      <td>190717</td>\n      <td>215945.181818</td>\n      <td>-25228.181818</td>\n    </tr>\n    <tr>\n      <td>46</td>\n      <td>Region Syddanmark</td>\n      <td>2010</td>\n      <td>71.2</td>\n      <td>49.4</td>\n      <td>204138</td>\n      <td>215945.181818</td>\n      <td>-11807.181818</td>\n    </tr>\n    <tr>\n      <td>47</td>\n      <td>Region Syddanmark</td>\n      <td>2011</td>\n      <td>70.7</td>\n      <td>48.4</td>\n      <td>208367</td>\n      <td>215945.181818</td>\n      <td>-7578.181818</td>\n    </tr>\n    <tr>\n      <td>48</td>\n      <td>Region Syddanmark</td>\n      <td>2012</td>\n      <td>70.0</td>\n      <td>47.5</td>\n      <td>212855</td>\n      <td>215945.181818</td>\n      <td>-3090.181818</td>\n    </tr>\n    <tr>\n      <td>49</td>\n      <td>Region Syddanmark</td>\n      <td>2013</td>\n      <td>70.1</td>\n      <td>46.4</td>\n      <td>218032</td>\n      <td>215945.181818</td>\n      <td>2086.818182</td>\n    </tr>\n  </tbody>\n</table>\n</div>"
     },
     "metadata": {},
     "execution_count": 14
    }
   ],
   "source": [
    "#The final dataset\n",
    "data_true.head(50)"
   ]
  },
  {
   "cell_type": "markdown",
   "metadata": {},
   "source": [
    "## Descriptive statistics"
   ]
  },
  {
   "cell_type": "code",
   "execution_count": 15,
   "metadata": {},
   "outputs": [
    {
     "output_type": "stream",
     "name": "stdout",
     "text": "The mean employment rate of the total population by region\n"
    },
    {
     "output_type": "execute_result",
     "data": {
      "text/plain": "area\nRegion Hovedstaden    73.445455\nRegion Midtjylland    73.290909\nRegion Nordjylland    71.636364\nRegion Sjælland       72.481818\nRegion Syddanmark     71.700000\nName: emp, dtype: float64"
     },
     "metadata": {},
     "execution_count": 15
    }
   ],
   "source": [
    "#Plain desriptive statistics\n",
    "data_true.describe()\n",
    "#Mean\n",
    "print(\" The mean employment rate of the total population by region\")\n",
    "data_true.groupby('area')['emp'].apply(lambda x: x.mean()).head()\n"
   ]
  },
  {
   "cell_type": "code",
   "execution_count": 16,
   "metadata": {},
   "outputs": [
    {
     "output_type": "stream",
     "name": "stdout",
     "text": "The mean employmentrate of descendants of non-western immigrants\n"
    },
    {
     "output_type": "execute_result",
     "data": {
      "text/plain": "area\nRegion Hovedstaden    58.627273\nRegion Midtjylland    52.190909\nRegion Nordjylland    45.209091\nRegion Sjælland       56.000000\nRegion Syddanmark     50.136364\nName: emp_nw, dtype: float64"
     },
     "metadata": {},
     "execution_count": 16
    }
   ],
   "source": [
    "print(\"The mean employmentrate of descendants of non-western immigrants\")\n",
    "data_true.groupby('area')['emp_nw'].apply(lambda x: x.mean()).head()"
   ]
  },
  {
   "cell_type": "markdown",
   "metadata": {},
   "source": [
    "# Plotting both employment rates for the regions"
   ]
  },
  {
   "cell_type": "code",
   "execution_count": 17,
   "metadata": {},
   "outputs": [],
   "source": [
    "import ipywidgets as widgets\n",
    "def plot_data_true(df, area): \n",
    "    I = df['area'] == area\n",
    "    ax=df.loc[I,:].plot(x='year', y={'emp_nw','emp'}, style='-o', legend=False)"
   ]
  },
  {
   "cell_type": "code",
   "execution_count": 18,
   "metadata": {},
   "outputs": [
    {
     "output_type": "display_data",
     "data": {
      "text/plain": "interactive(children=(Dropdown(description='area', index=3, options=('Region Midtjylland', 'Region Nordjylland…",
      "application/vnd.jupyter.widget-view+json": {
       "version_major": 2,
       "version_minor": 0,
       "model_id": "1157b03095384194b5449c44261a9499"
      }
     },
     "metadata": {}
    }
   ],
   "source": [
    "widgets.interact(plot_data_true, \n",
    "    df = widgets.fixed(data_true),\n",
    "    area = widgets.Dropdown(description='area', \n",
    "                                    options=data.area.unique(), \n",
    "                                    value='Region Hovedstaden')\n",
    "); "
   ]
  },
  {
   "cell_type": "markdown",
   "metadata": {},
   "source": [
    "# Plotting the disposable income of the regions over years."
   ]
  },
  {
   "cell_type": "code",
   "execution_count": 19,
   "metadata": {},
   "outputs": [],
   "source": [
    "#Plotting income. \n",
    "import ipywidgets as widgets\n",
    "def plot_data_true(df, area): \n",
    "    I = df['area'] == area\n",
    "    ax=df.loc[I,:].plot(x='year', y='income', style='-o', legend=False)"
   ]
  },
  {
   "cell_type": "code",
   "execution_count": 20,
   "metadata": {},
   "outputs": [
    {
     "output_type": "display_data",
     "data": {
      "text/plain": "interactive(children=(Dropdown(description='area', index=3, options=('Region Midtjylland', 'Region Nordjylland…",
      "application/vnd.jupyter.widget-view+json": {
       "version_major": 2,
       "version_minor": 0,
       "model_id": "fe04cb90fbcb42a8b9cf47b4db9e3fda"
      }
     },
     "metadata": {}
    }
   ],
   "source": [
    "widgets.interact(plot_data_true, \n",
    "    df = widgets.fixed(data_true),\n",
    "    area = widgets.Dropdown(description='area', \n",
    "                                    options=data.area.unique(), \n",
    "                                    value='Region Hovedstaden')\n",
    "); "
   ]
  },
  {
   "cell_type": "markdown",
   "metadata": {},
   "source": [
    "# Plotting the difference to the mean for income"
   ]
  },
  {
   "cell_type": "code",
   "execution_count": 21,
   "metadata": {},
   "outputs": [],
   "source": [
    "#Plotting income. \n",
    "import ipywidgets as widgets\n",
    "def plot_data_true(df, area): \n",
    "    I = df['area'] == area\n",
    "    ax=df.loc[I,:].plot(x='year', y='diff_to_mean', style='-o', legend=False)"
   ]
  },
  {
   "cell_type": "code",
   "execution_count": 22,
   "metadata": {},
   "outputs": [
    {
     "output_type": "display_data",
     "data": {
      "text/plain": "interactive(children=(Dropdown(description='area', index=3, options=('Region Midtjylland', 'Region Nordjylland…",
      "application/vnd.jupyter.widget-view+json": {
       "version_major": 2,
       "version_minor": 0,
       "model_id": "d3aacfd627f745e8889a3c7a719d5212"
      }
     },
     "metadata": {}
    }
   ],
   "source": [
    "widgets.interact(plot_data_true, \n",
    "    df = widgets.fixed(data_true),\n",
    "    area = widgets.Dropdown(description='area', \n",
    "                                    options=data.area.unique(), \n",
    "                                    value='Region Hovedstaden')\n",
    "); "
   ]
  },
  {
   "cell_type": "markdown",
   "metadata": {},
   "source": [
    "## Conclusion"
   ]
  },
  {
   "cell_type": "markdown",
   "metadata": {},
   "source": [
    "We have looked into the employmentrates of descendants of non-western immigrants and the total population in Denmark at a regional level. From this we have seen that the employmentrate of the decendants is lower for all regions across the whole period 2008-2018. From the graph it seems that the decendants were impacted more by the financial crisis than the total employment rate, as the employment rate of the descendants fell more. \n",
    "\n",
    "From the income variabel we can see that the disposable income have been increasing across the timeperiod. It seems not to be affected by the financial crisis in 2012 were the employment rates fell."
   ]
  }
 ],
 "metadata": {
  "kernelspec": {
   "display_name": "Python 3.7.4 64-bit ('base': conda)",
   "language": "python",
   "name": "python37464bitbasecondab3aec9ee691549a1ae01a8ff032db0c4"
  },
  "language_info": {
   "codemirror_mode": {
    "name": "ipython",
    "version": 3
   },
   "file_extension": ".py",
   "mimetype": "text/x-python",
   "name": "python",
   "nbconvert_exporter": "python",
   "pygments_lexer": "ipython3",
   "version": "3.7.4-final"
  }
 },
 "nbformat": 4,
 "nbformat_minor": 4
}