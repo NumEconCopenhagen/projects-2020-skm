{
 "cells": [
  {
   "cell_type": "markdown",
   "metadata": {},
   "source": [
    "# The IS-LM-PC model"
   ]
  },
  {
   "cell_type": "code",
   "execution_count": 1,
   "metadata": {},
   "outputs": [],
   "source": [
    "import numpy as np\n",
    "import sympy as sm\n",
    "from scipy import optimize\n",
    "from IPython.display import display, Markdown\n",
    "import matplotlib.pyplot as plt\n",
    "import sympy\n",
    "from IPython.display import display, Markdown"
   ]
  },
  {
   "cell_type": "markdown",
   "metadata": {},
   "source": [
    "The IS-LM-PC model is a basic macroeconomic model which has replaced the AS-AD model in some newer macroeconomic textbooks. It describes the medium run by combining the IS-LM model with the Phillips curve, thus creating a relation between inflation, unemployment, the output gap, and interest rate policy. \n",
    "\n",
    "We define first the **variables**, **parameters** and **equations** of the IS-LM model:\n",
    "* $Y$ is output (or income) \n",
    "* $C$ is consumption\n",
    "* $c_0$ is the part of consumption that is independent of income\n",
    "* $c_1$ is the marginal propensity to consume\n",
    "* $T$ is taxes net of transfers\n",
    "* $t_0$ is the part of taxes that is independent of income\n",
    "* $t_1$ is the tax rate on income\n",
    "* $I$ is investment\n",
    "* $b_0$ is the part of investment that is independent of income and the interest rate\n",
    "* $b_1$ is the income sensitivity of investment  \n",
    "* $b_2$ is the interest rate sensitivity of investment\n",
    "* $G$ is government spending\n",
    "* $r$ is the real interest rate\n",
    "\n",
    "$$\n",
    "\\begin{aligned}\n",
    "Y=C+I+G\\\\\n",
    "C=c_{0}+c_{1}*(Y-t_{0}-t_{1}Y)\\\\\n",
    "T=t_{0}+t_{1}Y\\\\\n",
    "I=b_{0}+b_{1}Y-b_{2}r\\\\\n",
    "\\end{aligned}\n",
    "$$\n",
    "\n"
   ]
  },
  {
   "cell_type": "markdown",
   "metadata": {},
   "source": [
    "\n"
   ]
  },
  {
   "cell_type": "markdown",
   "metadata": {},
   "source": [
    "\n"
   ]
  },
  {
   "cell_type": "markdown",
   "metadata": {},
   "source": [
    "We start out by defing variables, parameters and the equations for Y, C, T,I symbolically. "
   ]
  },
  {
   "cell_type": "code",
   "execution_count": 2,
   "metadata": {},
   "outputs": [],
   "source": [
    "y = sm.symbols('Y')\n",
    "c = sm.symbols('C')\n",
    "i = sm.symbols('I')\n",
    "g = sm.symbols('G')\n",
    "t = sm.symbols('T')\n",
    "i_n = sm.symbols('i')\n",
    "r = sm.symbols('r')\n",
    "c0 = sm.symbols('c_0')\n",
    "c1 = sm.symbols('c_1')\n",
    "t0 = sm.symbols('t_0')\n",
    "t1 = sm.symbols('t_1')\n",
    "b0 = sm.symbols('b_0')\n",
    "b1 = sm.symbols('b_1')\n",
    "b2 = sm.symbols('b_2')\n",
    "r_bar = sm.symbols(\"rbar\")\n",
    "\n",
    "eqC = sm.Eq(c, (c0+c1*(y-t0-t1*y)))\n",
    "eqT = sm.Eq(t, (t0+t1*y))\n",
    "eqI = sm.Eq(i, (b0+b1*y-b2*r))\n",
    "\n",
    "eq_t = t0+t1*y\n",
    "eq_c = c0+c1*y-eq_t\n",
    "eq_i = b0+b1*y-b2*r\n",
    "eq_y = sm.Eq(y, (eq_c+eq_i+g))"
   ]
  },
  {
   "cell_type": "markdown",
   "metadata": {},
   "source": [
    "We now solve the system of equations to find an expression for Y, which expess the IS curve."
   ]
  },
  {
   "cell_type": "code",
   "execution_count": 3,
   "metadata": {},
   "outputs": [
    {
     "data": {
      "text/markdown": [
       "$IS: Y$ = $\\frac{- G - b_{0} + b_{2} r - c_{0} + t_{0}}{b_{1} + c_{1} - t_{1} - 1}$"
      ],
      "text/plain": [
       "<IPython.core.display.Markdown object>"
      ]
     },
     "metadata": {},
     "output_type": "display_data"
    }
   ],
   "source": [
    "\n",
    "c_func = sm.lambdify((c0,c1,t0,t1,y),sm.solve(eqC,c)[0])\n",
    "t_func = sm.lambdify((t0,t1,y),sm.solve(eqT,t)[0])\n",
    "i_func = sm.lambdify((b0,b1,b2,r,y),sm.solve(eqI,i)[0])\n",
    "\n",
    "y_func = sm.lambdify((c0,c1,t0,t1,b0,b1,b2,r,g),sm.solve((eq_y), y)[0])\n",
    "y_solve = sm.solve((eq_y), y)[0]\n",
    "display(Markdown('$IS: Y$ = {}'.format(sympy.latex(y_solve, mode='inline'))))"
   ]
  },
  {
   "cell_type": "markdown",
   "metadata": {},
   "source": [
    "\n",
    "The central bank sets the interest rate directly, such that the real interest rate equals $r=\\bar{r}$. The LM curve in this model is thus simply:\n",
    "\n",
    "$$\n",
    "\\begin{aligned}\n",
    "LM: r=\\bar{r}\\\\\n",
    "\\end{aligned}\n",
    "$$\n",
    "\n",
    "Combining the IS curve and the LM curve gives the equilibrium level of output:\n",
    "\n",
    "Thus, we substitute $\\bar{r}$ into the expression we found for the IS curve above:"
   ]
  },
  {
   "cell_type": "code",
   "execution_count": 4,
   "metadata": {},
   "outputs": [
    {
     "data": {
      "text/markdown": [
       "Equilibrium level of output = $\\frac{- G - b_{0} + b_{2} \\bar{r} - c_{0} + t_{0}}{b_{1} + c_{1} - t_{1} - 1}$"
      ],
      "text/plain": [
       "<IPython.core.display.Markdown object>"
      ]
     },
     "metadata": {},
     "output_type": "display_data"
    }
   ],
   "source": [
    "y_equi = y_func(c0,c1,t0,t1,b0,b1,b2,r_bar,g)\n",
    "display(Markdown('Equilibrium level of output = {}'.format(sympy.latex(y_equi, mode='inline'))))"
   ]
  },
  {
   "cell_type": "markdown",
   "metadata": {},
   "source": [
    "We then define globals for the parameters (and G) and then solve for the output again"
   ]
  },
  {
   "cell_type": "code",
   "execution_count": 5,
   "metadata": {},
   "outputs": [],
   "source": [
    "c0 = 100\n",
    "c1 = 0.8\n",
    "t0 = 100\n",
    "t1 = 0.4\n",
    "b0 = 100\n",
    "b1 = 0.1\n",
    "b2 = 10 \n",
    "g= 500\n"
   ]
  },
  {
   "cell_type": "code",
   "execution_count": 6,
   "metadata": {},
   "outputs": [
    {
     "data": {
      "text/markdown": [
       "$Y$ = $1200.0 - 20.0 \\bar{r}$"
      ],
      "text/plain": [
       "<IPython.core.display.Markdown object>"
      ]
     },
     "metadata": {},
     "output_type": "display_data"
    }
   ],
   "source": [
    "y_num = y_func(c0,c1,t0,t1,b0,b1,b2,r_bar,g)\n",
    "display(Markdown('$Y$ = {}'.format(sympy.latex(y_num, mode='inline'))))"
   ]
  },
  {
   "cell_type": "markdown",
   "metadata": {},
   "source": [
    "We plot this in a figure. We also plot the LM curve for $\\bar{r}$ = 10. The intersection between the two curves describes the equilibrium.\n"
   ]
  },
  {
   "cell_type": "code",
   "execution_count": 7,
   "metadata": {},
   "outputs": [
    {
     "data": {
      "text/plain": [
       "[<matplotlib.lines.Line2D at 0x2977308c888>]"
      ]
     },
     "execution_count": 7,
     "metadata": {},
     "output_type": "execute_result"
    },
    {
     "data": {
      "image/png": "[encoded data removed]",
      "text/plain": [
       "<Figure size 720x576 with 1 Axes>"
      ]
     },
     "metadata": {},
     "output_type": "display_data"
    }
   ],
   "source": [
    "# Number of values in grid\n",
    "N = 100\n",
    " \n",
    "r_vec = np.linspace(0,20,N)\n",
    "y_vec = np.empty(N)\n",
    "rbar_vec = np.ones(N)*10 # interest rate = 10\n",
    " \n",
    "for i,r_bar_plot in enumerate(r_vec):\n",
    "    r_bar_plot = r_vec[i]\n",
    "    y_vec[i] = y_func(c0,c1,t0,t1,b0,b1,b2,r_bar_plot,g)\n",
    "\n",
    "# creates the figures\n",
    "plt.style.use(\"seaborn\")\n",
    "\n",
    "#plt.figure()\n",
    "#plt.subplot(211)\n",
    "#plt.plot(y_vec,r_vec,'r',y_vec,rbar_vec,'g')\n",
    "\n",
    "#plt.subplot(212)\n",
    "#plt.plot(y_vec,pi_vec,'b')\n",
    "\n",
    "fig = plt.figure(figsize=(10,8))\n",
    "\n",
    "fig_ISLM = fig.add_subplot(2,1,1)\n",
    "fig_ISLM.plot(y_vec,r_vec, label='IS')\n",
    "fig_ISLM.plot(y_vec,rbar_vec, label='LM')\n",
    "fig_ISLM.set_xlim([800,1200])\n",
    "plt.legend()\n",
    "\n",
    "fig_ISLM.set_title('IS-LM')\n",
    "fig_ISLM.set_xlabel('$Y$')\n",
    "fig_ISLM.set_ylabel('$r$') \n",
    "fig_ISLM.grid(True)\n",
    "fig_ISLM.plot(1000,10, 'go')\n"
   ]
  },
  {
   "cell_type": "markdown",
   "metadata": {},
   "source": [
    "## Adding the Phillips curve"
   ]
  },
  {
   "cell_type": "markdown",
   "metadata": {},
   "source": [
    "The Phillips curve describes the relationship between the unemployment rate and inflation. We assume the following relationship:\n",
    "$$\n",
    "\\begin{aligned}\n",
    "\\pi-\\pi^{e}=-\\alpha*(u-u_{n})\\\\\n",
    "\\end{aligned}\n",
    "$$\n",
    "\n",
    "where\n",
    "* $\\pi$ is inflation\n",
    "* $\\pi^{e}$ is expected inflation\n",
    "* $u$ is the unemployment rate\n",
    "* $u_n$ is the natural rate of unemployment (or NAIRU)\n",
    "* $\\alpha$ is some parameter describing the sensitivity of wages to the unemplyment rate\n",
    "\n",
    "\n",
    "We further assume that inflation expectations are anchored, such that $\\pi^{e}$ = $\\pi^{a}$. This corresponds to the *classic* or *original* Phillips curve. \n",
    "\n",
    "We assume a simple production function with labour as the only input, and one unit of labour producing one unit of output, such that output is equal to employment: \n",
    "\n",
    "$$\n",
    "\\begin{aligned}\n",
    "Y=L*(1-u)\\\\\n",
    "Y_n=L*(1-u_n)\\\\\n",
    "\\end{aligned}\n",
    "$$\n",
    "\n",
    "where $L$ is the size of the labour force, and $Y_n$ is the *potential* or *natural* level of output. \n",
    "\n",
    "This lets us describe the evolution of inflation as a function of the output gap:\n",
    "\n",
    "$$\n",
    "\\begin{aligned}\n",
    "\\pi-\\pi^{a}=\\frac{\\alpha}{L}\\left(Y-Y_{n}\\right)\n",
    "\\end{aligned}\n",
    "$$\n",
    "\n",
    "We can thus plot the error in the inflation forecast as a funtion of $Y$, for given values of $\\alpha$, the labour force, and potential output."
   ]
  },
  {
   "cell_type": "markdown",
   "metadata": {},
   "source": [
    "We define additional symbols and parameters and write up the Phillips curve"
   ]
  },
  {
   "cell_type": "code",
   "execution_count": 8,
   "metadata": {},
   "outputs": [
    {
     "name": "stdout",
     "output_type": "stream",
     "text": [
      "Thus the phillups curve is given by: \n"
     ]
    },
    {
     "data": {
      "text/markdown": [
       "$Y$ = $(\\pi-\\pi^{a}) L / \\alpha + Y_{n}$"
      ],
      "text/plain": [
       "<IPython.core.display.Markdown object>"
      ]
     },
     "metadata": {},
     "output_type": "display_data"
    }
   ],
   "source": [
    "y_n = sm.symbols('Y_n')\n",
    "inf = sm.symbols('pi')\n",
    "inf_bar = sm.symbols('pibar')\n",
    "inf_a = sm.symbols('(\\pi-\\pi^{a})')\n",
    "alpha = sm.symbols('alpha')\n",
    "l = sm.symbols('L')\n",
    "\n",
    "#Eq for the Phillips curve\n",
    "eq_PC = sm.Eq((inf_a), ((alpha/l)*(y-y_n)))\n",
    "\n",
    "PC_func = sm.lambdify((inf_a,alpha,l,y_n),sm.solve((eq_PC), y)[0])\n",
    "PC_solve = sm.solve((eq_PC), y)[0]\n",
    "\n",
    "\n",
    "print('Thus the phillups curve is given by: ')\n",
    "display(Markdown('$Y$ = {}'.format(sm.latex(PC_solve, mode='inline'))))"
   ]
  },
  {
   "cell_type": "markdown",
   "metadata": {},
   "source": [
    "    "
   ]
  },
  {
   "cell_type": "markdown",
   "metadata": {},
   "source": [
    "we assign alpha=0.5 and the labour force (l) with size 1000, to simplify the expression:"
   ]
  },
  {
   "cell_type": "code",
   "execution_count": 9,
   "metadata": {},
   "outputs": [
    {
     "data": {
      "text/markdown": [
       "$Y$ = $2000.0 (\\pi-\\pi^{a}) + Y_{n}$"
      ],
      "text/plain": [
       "<IPython.core.display.Markdown object>"
      ]
     },
     "metadata": {},
     "output_type": "display_data"
    }
   ],
   "source": [
    "alpha_num=0.5\n",
    "l_num=1000\n",
    "\n",
    "PC_num = PC_func(inf_a,alpha_num,l_num,y_n)\n",
    "display(Markdown('$Y$ = {}'.format(sm.latex(PC_num, mode='inline'))))"
   ]
  },
  {
   "cell_type": "markdown",
   "metadata": {},
   "source": [
    "### Plotting the Phillips curve\n",
    "\n",
    "For plotting the Phillips curve we set $Y_n$=950"
   ]
  },
  {
   "cell_type": "code",
   "execution_count": 10,
   "metadata": {},
   "outputs": [],
   "source": [
    "y_n_num=950"
   ]
  },
  {
   "cell_type": "code",
   "execution_count": 11,
   "metadata": {},
   "outputs": [
    {
     "data": {
      "text/plain": [
       "Text(1000, 10, 'Eq')"
      ]
     },
     "execution_count": 11,
     "metadata": {},
     "output_type": "execute_result"
    },
    {
     "data": {
      "image/png": "[encoded data removed]",
      "text/plain": [
       "<Figure size 720x576 with 2 Axes>"
      ]
     },
     "metadata": {},
     "output_type": "display_data"
    }
   ],
   "source": [
    "N = 100\n",
    "\n",
    "# def plot_lines()\n",
    "\n",
    "r_vec = np.linspace(0,20,N)\n",
    "y_vec = np.empty(N)\n",
    "rbar_vec = np.ones(N)*10 # interest rate = 10\n",
    "rbar_vec2 = np.ones(N)*12.5 # interest rate = 12.5\n",
    "\n",
    "inf_vec = np.linspace(0.10,-0.10,N)\n",
    "pi_vec = np.zeros(N) #line where the inflation expectation error is zero\n",
    "PC_vec = np.empty(N)\n",
    "\n",
    "for i,r_bar_plot in enumerate(r_vec):\n",
    "    r_bar_plot = r_vec[i]\n",
    "    y_vec[i] = y_func(c0,c1,t0,t1,b0,b1,b2,r_bar_plot,g)\n",
    "\n",
    "for i,inf_err_plot in enumerate(inf_vec):\n",
    "    inf_err_plot = inf_vec[i]\n",
    "    PC_vec[i] = PC_func(inf_err_plot,alpha_num,l_num,y_n_num)\n",
    "\n",
    "# creates the figures\n",
    "plt.style.use(\"seaborn\")\n",
    "\n",
    "fig = plt.figure(figsize=(10,8))\n",
    "\n",
    "fig_ISLM = fig.add_subplot(2,1,1)\n",
    "fig_ISLM.plot(y_vec,r_vec) # Plots the IS curve\n",
    "fig_ISLM.plot(y_vec,rbar_vec,label='LM curve for r=10') # Plots the LM cuve\n",
    "fig_ISLM.plot(y_vec,rbar_vec2,label='LM curve for r=12.5') \n",
    "fig_ISLM.set_xlim([800,1200])\n",
    "plt.legend()\n",
    "\n",
    "fig_PC = fig.add_subplot(2,1,2)\n",
    "fig_PC.plot(y_vec,pi_vec)\n",
    "fig_PC.plot(PC_vec, inf_vec, label='PC curve')\n",
    "fig_PC.set_xlim([800,1200])\n",
    "plt.legend()\n",
    " \n",
    "fig_ISLM.set_title('IS-LM')\n",
    "fig_ISLM.set_xlabel('$Y$')\n",
    "fig_ISLM.set_ylabel('$r$')\n",
    "fig_ISLM.grid(True)\n",
    "\n",
    "fig_PC.set_title('PC')\n",
    "fig_PC.set_xlabel('$Y$')\n",
    "fig_PC.set_ylabel('$\\pi-\\pi^e$')\n",
    "\n",
    "fig_ISLM.plot(1000,10,'yo')\n",
    "fig_ISLM.plot(950,12.5, 'go')\n",
    "fig_ISLM.annotate('Eq', xy=(1000,10))"
   ]
  },
  {
   "cell_type": "markdown",
   "metadata": {},
   "source": [
    "The PC curve has been drawn for $Y_n$ = 950. We see from the IS-LM diagram that when the real interest rate is 10 pct., actual output is 1000. This results in a positive output gap, leading to inflation being higher than expected inflation by 2.5 pct. \n",
    "\n",
    "The central bank can bring down the inflation rate by increasing the real interest rate. This is drawn as the red line in the IS-LM diagram."
   ]
  },
  {
   "cell_type": "markdown",
   "metadata": {},
   "source": [
    "## Maximizing the utility of the Central Bank"
   ]
  },
  {
   "cell_type": "markdown",
   "metadata": {},
   "source": [
    "We assume that the central bank cares not only about inflation, but also about unemployment. Specifically, we assume that the central bank adjusts the real interest to maximize its utility, given the function\n",
    "$$\n",
    "\\begin{aligned}\n",
    "v=f\\left(\\pi-\\pi^{*},\\,u_{t}-u_{n}\\right)\n",
    "\\end{aligned}\n",
    "$$\n",
    "\n",
    "where $\\pi^{*}$ is the central banks target rate for inflation. (This rate is not necessarily equal to the anchored inflation expectation, $\\bar{\\pi}$.)\n",
    "\n",
    "The central bank faces the constraints set by the relations between unemployment, inflation and the real interest rate by the IS-LM-PC model.\n",
    "\n",
    "To make these contraints more clear, we express inflation and the difference between the actual and natural rates of unemployment as functions of the real interest rate.\n",
    "\n",
    "**Firstly** we find an expression for unemployment:"
   ]
  },
  {
   "cell_type": "code",
   "execution_count": 12,
   "metadata": {},
   "outputs": [
    {
     "data": {
      "text/markdown": [
       "$u$ = $\\left(L - \\frac{- G - b_{0} + b_{2} \\bar{r} - c_{0} + t_{0}}{b_{1} + c_{1} - t_{1} - 1}\\right) / L$"
      ],
      "text/plain": [
       "<IPython.core.display.Markdown object>"
      ]
     },
     "metadata": {},
     "output_type": "display_data"
    }
   ],
   "source": [
    "u = sm.symbols('u')\n",
    "u_n = sm.symbols('u_n')\n",
    "\n",
    "eq_u = sm.Eq(y, (l*(1-u)))\n",
    "\n",
    "u_func = sm.lambdify((y,l),sm.solve((eq_u), u)[0])\n",
    "u_solve = u_func(y_equi,l)\n",
    "display(Markdown('$u$ = {}'.format(sm.latex(u_solve, mode='inline'))))"
   ]
  },
  {
   "cell_type": "markdown",
   "metadata": {},
   "source": [
    "Given the labour force size of 1000 and the previously used parameters, the expression simplifies to:"
   ]
  },
  {
   "cell_type": "code",
   "execution_count": 13,
   "metadata": {},
   "outputs": [
    {
     "data": {
      "text/markdown": [
       "$u$ = $0.02 \\bar{r} - 0.2$"
      ],
      "text/plain": [
       "<IPython.core.display.Markdown object>"
      ]
     },
     "metadata": {},
     "output_type": "display_data"
    }
   ],
   "source": [
    "u_num = u_func(y_num,l_num)\n",
    "display(Markdown('$u$ = {}'.format(sm.latex(u_num, mode='inline'))))"
   ]
  },
  {
   "cell_type": "markdown",
   "metadata": {},
   "source": [
    "**Secondly** we find an expression for the inflation"
   ]
  },
  {
   "cell_type": "code",
   "execution_count": 14,
   "metadata": {},
   "outputs": [
    {
     "data": {
      "text/markdown": [
       "$\\pi$ = $\\left(L \\pi_{targ}^* - Y_{n} \\alpha + \\frac{\\alpha \\left(- G - b_{0} + b_{2} \\bar{r} - c_{0} + t_{0}\\right)}{b_{1} + c_{1} - t_{1} - 1}\\right) / L$"
      ],
      "text/plain": [
       "<IPython.core.display.Markdown object>"
      ]
     },
     "metadata": {},
     "output_type": "display_data"
    }
   ],
   "source": [
    "inf_targ = sm.symbols('\\pi_{targ}^*')  \n",
    "\n",
    "eq_pi = sm.Eq((inf-inf_targ), ((alpha/l)*(y-y_n))) \n",
    "\n",
    "pi_func = sm.lambdify((inf_targ,alpha,l,y,y_n),sm.solve((eq_pi), inf)[0])\n",
    "pi_solve = pi_func(inf_targ,alpha,l,y_equi,y_n)\n",
    "display(Markdown('$\\pi$ = {}'.format(sm.latex(pi_solve, mode='inline'))))"
   ]
  },
  {
   "cell_type": "markdown",
   "metadata": {},
   "source": [
    "We assume the inflation target to be an inflation rate of 3%, which implies inf_targ = 0.03. Thus the expression for the inflation rate can be simplified to:"
   ]
  },
  {
   "cell_type": "code",
   "execution_count": 15,
   "metadata": {},
   "outputs": [
    {
     "data": {
      "text/markdown": [
       "$\\pi$ = $0.175 - 0.01 \\bar{r}$"
      ],
      "text/plain": [
       "<IPython.core.display.Markdown object>"
      ]
     },
     "metadata": {},
     "output_type": "display_data"
    }
   ],
   "source": [
    "inf_targ_num=0.05\n",
    "u_n_num=0.5 ### OBS! Denne kan udledes fra Y_n=950 (Men det gør vi ikke)\n",
    "#pi_num = pi_func(0.05,0.5,1000,y_num,950)\n",
    "pi_num = pi_func(inf_targ_num,u_n_num,l_num,y_num,y_n_num)\n",
    "display(Markdown('$\\pi$ = {}'.format(sm.latex(pi_num, mode='inline'))))\n",
    "\n"
   ]
  },
  {
   "cell_type": "markdown",
   "metadata": {},
   "source": [
    "**Thirdly** We assume a specific form for the central bank utility function: \n",
    "\n",
    "$$\n",
    "\\begin{aligned}\n",
    "v=-75(\\pi-\\pi^{*})^2-(u_{t}-u_{n})\\\\\n",
    "\\end{aligned}\n",
    "$$"
   ]
  },
  {
   "cell_type": "markdown",
   "metadata": {},
   "source": [
    "**Now** we can solve the utility function of the Central Bank for the optimal interest rate: "
   ]
  },
  {
   "cell_type": "code",
   "execution_count": 16,
   "metadata": {},
   "outputs": [
    {
     "name": "stdout",
     "output_type": "stream",
     "text": [
      "The optimal interest rate is 13.17\n"
     ]
    }
   ],
   "source": [
    "def utility_CB(r_bar, inf_targ, u_n):\n",
    "    return-(-75*(0.175-0.01*r_bar-inf_targ)**2-(0.02*r_bar-0.2-u_n)) \n",
    "#     return-(2.5*(0.175-0.01*r_bar-inf_targ)**2-(0.02*r_bar-0.2-u_n)) \n",
    " \n",
    "def solution(inf_targ, u_n):\n",
    "\n",
    "    sol = optimize.minimize_scalar(utility_CB,method='bounded',\n",
    "    bounds=(0,100),args=(inf_targ,u_n))\n",
    "    r_star = sol.x \n",
    "    return r_star\n",
    " \n",
    "i_opt=solution(0.03,0.05)\n",
    "print(f'The optimal interest rate is {i_opt:.2f}')\n"
   ]
  },
  {
   "cell_type": "code",
   "execution_count": 36,
   "metadata": {},
   "outputs": [],
   "source": [
    "def solve(c0,c1,t0,t1,b0,b1,b2,r,g,inf_targ,alpha,l,y_n,y_equi):\n",
    "    \n",
    "    #solve for the optimal level of output\n",
    "    y_opt = y_func(c0,c1,t0,t1,b0,b1,b2,r,g)\n",
    "    \n",
    "    #solve for the optimal level of inflation\n",
    "    pi_opt = pi_func(inf_targ,alpha,l,y_opt,y_n)\n",
    "    \n",
    "    #solve for the optimal level of unemployment\n",
    "    u_opt = u_func(y_opt,l)\n",
    "    \n",
    "    return y_opt, pi_opt, u_opt\n"
   ]
  },
  {
   "cell_type": "code",
   "execution_count": 37,
   "metadata": {},
   "outputs": [
    {
     "name": "stdout",
     "output_type": "stream",
     "text": [
      "The level of output is then 936.67, inflation is 0.07 and the unemployment rate is 0.06\n"
     ]
    }
   ],
   "source": [
    "inf_targ = 0.05\n",
    "alpha = 0.05\n",
    "l = 1000\n",
    "y_n = 500\n",
    "r = i_opt\n",
    "\n",
    "y_opt,pi_opt,u_opt= solve(c0,c1,t0,t1,b0,b1,b2,r,g,inf_targ,alpha,l,y_n,y_equi)\n",
    "\n",
    "print(f'The level of output is then {y_opt:.2f}, inflation is {pi_opt:.2f} and the unemployment rate is {u_opt:.2f}')"
   ]
  },
  {
   "cell_type": "code",
   "execution_count": 151,
   "metadata": {},
   "outputs": [],
   "source": [
    "# y_opt=y_func(100,0.8,100,0.4,100,0.1,10,solution(0.03,0.05),500)\n",
    "# pi_opt=pi_func(0.05,0.5,1000,y_opt,950)\n",
    "# u_opt=u_func(y_opt,1000)\n",
    "# y_opt, pi_opt, u_opt\n",
    "\n",
    "# print(f'The level of output is then {y_opt:.2f}, inflation is {pi_opt:.2f} and the unemployment rate is {u_opt:.2f}')"
   ]
  },
  {
   "cell_type": "markdown",
   "metadata": {},
   "source": [
    "Instead of using the built in optimizer in scipy we can instead use an algorithm"
   ]
  },
  {
   "cell_type": "code",
   "execution_count": 42,
   "metadata": {},
   "outputs": [],
   "source": [
    "def find_root(x0,f,fp,fpp=None,method='newton',max_iter=10000,tol=1e-8,full_info=False):\n",
    "    \"\"\" find root\n",
    "        \n",
    "    Args:\n",
    "    \n",
    "        x0 (float): initial value\n",
    "        f (callable): function\n",
    "        fp (callable): derivative\n",
    "        fp (callable): second derivative\n",
    "        method (str): newton or halley\n",
    "        max_iter (int): maximum number of iterations\n",
    "        tol (float): tolerance\n",
    "        full_info (bool): controls information returned\n",
    "        \n",
    "    Returns:\n",
    "    \n",
    "        x (float/ndarray): root (if full_info, all x tried)\n",
    "        i (int): number of iterations used\n",
    "        fx (ndarray): function values used (if full_info) \n",
    "        fpx (ndarray): derivative values used (if full_info)\n",
    "        fppx (ndarray): second derivative values used (if full_info)\n",
    "        \n",
    "    \"\"\"\n",
    "    \n",
    "    # initialize\n",
    "    x = np.zeros(max_iter)\n",
    "    fx = np.zeros(max_iter) #function value\n",
    "    fpx = np.zeros(max_iter)\n",
    "    fppx = np.zeros(max_iter)\n",
    "    \n",
    "    # iterate\n",
    "    x[0] = x0    #initial guess\n",
    "    i = 0    \n",
    "    while True:\n",
    "        \n",
    "        # step 2: evaluate function and derivatives\n",
    "        fx[i] = f(x[i])\n",
    "        fpx[i] = fp(x[i])\n",
    "        if method == 'halley':\n",
    "            fppx[i] = fpp(x[i])\n",
    "        \n",
    "        # step 3: check convergence\n",
    "        if abs(fx[i]) < tol or i >= max_iter:\n",
    "            break\n",
    "            \n",
    "        # step 4: update x\n",
    "        if method == 'newton':\n",
    "            x[i+1] = x[i] - fx[i]/fpx[i]\n",
    "        elif method == 'halley':\n",
    "            a = fx[i]/fpx[i]\n",
    "            b = a*fppx[i]/(2*fpx[i])\n",
    "            x[i+1] = x[i] - a/(1-b)\n",
    "        \n",
    "        # step 5: increment counter\n",
    "        i += 1\n",
    "        \n",
    "    # return\n",
    "    if full_info:\n",
    "        return x,i,fx,fpx,fppx\n",
    "    else:\n",
    "        return x[i],i"
   ]
  },
  {
   "cell_type": "code",
   "execution_count": 44,
   "metadata": {},
   "outputs": [
    {
     "name": "stdout",
     "output_type": "stream",
     "text": [
      "3 5.720878846220917 3.1312240758668564e-05\n"
     ]
    }
   ],
   "source": [
    "# a. function\n",
    "#f = lambda x: -75*(0.175-0.01*x-inf_targ)**2-(0.02*x-0.2-u_n)\n",
    "f = lambda x: 0.0075*x**2-0.00125*x-0.238281\n",
    "u_n = 0.05\n",
    "inf_targ = 0.03 \n",
    "\n",
    "# b. numerical derivative (forward)\n",
    "stepsize = 1e-8\n",
    "fp_approx = lambda x: (f(x+stepsize)-f(x))/stepsize\n",
    "\n",
    "x,i = find_root(10,f,fp_approx,method='newton')\n",
    "print(i,x,f(x))"
   ]
  },
  {
   "cell_type": "code",
   "execution_count": 45,
   "metadata": {},
   "outputs": [
    {
     "name": "stdout",
     "output_type": "stream",
     "text": [
      "4 5.720520586342054 1.017607796693909e-06\n"
     ]
    }
   ],
   "source": [
    "x,i = find_root(14,f,fp_approx,method='newton')\n",
    "print(i,x,f(x))"
   ]
  },
  {
   "cell_type": "code",
   "execution_count": 43,
   "metadata": {},
   "outputs": [
    {
     "ename": "IndexError",
     "evalue": "index 10000 is out of bounds for axis 0 with size 10000",
     "output_type": "error",
     "traceback": [
      "\u001b[1;31m---------------------------------------------------------------------------\u001b[0m",
      "\u001b[1;31mIndexError\u001b[0m                                Traceback (most recent call last)",
      "\u001b[1;32m<ipython-input-43-99756a09654c>\u001b[0m in \u001b[0;36m<module>\u001b[1;34m\u001b[0m\n\u001b[0;32m      2\u001b[0m \u001b[0mfp\u001b[0m \u001b[1;33m=\u001b[0m \u001b[1;32mlambda\u001b[0m \u001b[0mx\u001b[0m\u001b[1;33m:\u001b[0m \u001b[1;33m-\u001b[0m\u001b[1;36m0.0075\u001b[0m\u001b[1;33m*\u001b[0m\u001b[1;36m2\u001b[0m\u001b[1;33m*\u001b[0m\u001b[0mx\u001b[0m\u001b[1;33m+\u001b[0m\u001b[1;36m0.1975\u001b[0m\u001b[1;33m\u001b[0m\u001b[1;33m\u001b[0m\u001b[0m\n\u001b[0;32m      3\u001b[0m \u001b[1;33m\u001b[0m\u001b[0m\n\u001b[1;32m----> 4\u001b[1;33m \u001b[0mx\u001b[0m\u001b[1;33m,\u001b[0m\u001b[0mi\u001b[0m \u001b[1;33m=\u001b[0m \u001b[0mfind_root\u001b[0m\u001b[1;33m(\u001b[0m\u001b[1;36m10\u001b[0m\u001b[1;33m,\u001b[0m\u001b[0mf\u001b[0m\u001b[1;33m,\u001b[0m\u001b[0mfp\u001b[0m\u001b[1;33m,\u001b[0m\u001b[0mmethod\u001b[0m\u001b[1;33m=\u001b[0m\u001b[1;34m'newton'\u001b[0m\u001b[1;33m)\u001b[0m\u001b[1;33m\u001b[0m\u001b[1;33m\u001b[0m\u001b[0m\n\u001b[0m\u001b[0;32m      5\u001b[0m \u001b[0mprint\u001b[0m\u001b[1;33m(\u001b[0m\u001b[0mi\u001b[0m\u001b[1;33m,\u001b[0m\u001b[0mx\u001b[0m\u001b[1;33m,\u001b[0m\u001b[0mf\u001b[0m\u001b[1;33m(\u001b[0m\u001b[0mx\u001b[0m\u001b[1;33m)\u001b[0m\u001b[1;33m)\u001b[0m\u001b[1;33m\u001b[0m\u001b[1;33m\u001b[0m\u001b[0m\n",
      "\u001b[1;32m<ipython-input-42-1743e30ea35b>\u001b[0m in \u001b[0;36mfind_root\u001b[1;34m(x0, f, fp, fpp, method, max_iter, tol, full_info)\u001b[0m\n\u001b[0;32m     46\u001b[0m         \u001b[1;31m# step 4: update x\u001b[0m\u001b[1;33m\u001b[0m\u001b[1;33m\u001b[0m\u001b[1;33m\u001b[0m\u001b[0m\n\u001b[0;32m     47\u001b[0m         \u001b[1;32mif\u001b[0m \u001b[0mmethod\u001b[0m \u001b[1;33m==\u001b[0m \u001b[1;34m'newton'\u001b[0m\u001b[1;33m:\u001b[0m\u001b[1;33m\u001b[0m\u001b[1;33m\u001b[0m\u001b[0m\n\u001b[1;32m---> 48\u001b[1;33m             \u001b[0mx\u001b[0m\u001b[1;33m[\u001b[0m\u001b[0mi\u001b[0m\u001b[1;33m+\u001b[0m\u001b[1;36m1\u001b[0m\u001b[1;33m]\u001b[0m \u001b[1;33m=\u001b[0m \u001b[0mx\u001b[0m\u001b[1;33m[\u001b[0m\u001b[0mi\u001b[0m\u001b[1;33m]\u001b[0m \u001b[1;33m-\u001b[0m \u001b[0mfx\u001b[0m\u001b[1;33m[\u001b[0m\u001b[0mi\u001b[0m\u001b[1;33m]\u001b[0m\u001b[1;33m/\u001b[0m\u001b[0mfpx\u001b[0m\u001b[1;33m[\u001b[0m\u001b[0mi\u001b[0m\u001b[1;33m]\u001b[0m\u001b[1;33m\u001b[0m\u001b[1;33m\u001b[0m\u001b[0m\n\u001b[0m\u001b[0;32m     49\u001b[0m         \u001b[1;32melif\u001b[0m \u001b[0mmethod\u001b[0m \u001b[1;33m==\u001b[0m \u001b[1;34m'halley'\u001b[0m\u001b[1;33m:\u001b[0m\u001b[1;33m\u001b[0m\u001b[1;33m\u001b[0m\u001b[0m\n\u001b[0;32m     50\u001b[0m             \u001b[0ma\u001b[0m \u001b[1;33m=\u001b[0m \u001b[0mfx\u001b[0m\u001b[1;33m[\u001b[0m\u001b[0mi\u001b[0m\u001b[1;33m]\u001b[0m\u001b[1;33m/\u001b[0m\u001b[0mfpx\u001b[0m\u001b[1;33m[\u001b[0m\u001b[0mi\u001b[0m\u001b[1;33m]\u001b[0m\u001b[1;33m\u001b[0m\u001b[1;33m\u001b[0m\u001b[0m\n",
      "\u001b[1;31mIndexError\u001b[0m: index 10000 is out of bounds for axis 0 with size 10000"
     ]
    }
   ],
   "source": [
    "f = lambda x: -0.0075*x**2+0.1975*x-1.32687\n",
    "fp = lambda x: -0.0075*2*x+0.1975\n",
    "\n",
    "x,i = find_root(10,f,fp,method='newton')\n",
    "print(i,x,f(x))"
   ]
  },
  {
   "cell_type": "code",
   "execution_count": null,
   "metadata": {},
   "outputs": [],
   "source": []
  }
 ],
 "metadata": {
  "kernelspec": {
   "display_name": "Python 3",
   "language": "python",
   "name": "python3"
  },
  "language_info": {
   "codemirror_mode": {
    "name": "ipython",
    "version": 3
   },
   "file_extension": ".py",
   "mimetype": "text/x-python",
   "name": "python",
   "nbconvert_exporter": "python",
   "pygments_lexer": "ipython3",
   "version": "3.7.4"
  }
 },
 "nbformat": 4,
 "nbformat_minor": 4
}
