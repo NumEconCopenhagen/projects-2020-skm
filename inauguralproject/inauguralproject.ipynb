{
 "cells": [
  {
   "cell_type": "markdown",
   "metadata": {},
   "source": [
    "# Inaugural Project"
   ]
  },
  {
   "cell_type": "markdown",
   "metadata": {},
   "source": [
    "> **Note the following:** \n",
    "> 1. This is an example of how to structure your **inaugural project**.\n",
    "> 1. Remember the general advice on structuring and commenting your code from [lecture 5](https://numeconcopenhagen.netlify.com/lectures/Workflow_and_debugging).\n",
    "> 1. Remember this [guide](https://www.markdownguide.org/basic-syntax/) on markdown and (a bit of) latex.\n",
    "> 1. Turn on automatic numbering by clicking on the small icon on top of the table of contents in the left sidebar.\n",
    "> 1. The `inauguralproject.py` file includes a function which can be used multiple times in this notebook."
   ]
  },
  {
   "cell_type": "markdown",
   "metadata": {},
   "source": [
    "Imports and set magics:"
   ]
  },
  {
   "cell_type": "code",
   "execution_count": 1,
   "metadata": {},
   "outputs": [],
   "source": [
    "import numpy as np\n",
    "import math\n",
    "from scipy import optimize\n",
    "\n",
    "# autoreload modules when code is run\n",
    "%load_ext autoreload\n",
    "%autoreload 2\n",
    "\n",
    "# local modules\n",
    "import inauguralproject"
   ]
  },
  {
   "cell_type": "markdown",
   "metadata": {
    "toc-hr-collapsed": true
   },
   "source": [
    "## Question 1"
   ]
  },
  {
   "cell_type": "markdown",
   "metadata": {},
   "source": [
    "We start out by setting up the consumer mazimization problem. This is done by setting up a function returning the utility function and the objective function. We then call upon a solver that can solve the maximization problem given the parameters. "
   ]
  },
  {
   "cell_type": "code",
   "execution_count": 2,
   "metadata": {},
   "outputs": [],
   "source": [
    "# setting up function\n",
    "# we use that c*=x to simplify\n",
    "def u_func(l, w, epsilon, m=1, nu=10, tau0=0.4, tau1=0.1, kappa=0.4):\n",
    "    return math.log10( m+w*l-(tau0*w*l+tau1*max(w*l-kappa,0)) ) - nu*l**(1+1/epsilon)/(1+1/epsilon)\n",
    "\n",
    "epsilon = 0.3\n",
    "w = 1 # arbitrary value for w, so problem can be solved\n",
    "\n",
    "# objective funciton (to minimize)\n",
    "def value_of_choice(l,w,epsilon):\n",
    "    return -u_func(l,w,epsilon)\n",
    "\n",
    "# call solver\n",
    "sol_case1 = optimize.minimize_scalar(\n",
    "    value_of_choice,method='bounded',\n",
    "    bounds=(0,1),args=(w,epsilon))\n",
    "\n",
    "# c. unpack solution\n",
    "l = sol_case1.x\n",
    "u = u_func(l,w,epsilon)\n"
   ]
  },
  {
   "cell_type": "markdown",
   "metadata": {},
   "source": [
    "## Question 2"
   ]
  },
  {
   "cell_type": "markdown",
   "metadata": {},
   "source": [
    "Plot $l^{*}$and $c^{*}$ as a function of w in the range 0.5 to 1.5.\n"
   ]
  },
  {
   "cell_type": "markdown",
   "metadata": {},
   "source": [
    "We create vectors for wage, labour and consumption, where the labour and consumptions vectors are empty. The labour and concumption is calculated for every value of w in a for loop. \n",
    "From this we are able to plot the optimal values of labour and consumption"
   ]
  },
  {
   "cell_type": "code",
   "execution_count": 4,
   "metadata": {},
   "outputs": [
    {
     "data": {
      "image/png": "[encoded data removed]",
      "text/plain": [
       "<Figure size 720x288 with 2 Axes>"
      ]
     },
     "metadata": {},
     "output_type": "display_data"
    }
   ],
   "source": [
    "N = 100\n",
    "# vector of wages\n",
    "w_vec = np.linspace(0.5,1.5,N)\n",
    "l_vec = np.empty(N)\n",
    "c_vec = np.empty(N)\n",
    "\n",
    "# function to calculate consumption\n",
    "def c_func(l, w, epsilon, m=1, tau0=0.4, tau1=0.1, kappa=0.4):\n",
    "    return m+w*l-(tau0*w*l+tau1*max(w*l-kappa,0)) \n",
    "\n",
    "# calculates l and c for every value of w\n",
    "for i,w in enumerate(w_vec):\n",
    "    w = w_vec[i]\n",
    "    sol_case1 = optimize.minimize_scalar(value_of_choice,method='bounded',bounds=(0,1),args=(w,epsilon))\n",
    "    l_vec[i] = sol_case1.x\n",
    "    l=l_vec[i]\n",
    "    c_vec[i] = c_func(l,w,epsilon)\n",
    "\n",
    "# creates the figures\n",
    "import matplotlib.pyplot as plt\n",
    "plt.style.use(\"seaborn\")\n",
    "\n",
    "fig = plt.figure(figsize=(10,4))\n",
    "\n",
    "fig_w_l = fig.add_subplot(1,2,1)\n",
    "fig_w_l.plot(w_vec,l_vec)\n",
    "\n",
    "fig_w_l.set_title('Optimal $l$ as a funtion of $w$')\n",
    "fig_w_l.set_xlabel('$w$')\n",
    "fig_w_l.set_ylabel('$l*$')\n",
    "fig_w_l.grid(True)\n",
    "\n",
    "fig_w_c = fig.add_subplot(1,2,2)\n",
    "fig_w_c.plot(w_vec,c_vec)\n",
    "\n",
    "fig_w_c.set_title('Optimal $c$ as a funtion of $w$')\n",
    "fig_w_c.set_xlabel('$w$')\n",
    "fig_w_c.set_ylabel('$c*$')\n",
    "fig_w_c.grid(True)"
   ]
  },
  {
   "cell_type": "markdown",
   "metadata": {},
   "source": [
    "## Question 3"
   ]
  },
  {
   "cell_type": "markdown",
   "metadata": {},
   "source": [
    "Condsider a population with $N=10.000$ individuals indexed by i.\n",
    "Assume the distribution of wages is uniform such that: \n",
    "\n",
    "\n",
    "\\begin{equation}\n",
    "w_{i}=\\bigcup(0.5,1.5)\n",
    "\\end{equation}\n",
    "\n",
    "Denote the optimal choices of individual i by $l_{i}^{*}$and $c_{i}^{*}.$\n",
    "\n",
    "Calculate the total tax revenue given by:\n",
    "\n",
    "\\begin{equation}\n",
    "T=\\sum_{i=1}^{N}\\left[\\tau_{0}w_{i}l_{i}^{*}+\\tau_{1}max\\{wl-\\kappa,0\\}]\\right]\n",
    "\\end{equation}"
   ]
  },
  {
   "cell_type": "markdown",
   "metadata": {},
   "source": [
    "We set seed to be able to draw the same uniform numbers everytime we run the code. This time we compute the vector of wages by uniformly drawn numbers in the range 0.5 to 1.5 for N2 entries. \n",
    "\n",
    "Then we compute two functions. The first function is a function calculating the taxes paid by each individual while the second function returns the total tax revenue."
   ]
  },
  {
   "cell_type": "code",
   "execution_count": 7,
   "metadata": {},
   "outputs": [
    {
     "name": "stdout",
     "output_type": "stream",
     "text": [
      "The total tax revnue is given by 1262.34 \n"
     ]
    }
   ],
   "source": [
    "#  Alt med firkant foran kan i princippet slettes. Det ligger i .py filen.\n",
    "\n",
    "# np.random.seed(42)\n",
    "# N2 = 10000\n",
    "# w_vec2 = np.random.uniform(0.5,1.5,N2)\n",
    "# l_vec2 = np.empty(N2)\n",
    "# t_vec = np.empty(N2)\n",
    "\n",
    "# # function for calculating taxes paid by each individual\n",
    "# def t_func(l, w, epsilon, m=1, tau0=0.4, tau1=0.1, kappa=0.4):\n",
    "#     return tau0*w*l+tau1*max(w*l-kappa,0)\n",
    "\n",
    "# # returns total tax revenue\n",
    "# def tax_rev():\n",
    "#     for i,w in enumerate(w_vec2):\n",
    "#         w = w_vec2[i]\n",
    "#         sol_case1 = optimize.minimize_scalar(value_of_choice,method='bounded',bounds=(0,1),args=(w, epsilon))\n",
    "#         l_vec2[i] = sol_case1.x\n",
    "#         l=l_vec2[i]\n",
    "#         t_vec[i] = inauguralproject.t_func(l,w,epsilon)\n",
    "#     return sum(t_vec)\n",
    "\n",
    "\n",
    "print(f'The total tax revnue is given by {inauguralproject.tax_rev(epsilon=0.3):.2f} ')\n"
   ]
  },
  {
   "cell_type": "markdown",
   "metadata": {},
   "source": [
    "## Question 4"
   ]
  },
  {
   "cell_type": "markdown",
   "metadata": {},
   "source": [
    "What would the tax revenue be instead of $\\varepsilon=0.1$"
   ]
  },
  {
   "cell_type": "code",
   "execution_count": 8,
   "metadata": {},
   "outputs": [
    {
     "name": "stdout",
     "output_type": "stream",
     "text": [
      "Given the new value of epsilon the tax revenue becomes 2900.18 \n"
     ]
    }
   ],
   "source": [
    "print(f'Given the new value of epsilon the tax revenue becomes {inauguralproject.tax_rev(epsilon=0.1):.2f} ')"
   ]
  },
  {
   "cell_type": "markdown",
   "metadata": {},
   "source": [
    "## Question 5"
   ]
  },
  {
   "cell_type": "markdown",
   "metadata": {},
   "source": [
    "Consider a politician who wishes to maximize the tax revenue.\n",
    "\n",
    "\n",
    "Which $\\tau_{0},\\,\\tau_{1}$ and $\\kappa$ would you suggest her to\n",
    "implement? Report the tax revenue you expect to obtain. "
   ]
  },
  {
   "cell_type": "code",
   "execution_count": 60,
   "metadata": {},
   "outputs": [],
   "source": []
  },
  {
   "cell_type": "markdown",
   "metadata": {},
   "source": [
    "Fra Emil: Question 5 is solvable using a multi-dimensional optimizer over t0,t1 and kappa where the objective function has another optimizing problem in it choosing the individual optimal labor supply. That is, when the policy maker tries different tax values (the outer optimizer), the workers will take the new tax rates into account and change their labor supply (the inner optimizer)."
   ]
  },
  {
   "cell_type": "markdown",
   "metadata": {},
   "source": [
    "# Conclusion"
   ]
  },
  {
   "cell_type": "code",
   "execution_count": null,
   "metadata": {},
   "outputs": [],
   "source": []
  },
  {
   "cell_type": "markdown",
   "metadata": {},
   "source": []
  }
 ],
 "metadata": {
  "kernelspec": {
   "display_name": "Python 3",
   "language": "python",
   "name": "python3"
  },
  "language_info": {
   "codemirror_mode": {
    "name": "ipython",
    "version": 3
   },
   "file_extension": ".py",
   "mimetype": "text/x-python",
   "name": "python",
   "nbconvert_exporter": "python",
   "pygments_lexer": "ipython3",
   "version": "3.7.4"
  },
  "toc-autonumbering": true
 },
 "nbformat": 4,
 "nbformat_minor": 4
}
