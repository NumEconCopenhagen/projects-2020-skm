{
 "cells": [
  {
   "cell_type": "markdown",
   "metadata": {},
   "source": [
    "Defining  **variables** and **parameters**:\n",
    "\n",
    "* $C$ \n",
    "* $c_0$ \n",
    "* $c_1$ \n",
    "* $y_t$ \n",
    "* \n",
    "* $r$ is the interest rate"
   ]
  },
  {
   "cell_type": "markdown",
   "metadata": {},
   "source": [
    "$$\n",
    "\\begin{aligned}\n",
    "Y=C+I+G\\\\\n",
    "C=c_{0}+c_{1}*(Y-t_{0}-t_{1}Y)\\\\\n",
    "T=Yt_{1}+t_{0}\\\\\n",
    "I=Yb_{1}+b_{0}-b_{2}r\\\\\n",
    "S_{off}=-G+T\\\\\n",
    "r=\\bar{r}\\\\\n",
    "\\end{aligned}\n",
    "$$\n",
    "\n",
    "Centralbanken maksimerer $u=f\\left(\\pi-\\pi^{*},\\,u_{t}-u_{n}\\right)$\n",
    "(Jeg skal lige have skrevet ind at der maksimeres over renten)\n",
    "\n",
    "\n",
    "\n",
    "$\\pi-\\pi^{e}=\\frac{\\alpha}{L}\\left(Y-Y_{n}\\right)$\n",
    "\n",
    "$u-u_{n}=-L(Y-Y_{n})$\n"
   ]
  },
  {
   "cell_type": "code",
   "execution_count": 1,
   "metadata": {},
   "outputs": [
    {
     "output_type": "execute_result",
     "data": {
      "text/plain": "(-G - b_0 + b_2*rbar - c_0 + t_0)/(b_1 + c_1 - t_1 - 1)",
      "text/latex": "$\\displaystyle \\frac{- G - b_{0} + b_{2} \\bar{r} - c_{0} + t_{0}}{b_{1} + c_{1} - t_{1} - 1}$"
     },
     "metadata": {},
     "execution_count": 1
    }
   ],
   "source": [
    "import numpy as np\n",
    "from scipy import linalg\n",
    "from scipy import optimize\n",
    "import sympy as sm\n",
    "\n",
    "y = sm.symbols('Y')\n",
    "c = sm.symbols('C')\n",
    "i = sm.symbols('I')\n",
    "g = sm.symbols('G')\n",
    "t = sm.symbols('T')\n",
    "i_n = sm.symbols('i')\n",
    "r = sm.symbols('r')\n",
    "c0 = sm.symbols('c_0')\n",
    "c1 = sm.symbols('c_1')\n",
    "t0 = sm.symbols('t_0')\n",
    "t1 = sm.symbols('t_1')\n",
    "b0 = sm.symbols('b_0')\n",
    "b1 = sm.symbols('b_1')\n",
    "b2 = sm.symbols('b_2')\n",
    "y_n = sm.symbols('Y_n')\n",
    "inf = sm.symbols('pi')\n",
    "r_bar = sm.symbols(\"rbar\")\n",
    "\n",
    "s_off = sm.symbols('S_off')\n",
    "\n",
    "eq1 = sm.Eq(y, (c+i+g))\n",
    "eq2 = sm.Eq(c, (c0+c1*(y-t0-t1*y)))\n",
    "eq3 = sm.Eq(t, (t0+t1*y))\n",
    "eq4 = sm.Eq(i, (b0+b1*y-b2*r))\n",
    "eq5 = sm.Eq(s_off, (t-g))\n",
    "eq6 = sm.Eq(r, (r_bar))\n",
    "\n",
    "eq_r = r_bar\n",
    "eq_t = t0+t1*y\n",
    "eq_c = c0+c1*y-eq_t\n",
    "eq_i = b0+b1*y-b2*eq_r\n",
    "\n",
    "eq_y = sm.Eq(y, (eq_c+eq_i+g))\n",
    "\n",
    "#c_0 = 100\n",
    "#c_1 = 0.8\n",
    "#t_0 = 100\n",
    "#t_1 = 0.4\n",
    "#b_0 = 100\n",
    "#b_1 = 0.1\n",
    "#b_2 = 10\n",
    "#rbar = 3\n",
    "#G = 500\n",
    "\n",
    "#c0 = 100\n",
    "#c1 = 0.8\n",
    "#t0 = 100\n",
    "#t1 = 0.4\n",
    "#b0 = 100\n",
    "#b1 = 0.1\n",
    "#b2 = 10\n",
    "#r_bar = 3\n",
    "#g = 500\n",
    "\n",
    "c_func = sm.lambdify((c0,c1,t0,t1,y),sm.solve(eq2,c)[0])\n",
    "t_func = sm.lambdify((t0,t1,y),sm.solve(eq3,t)[0])\n",
    "i_func = sm.lambdify((b0,b1,b2,r,y),sm.solve(eq4,i)[0])\n",
    "s_off_func = sm.lambdify((t,g),sm.solve(eq5,s_off)[0])\n",
    "r_func = sm.lambdify((r_bar),sm.solve(eq6,r)[0])\n",
    "\n",
    "y_func = sm.lambdify((c0,c1,t0,t1,b0,b1,b2,r_bar,g),sm.solve((eq_y), y)[0])\n",
    "y_solve = sm.solve((eq_y), y)[0]\n",
    "y_solve\n",
    "\n"
   ]
  },
  {
   "cell_type": "code",
   "execution_count": 2,
   "metadata": {},
   "outputs": [
    {
     "data": {
      "text/latex": [
       "$\\displaystyle 1200.0 - 20.0 \\bar{r}$"
      ],
      "text/plain": [
       "1200.0 - 20.0*rbar"
      ]
     },
     "execution_count": 2,
     "metadata": {},
     "output_type": "execute_result"
    }
   ],
   "source": [
    "#r_ = r_func(3)\n",
    "y_ = y_func(100,0.8,100,0.4,100,0.1,10,r_bar,500)\n",
    "#y_ = y_func()\n",
    "y_"
   ]
  },
  {
   "cell_type": "code",
   "execution_count": 23,
   "metadata": {},
   "outputs": [
    {
     "data": {
      "text/latex": [
       "$\\displaystyle T = Y t_{1} + t_{0}$"
      ],
      "text/plain": [
       "Eq(T, Y*t_1 + t_0)"
      ]
     },
     "execution_count": 23,
     "metadata": {},
     "output_type": "execute_result"
    }
   ],
   "source": [
    "\n"
   ]
  },
  {
   "cell_type": "code",
   "execution_count": 3,
   "metadata": {},
   "outputs": [
    {
     "name": "stdout",
     "output_type": "stream",
     "text": [
      "1200.0 - 20.0*rbar 596.0 - 9.6*rbar 580.0 - 8.0*rbar 220.0 - 12.0*rbar 80.0 - 8.0*rbar\n"
     ]
    }
   ],
   "source": [
    "c_ = c_func(100,0.8,100,0.4,y_)\n",
    "t_ = t_func(100,0.4,y_)\n",
    "i_ = i_func(100,0.1,10,r_bar,y_)\n",
    "s_off_ = s_off_func(t_,500)\n",
    "\n",
    "print(y_, c_, t_, i_, s_off_)\n",
    "#results = [y_, c_, t_, i_, s_off_]"
   ]
  },
  {
   "cell_type": "code",
   "execution_count": 5,
   "metadata": {},
   "outputs": [
    {
     "data": {
      "image/png": "[encoded data removed]",
      "text/plain": [
       "<Figure size 720x288 with 1 Axes>"
      ]
     },
     "metadata": {},
     "output_type": "display_data"
    }
   ],
   "source": [
    "N = 100\n",
    " \n",
    "r_vec = np.linspace(0,15,N)\n",
    "y_vec = np.empty(N)\n",
    "rbar_vec = np.empty(N)\n",
    "\n",
    "for i,r_bar in enumerate(r_vec):\n",
    "    r_bar = r_vec[i]\n",
    "    y_vec[i] = y_func(100,0.8,100,0.4,100,0.1,10,r_bar,500)\n",
    "\n",
    "# creates the figures\n",
    "import matplotlib.pyplot as plt\n",
    "plt.style.use(\"seaborn\")\n",
    "\n",
    "fig = plt.figure(figsize=(10,4))\n",
    "\n",
    "fig_y = fig.add_subplot(1,1,1)\n",
    "fig_y.plot(y_vec,r_vec)\n",
    "\n",
    "fig_y.set_title('$Y$ as a funtion of $rbar$')\n",
    "fig_y.set_xlabel('$Y$')\n",
    "fig_y.set_ylabel('$rbar$')\n",
    "fig_y.grid(True)"
   ]
  },
  {
   "cell_type": "code",
   "execution_count": 7,
   "metadata": {},
   "outputs": [
    {
     "name": "stdout",
     "output_type": "stream",
     "text": [
      "1.9 - 0.01*rbar 20000.0*rbar + 200004.0\n"
     ]
    }
   ],
   "source": [
    "# The PC curve, and the relation between the output gap and unemployment\n",
    "inf = sm.symbols('pi')\n",
    "inf_e = sm.symbols('pi^e')\n",
    "y_n = sm.symbols('Y_n')\n",
    "alpha = sm.symbols('alpha')\n",
    "l = sm.symbols('L')\n",
    "u = sm.symbols('u')\n",
    "u_n = sm.symbols('u_n')\n",
    "\n",
    "eq7 = sm.Eq((inf-inf_e), ((alpha/l)*(y-y_n)))\n",
    "eq8 = sm.Eq((u-u_n), (-l*(y-y_n)))\n",
    "\n",
    "inf_func = sm.lambdify((inf_e,alpha,l,y,y_n),sm.solve(eq7,inf)[0])\n",
    "u_func = sm.lambdify((u_n,l,y,y_n),sm.solve(eq8,u)[0])\n",
    "\n",
    "inf_ = inf_func(2, 0.5, 1000, y_, 1400)\n",
    "u_ = u_func(4, 1000, y_, 1400)\n",
    "\n",
    "print(inf_, u_)"
   ]
  },
  {
   "cell_type": "code",
   "execution_count": 19,
   "metadata": {},
   "outputs": [
    {
     "data": {
      "text/latex": [
       "$\\displaystyle \\pi - \\pi^{e} = \\frac{\\alpha \\left(Y - Y_{n}\\right)}{L}$"
      ],
      "text/plain": [
       "Eq(pi - pi^e, alpha*(Y - Y_n)/L)"
      ]
     },
     "execution_count": 19,
     "metadata": {},
     "output_type": "execute_result"
    }
   ],
   "source": [
    "eq7"
   ]
  },
  {
   "cell_type": "code",
   "execution_count": null,
   "metadata": {},
   "outputs": [],
   "source": []
  }
 ],
 "metadata": {
  "kernelspec": {
   "display_name": "Python 3",
   "language": "python",
   "name": "python3"
  },
  "language_info": {
   "codemirror_mode": {
    "name": "ipython",
    "version": 3
   },
   "file_extension": ".py",
   "mimetype": "text/x-python",
   "name": "python",
   "nbconvert_exporter": "python",
   "pygments_lexer": "ipython3",
   "version": "3.7.4-final"
  }
 },
 "nbformat": 4,
 "nbformat_minor": 4
}