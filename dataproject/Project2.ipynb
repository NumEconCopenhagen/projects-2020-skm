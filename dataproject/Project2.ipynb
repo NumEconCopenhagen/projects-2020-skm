{
 "cells": [
  {
   "cell_type": "markdown",
   "metadata": {},
   "source": [
    "# Employment rates and Income"
   ]
  },
  {
   "cell_type": "markdown",
   "metadata": {},
   "source": [
    "## Introduktion\n",
    "\n",
    "The goal of the project is to import two datasets from Statistics Denmark reporting employment rates and income levels. From the unemployment data we will extract two different employmentrates that resemple the employment of decendants of Non-western immigrants and the total poluation in Denmark in the period 2008-2018. Further we import an income statistic fromwhere we extract a serie of disposable income for the educational level vocational.\n",
    "\n",
    "The data will be cleaned out for municipalities, so we can present and compare the data on regional level. This enables us to merge the datasets into one set from where we can contruct interactive charts. \n",
    "\n",
    "Lastly we compute a new variable, which represent the deviation of unemployment from the mean."
   ]
  },
  {
   "cell_type": "code",
<<<<<<< HEAD
   "execution_count": 39,
=======
   "execution_count": 1,
>>>>>>> f4431e1ac640bc3e06924d17c3b36c3bbbed2adf
   "metadata": {},
   "outputs": [],
   "source": [
    "# Importing the packages we need for the project\n",
    "import numpy as np\n",
    "import pandas as pd\n",
    "import datetime\n",
    "\n",
    "import pandas_datareader\n",
    "import pydst \n",
    " \n",
    "import matplotlib.pyplot as plt\n",
    "plt.style.use('seaborn-whitegrid')"
   ]
  },
  {
   "cell_type": "markdown",
   "metadata": {},
   "source": [
    "## Import data from Denmark Statistics\n"
   ]
  },
  {
   "cell_type": "code",
<<<<<<< HEAD
   "execution_count": 40,
   "metadata": {},
   "outputs": [],
=======
   "execution_count": 4,
   "metadata": {},
   "outputs": [
    {
     "data": {
      "text/plain": [
       "array([['OMRÅDE', 'region', True, False, 'denmark_municipality_07',\n",
       "        list([{'id': '000', 'text': 'All Denmark'}, {'id': '084', 'text': 'Region Hovedstaden'}, {'id': '01', 'text': 'Province Byen København'}, {'id': '101', 'text': 'Copenhagen'}, {'id': '147', 'text': 'Frederiksberg'}, {'id': '155', 'text': 'Dragør'}, {'id': '185', 'text': 'Tårnby'}, {'id': '02', 'text': 'Province Københavns omegn'}, {'id': '165', 'text': 'Albertslund'}, {'id': '151', 'text': 'Ballerup'}, {'id': '153', 'text': 'Brøndby'}, {'id': '157', 'text': 'Gentofte'}, {'id': '159', 'text': 'Gladsaxe'}, {'id': '161', 'text': 'Glostrup'}, {'id': '163', 'text': 'Herlev'}, {'id': '167', 'text': 'Hvidovre'}, {'id': '169', 'text': 'Høje-Taastrup'}, {'id': '183', 'text': 'Ishøj'}, {'id': '173', 'text': 'Lyngby-Taarbæk'}, {'id': '175', 'text': 'Rødovre'}, {'id': '187', 'text': 'Vallensbæk'}, {'id': '03', 'text': 'Province Nordsjælland'}, {'id': '201', 'text': 'Allerød'}, {'id': '240', 'text': 'Egedal'}, {'id': '210', 'text': 'Fredensborg'}, {'id': '250', 'text': 'Frederikssund'}, {'id': '190', 'text': 'Furesø'}, {'id': '270', 'text': 'Gribskov'}, {'id': '260', 'text': 'Halsnæs'}, {'id': '217', 'text': 'Helsingør'}, {'id': '219', 'text': 'Hillerød'}, {'id': '223', 'text': 'Hørsholm'}, {'id': '230', 'text': 'Rudersdal'}, {'id': '04', 'text': 'Province Bornholm'}, {'id': '400', 'text': 'Bornholm'}, {'id': '085', 'text': 'Region Sjælland'}, {'id': '05', 'text': 'Province Østsjælland'}, {'id': '253', 'text': 'Greve'}, {'id': '259', 'text': 'Køge'}, {'id': '350', 'text': 'Lejre'}, {'id': '265', 'text': 'Roskilde'}, {'id': '269', 'text': 'Solrød'}, {'id': '06', 'text': 'Province Vest- og Sydsjælland'}, {'id': '320', 'text': 'Faxe'}, {'id': '376', 'text': 'Guldborgsund'}, {'id': '316', 'text': 'Holbæk'}, {'id': '326', 'text': 'Kalundborg'}, {'id': '360', 'text': 'Lolland'}, {'id': '370', 'text': 'Næstved'}, {'id': '306', 'text': 'Odsherred'}, {'id': '329', 'text': 'Ringsted'}, {'id': '330', 'text': 'Slagelse'}, {'id': '340', 'text': 'Sorø'}, {'id': '336', 'text': 'Stevns'}, {'id': '390', 'text': 'Vordingborg'}, {'id': '083', 'text': 'Region Syddanmark'}, {'id': '07', 'text': 'Province Fyn'}, {'id': '420', 'text': 'Assens'}, {'id': '430', 'text': 'Faaborg-Midtfyn'}, {'id': '440', 'text': 'Kerteminde'}, {'id': '482', 'text': 'Langeland'}, {'id': '410', 'text': 'Middelfart'}, {'id': '480', 'text': 'Nordfyns'}, {'id': '450', 'text': 'Nyborg'}, {'id': '461', 'text': 'Odense'}, {'id': '479', 'text': 'Svendborg'}, {'id': '492', 'text': 'Ærø'}, {'id': '08', 'text': 'Province Sydjylland'}, {'id': '530', 'text': 'Billund'}, {'id': '561', 'text': 'Esbjerg'}, {'id': '563', 'text': 'Fanø'}, {'id': '607', 'text': 'Fredericia'}, {'id': '510', 'text': 'Haderslev'}, {'id': '621', 'text': 'Kolding'}, {'id': '540', 'text': 'Sønderborg'}, {'id': '550', 'text': 'Tønder'}, {'id': '573', 'text': 'Varde'}, {'id': '575', 'text': 'Vejen'}, {'id': '630', 'text': 'Vejle'}, {'id': '580', 'text': 'Aabenraa'}, {'id': '082', 'text': 'Region Midtjylland'}, {'id': '09', 'text': 'Province Østjylland'}, {'id': '710', 'text': 'Favrskov'}, {'id': '766', 'text': 'Hedensted'}, {'id': '615', 'text': 'Horsens'}, {'id': '707', 'text': 'Norddjurs'}, {'id': '727', 'text': 'Odder'}, {'id': '730', 'text': 'Randers'}, {'id': '741', 'text': 'Samsø'}, {'id': '740', 'text': 'Silkeborg'}, {'id': '746', 'text': 'Skanderborg'}, {'id': '706', 'text': 'Syddjurs'}, {'id': '751', 'text': 'Aarhus'}, {'id': '10', 'text': 'Province Vestjylland'}, {'id': '657', 'text': 'Herning'}, {'id': '661', 'text': 'Holstebro'}, {'id': '756', 'text': 'Ikast-Brande'}, {'id': '665', 'text': 'Lemvig'}, {'id': '760', 'text': 'Ringkøbing-Skjern'}, {'id': '779', 'text': 'Skive'}, {'id': '671', 'text': 'Struer'}, {'id': '791', 'text': 'Viborg'}, {'id': '081', 'text': 'Region Nordjylland'}, {'id': '11', 'text': 'Province Nordjylland'}, {'id': '810', 'text': 'Brønderslev'}, {'id': '813', 'text': 'Frederikshavn'}, {'id': '860', 'text': 'Hjørring'}, {'id': '849', 'text': 'Jammerbugt'}, {'id': '825', 'text': 'Læsø'}, {'id': '846', 'text': 'Mariagerfjord'}, {'id': '773', 'text': 'Morsø'}, {'id': '840', 'text': 'Rebild'}, {'id': '787', 'text': 'Thisted'}, {'id': '820', 'text': 'Vesthimmerlands'}, {'id': '851', 'text': 'Aalborg'}])],\n",
       "       ['ENHED', 'unit', False, False, nan,\n",
       "        list([{'id': '101', 'text': 'People with type of income (number)'}, {'id': '110', 'text': 'Amount of income (DKK 1.000)'}, {'id': '116', 'text': 'Average income for all people (DKK)'}, {'id': '121', 'text': 'Average income for people with type of income (DKK)'}])],\n",
       "       ['KOEN', 'sex', True, False, nan,\n",
       "        list([{'id': 'MOK', 'text': 'Men and women, total'}, {'id': 'M', 'text': 'Men'}, {'id': 'K', 'text': 'Women'}])],\n",
       "       ['UDDNIV', 'level of education', False, False, nan,\n",
       "        list([{'id': '10', 'text': '10 BASIC SCHOOL 8-10 grade'}, {'id': '26', 'text': '20+25 UPPER SECONDARY SCHOOL'}, {'id': '35', 'text': '35 VOCATIONAL EDUCATION'}, {'id': '40', 'text': '40 SHORT-CYCLE HIGHER EDUCATION'}, {'id': '61', 'text': '50+60 MEDIUM-CYCLE HIGHER EDUCATION, BACHLEOR'}, {'id': '65', 'text': '65 LONG-CYCLE HIGHER EDUCATION'}, {'id': '9', 'text': 'Not stated'}])],\n",
       "       ['INDKOMSTTYPE', 'type of income', False, False, nan,\n",
       "        list([{'id': '100', 'text': '1 Disposable income (2+30-31-32-35)'}, {'id': '105', 'text': '2 Pre-tax Income, total (3+7+22+26+29)'}, {'id': '110', 'text': '3 Primary income (4+5+6)'}, {'id': '115', 'text': '4 Wages and salaries etc., total'}, {'id': '120', 'text': '5 Entrepreneurial income, total'}, {'id': '125', 'text': '6 Received fees subject to labour market contributions'}, {'id': '130', 'text': '7 Public transfer incomes(8+14+19)'}, {'id': '135', 'text': '8 Unemployment and cash benefits (9+10+11+12+13)'}, {'id': '140', 'text': '9 Unemployment benefits'}, {'id': '145', 'text': '10 Other benefits from unemployment funds'}, {'id': '150', 'text': '11 Cash benefits'}, {'id': '155', 'text': '12 Job training & Limited employment benefits'}, {'id': '160', 'text': '13 Sickness- & parental leave'}, {'id': '165', 'text': '14 Other transfers(15+16+17+18)'}, {'id': '170', 'text': '15 Public educational grants'}, {'id': '175', 'text': '16 Housing benefits'}, {'id': '180', 'text': '17 Child benefits'}, {'id': '185', 'text': '18 Green check'}, {'id': '190', 'text': '19 Public pensions(20+21)'}, {'id': '195', 'text': '20 Early retirement pay'}, {'id': '200', 'text': '21 Disability and old age pensions'}, {'id': '205', 'text': '22 Private pensions(23+24+25)'}, {'id': '210', 'text': '23 Public servants pension'}, {'id': '215', 'text': '24 Pension from the ATP (Labour Market Supplementary Pension Scheme)'}, {'id': '220', 'text': '25 Labour market and private pensions (Annuities only)'}, {'id': '225', 'text': '26 Capital income, gross (27+28)'}, {'id': '230', 'text': '27 Interest received'}, {'id': '235', 'text': '28 Other property income (From stocks etc.)'}, {'id': '240', 'text': '29 Other personal income'}, {'id': '245', 'text': '30 Imputed rent'}, {'id': '250', 'text': '31 Interest expenses'}, {'id': '255', 'text': '32 Tax, total (33+34)'}, {'id': '260', 'text': '33 Income taxes'}, {'id': '265', 'text': '34 Labour market contributions etc.'}, {'id': '270', 'text': '35 Paid alimonies'}, {'id': '275', 'text': 'Equivalised Disposable income'}, {'id': '280', 'text': 'Land tax home owners'}, {'id': '285', 'text': 'Land tax, tenants'}, {'id': '290', 'text': 'Taxable income'}])],\n",
       "       ['Tid', 'time', False, True, nan,\n",
       "        list([{'id': '2004', 'text': '2004'}, {'id': '2005', 'text': '2005'}, {'id': '2006', 'text': '2006'}, {'id': '2007', 'text': '2007'}, {'id': '2008', 'text': '2008'}, {'id': '2009', 'text': '2009'}, {'id': '2010', 'text': '2010'}, {'id': '2011', 'text': '2011'}, {'id': '2012', 'text': '2012'}, {'id': '2013', 'text': '2013'}, {'id': '2014', 'text': '2014'}, {'id': '2015', 'text': '2015'}, {'id': '2016', 'text': '2016'}, {'id': '2017', 'text': '2017'}, {'id': '2018', 'text': '2018'}])]],\n",
       "      dtype=object)"
      ]
     },
     "execution_count": 4,
     "metadata": {},
     "output_type": "execute_result"
    }
   ],
>>>>>>> f4431e1ac640bc3e06924d17c3b36c3bbbed2adf
   "source": [
    "dst = pydst.Dst(lang='en')\n",
    "dst.get_subjects()\n",
    "\n",
    "tables = dst.get_tables(subjects=['04'])\n",
    "tables[tables.id == 'INDKP107']\n",
<<<<<<< HEAD
    "indk_vars = dst.get_variables(table_id='INDKP107')"
=======
    "indk_vars = dst.get_variables(table_id='INDKP107')\n",
    "\n",
    "# #We look at the data to see how we can sort it.\n",
    "indk_vars.values\n"
>>>>>>> f4431e1ac640bc3e06924d17c3b36c3bbbed2adf
   ]
  },
  {
   "cell_type": "code",
<<<<<<< HEAD
   "execution_count": 41,
=======
   "execution_count": 5,
>>>>>>> f4431e1ac640bc3e06924d17c3b36c3bbbed2adf
   "metadata": {},
   "outputs": [
    {
     "output_type": "stream",
<<<<<<< HEAD
     "name": "stdout",
     "text": "ENHED\n id = 101, text = People with type of income (number)\n id = 110, text = Amount of income (DKK 1.000)\n id = 116, text = Average income for all people (DKK)\n id = 121, text = Average income for people with type of income (DKK)\nKOEN\n id = MOK, text = Men and women, total\n id = M, text = Men\n id = K, text = Women\nUDDNIV\n id = 10, text = 10 BASIC SCHOOL 8-10 grade\n id = 26, text = 20+25 UPPER SECONDARY SCHOOL\n id = 35, text = 35 VOCATIONAL EDUCATION\n id = 40, text = 40 SHORT-CYCLE HIGHER EDUCATION\n id = 61, text = 50+60 MEDIUM-CYCLE HIGHER EDUCATION, BACHLEOR\n id = 65, text = 65 LONG-CYCLE HIGHER EDUCATION\n id = 9, text = Not stated\nINDKOMSTTYPE\n id = 100, text = 1 Disposable income (2+30-31-32-35)\n id = 105, text = 2 Pre-tax Income, total (3+7+22+26+29)\n id = 110, text = 3 Primary income (4+5+6)\n id = 115, text = 4 Wages and salaries etc., total\n id = 120, text = 5 Entrepreneurial income, total\n id = 125, text = 6 Received fees subject to labour market contributions\n id = 130, text = 7 Public transfer incomes(8+14+19)\n id = 135, text = 8 Unemployment and cash benefits (9+10+11+12+13)\n id = 140, text = 9 Unemployment benefits\n id = 145, text = 10 Other benefits from unemployment funds\n id = 150, text = 11 Cash benefits\n id = 155, text = 12 Job training & Limited employment benefits\n id = 160, text = 13 Sickness- & parental leave\n id = 165, text = 14 Other transfers(15+16+17+18)\n id = 170, text = 15 Public educational grants\n id = 175, text = 16 Housing benefits\n id = 180, text = 17 Child benefits\n id = 185, text = 18 Green check\n id = 190, text = 19 Public pensions(20+21)\n id = 195, text = 20 Early retirement pay\n id = 200, text = 21 Disability and old age pensions\n id = 205, text = 22 Private pensions(23+24+25)\n id = 210, text = 23 Public servants pension\n id = 215, text = 24 Pension from the ATP (Labour Market Supplementary Pension Scheme)\n id = 220, text = 25 Labour market and private pensions (Annuities only)\n id = 225, text = 26 Property income, gross(27+28)\n id = 230, text = 27 Interest received\n id = 235, text = 28 Other property income (From stocks etc.)\n id = 240, text = 29 Other personal income\n id = 245, text = 30 Imputed rent\n id = 250, text = 31 Interest expenses\n id = 255, text = 32 Tax, total (33+34)\n id = 260, text = 33 Income taxes\n id = 265, text = 34 Labour market contributions etc.\n id = 270, text = 35 Paid alimonies\n id = 275, text = Equivalised Disposable income\n id = 280, text = Land tax home owners\n id = 285, text = Land tax, tenants\n id = 290, text = Taxable income\n"
=======
     "text": [
      "ENHED\n",
      " id = 101, text = People with type of income (number)\n",
      " id = 110, text = Amount of income (DKK 1.000)\n",
      " id = 116, text = Average income for all people (DKK)\n",
      " id = 121, text = Average income for people with type of income (DKK)\n",
      "KOEN\n",
      " id = MOK, text = Men and women, total\n",
      " id = M, text = Men\n",
      " id = K, text = Women\n",
      "UDDNIV\n",
      " id = 10, text = 10 BASIC SCHOOL 8-10 grade\n",
      " id = 26, text = 20+25 UPPER SECONDARY SCHOOL\n",
      " id = 35, text = 35 VOCATIONAL EDUCATION\n",
      " id = 40, text = 40 SHORT-CYCLE HIGHER EDUCATION\n",
      " id = 61, text = 50+60 MEDIUM-CYCLE HIGHER EDUCATION, BACHLEOR\n",
      " id = 65, text = 65 LONG-CYCLE HIGHER EDUCATION\n",
      " id = 9, text = Not stated\n",
      "INDKOMSTTYPE\n",
      " id = 100, text = 1 Disposable income (2+30-31-32-35)\n",
      " id = 105, text = 2 Pre-tax Income, total (3+7+22+26+29)\n",
      " id = 110, text = 3 Primary income (4+5+6)\n",
      " id = 115, text = 4 Wages and salaries etc., total\n",
      " id = 120, text = 5 Entrepreneurial income, total\n",
      " id = 125, text = 6 Received fees subject to labour market contributions\n",
      " id = 130, text = 7 Public transfer incomes(8+14+19)\n",
      " id = 135, text = 8 Unemployment and cash benefits (9+10+11+12+13)\n",
      " id = 140, text = 9 Unemployment benefits\n",
      " id = 145, text = 10 Other benefits from unemployment funds\n",
      " id = 150, text = 11 Cash benefits\n",
      " id = 155, text = 12 Job training & Limited employment benefits\n",
      " id = 160, text = 13 Sickness- & parental leave\n",
      " id = 165, text = 14 Other transfers(15+16+17+18)\n",
      " id = 170, text = 15 Public educational grants\n",
      " id = 175, text = 16 Housing benefits\n",
      " id = 180, text = 17 Child benefits\n",
      " id = 185, text = 18 Green check\n",
      " id = 190, text = 19 Public pensions(20+21)\n",
      " id = 195, text = 20 Early retirement pay\n",
      " id = 200, text = 21 Disability and old age pensions\n",
      " id = 205, text = 22 Private pensions(23+24+25)\n",
      " id = 210, text = 23 Public servants pension\n",
      " id = 215, text = 24 Pension from the ATP (Labour Market Supplementary Pension Scheme)\n",
      " id = 220, text = 25 Labour market and private pensions (Annuities only)\n",
      " id = 225, text = 26 Capital income, gross (27+28)\n",
      " id = 230, text = 27 Interest received\n",
      " id = 235, text = 28 Other property income (From stocks etc.)\n",
      " id = 240, text = 29 Other personal income\n",
      " id = 245, text = 30 Imputed rent\n",
      " id = 250, text = 31 Interest expenses\n",
      " id = 255, text = 32 Tax, total (33+34)\n",
      " id = 260, text = 33 Income taxes\n",
      " id = 265, text = 34 Labour market contributions etc.\n",
      " id = 270, text = 35 Paid alimonies\n",
      " id = 275, text = Equivalised Disposable income\n",
      " id = 280, text = Land tax home owners\n",
      " id = 285, text = Land tax, tenants\n",
      " id = 290, text = Taxable income\n"
     ]
>>>>>>> f4431e1ac640bc3e06924d17c3b36c3bbbed2adf
    }
   ],
   "source": [
    "#We look at the data to see how we can sort it. \n",
    "for id in ['ENHED','KOEN','UDDNIV','INDKOMSTTYPE']:\n",
    "    print(id)\n",
    "    values = indk_vars.loc[indk_vars.id == id,['values']].values[0,0]\n",
    "    for value in values:      \n",
    "        print(f' id = {value[\"id\"]}, text = {value[\"text\"]}')"
   ]
  },
  {
   "cell_type": "code",
<<<<<<< HEAD
   "execution_count": 42,
=======
   "execution_count": 11,
>>>>>>> f4431e1ac640bc3e06924d17c3b36c3bbbed2adf
   "metadata": {},
   "outputs": [],
   "source": [
    "#For each year and area, we choose to look at average disposable income for people with vocational education.\n",
    "inc = dst.get_data(table_id = 'INDKP107', variables= {'OMRÅDE':['*'], 'TID':['*'], 'UDDNIV':['35'],  'ENHED':['116'], 'INDKOMSTTYPE':['100']})\n",
    "\n",
    "#... and we look at the employment rate for each year, area, and origin.\n",
    "empl = dst.get_data(table_id = 'RAS200', variables={'OMRÅDE':['*'], 'TID':['*'], 'HERKOMST':['*']})"
   ]
  },
  {
   "cell_type": "code",
<<<<<<< HEAD
   "execution_count": 43,
=======
   "execution_count": 8,
>>>>>>> f4431e1ac640bc3e06924d17c3b36c3bbbed2adf
   "metadata": {},
   "outputs": [
    {
     "output_type": "execute_result",
     "data": {
      "text/plain": "          OMRÅDE   TID                                HERKOMST       ALDER  \\\n0       Hørsholm  2008  Descendants from non-western countries  Age, total   \n1       Hørsholm  2009  Descendants from non-western countries  Age, total   \n2       Hørsholm  2010  Descendants from non-western countries  Age, total   \n3  Høje-Taastrup  2011                             Descendants  Age, total   \n4  Høje-Taastrup  2012                             Descendants  Age, total   \n\n     KØN        BEREGNING  INDHOLD  \n0  Total  Employment rate     56.9  \n1  Total  Employment rate     53.3  \n2  Total  Employment rate     57.1  \n3  Total  Employment rate     55.7  \n4  Total  Employment rate     54.4  ",
      "text/html": "<div>\n<style scoped>\n    .dataframe tbody tr th:only-of-type {\n        vertical-align: middle;\n    }\n\n    .dataframe tbody tr th {\n        vertical-align: top;\n    }\n\n    .dataframe thead th {\n        text-align: right;\n    }\n</style>\n<table border=\"1\" class=\"dataframe\">\n  <thead>\n    <tr style=\"text-align: right;\">\n      <th></th>\n      <th>OMRÅDE</th>\n      <th>TID</th>\n      <th>HERKOMST</th>\n      <th>ALDER</th>\n      <th>KØN</th>\n      <th>BEREGNING</th>\n      <th>INDHOLD</th>\n    </tr>\n  </thead>\n  <tbody>\n    <tr>\n      <td>0</td>\n      <td>Hørsholm</td>\n      <td>2008</td>\n      <td>Descendants from non-western countries</td>\n      <td>Age, total</td>\n      <td>Total</td>\n      <td>Employment rate</td>\n      <td>56.9</td>\n    </tr>\n    <tr>\n      <td>1</td>\n      <td>Hørsholm</td>\n      <td>2009</td>\n      <td>Descendants from non-western countries</td>\n      <td>Age, total</td>\n      <td>Total</td>\n      <td>Employment rate</td>\n      <td>53.3</td>\n    </tr>\n    <tr>\n      <td>2</td>\n      <td>Hørsholm</td>\n      <td>2010</td>\n      <td>Descendants from non-western countries</td>\n      <td>Age, total</td>\n      <td>Total</td>\n      <td>Employment rate</td>\n      <td>57.1</td>\n    </tr>\n    <tr>\n      <td>3</td>\n      <td>Høje-Taastrup</td>\n      <td>2011</td>\n      <td>Descendants</td>\n      <td>Age, total</td>\n      <td>Total</td>\n      <td>Employment rate</td>\n      <td>55.7</td>\n    </tr>\n    <tr>\n      <td>4</td>\n      <td>Høje-Taastrup</td>\n      <td>2012</td>\n      <td>Descendants</td>\n      <td>Age, total</td>\n      <td>Total</td>\n      <td>Employment rate</td>\n      <td>54.4</td>\n    </tr>\n  </tbody>\n</table>\n</div>"
     },
<<<<<<< HEAD
=======
     "execution_count": 8,
>>>>>>> f4431e1ac640bc3e06924d17c3b36c3bbbed2adf
     "metadata": {},
     "execution_count": 43
    }
   ],
   "source": [
    "empl.head()\n",
    ""
   ]
  },
  {
   "cell_type": "code",
<<<<<<< HEAD
   "execution_count": 44,
=======
   "execution_count": 10,
>>>>>>> f4431e1ac640bc3e06924d17c3b36c3bbbed2adf
   "metadata": {},
   "outputs": [
    {
     "output_type": "execute_result",
     "data": {
<<<<<<< HEAD
      "text/plain": "       OMRÅDE   TID                          UDDNIV  \\\n0        Fanø  2013  65 LONG-CYCLE HIGHER EDUCATION   \n1       Varde  2013  65 LONG-CYCLE HIGHER EDUCATION   \n2       Vejen  2013  65 LONG-CYCLE HIGHER EDUCATION   \n3    Aabenraa  2013  65 LONG-CYCLE HIGHER EDUCATION   \n4  Fredericia  2013  65 LONG-CYCLE HIGHER EDUCATION   \n\n                                 ENHED                         INDKOMSTTYPE  \\\n0  Average income for all people (DKK)  1 Disposable income (2+30-31-32-35)   \n1  Average income for all people (DKK)  1 Disposable income (2+30-31-32-35)   \n2  Average income for all people (DKK)  1 Disposable income (2+30-31-32-35)   \n3  Average income for all people (DKK)  1 Disposable income (2+30-31-32-35)   \n4  Average income for all people (DKK)  1 Disposable income (2+30-31-32-35)   \n\n                   KOEN  INDHOLD  \n0  Men and women, total   349974  \n1  Men and women, total   384171  \n2  Men and women, total   347954  \n3  Men and women, total   351433  \n4  Men and women, total   397056  ",
      "text/html": "<div>\n<style scoped>\n    .dataframe tbody tr th:only-of-type {\n        vertical-align: middle;\n    }\n\n    .dataframe tbody tr th {\n        vertical-align: top;\n    }\n\n    .dataframe thead th {\n        text-align: right;\n    }\n</style>\n<table border=\"1\" class=\"dataframe\">\n  <thead>\n    <tr style=\"text-align: right;\">\n      <th></th>\n      <th>OMRÅDE</th>\n      <th>TID</th>\n      <th>UDDNIV</th>\n      <th>ENHED</th>\n      <th>INDKOMSTTYPE</th>\n      <th>KOEN</th>\n      <th>INDHOLD</th>\n    </tr>\n  </thead>\n  <tbody>\n    <tr>\n      <td>0</td>\n      <td>Fanø</td>\n      <td>2013</td>\n      <td>65 LONG-CYCLE HIGHER EDUCATION</td>\n      <td>Average income for all people (DKK)</td>\n      <td>1 Disposable income (2+30-31-32-35)</td>\n      <td>Men and women, total</td>\n      <td>349974</td>\n    </tr>\n    <tr>\n      <td>1</td>\n      <td>Varde</td>\n      <td>2013</td>\n      <td>65 LONG-CYCLE HIGHER EDUCATION</td>\n      <td>Average income for all people (DKK)</td>\n      <td>1 Disposable income (2+30-31-32-35)</td>\n      <td>Men and women, total</td>\n      <td>384171</td>\n    </tr>\n    <tr>\n      <td>2</td>\n      <td>Vejen</td>\n      <td>2013</td>\n      <td>65 LONG-CYCLE HIGHER EDUCATION</td>\n      <td>Average income for all people (DKK)</td>\n      <td>1 Disposable income (2+30-31-32-35)</td>\n      <td>Men and women, total</td>\n      <td>347954</td>\n    </tr>\n    <tr>\n      <td>3</td>\n      <td>Aabenraa</td>\n      <td>2013</td>\n      <td>65 LONG-CYCLE HIGHER EDUCATION</td>\n      <td>Average income for all people (DKK)</td>\n      <td>1 Disposable income (2+30-31-32-35)</td>\n      <td>Men and women, total</td>\n      <td>351433</td>\n    </tr>\n    <tr>\n      <td>4</td>\n      <td>Fredericia</td>\n      <td>2013</td>\n      <td>65 LONG-CYCLE HIGHER EDUCATION</td>\n      <td>Average income for all people (DKK)</td>\n      <td>1 Disposable income (2+30-31-32-35)</td>\n      <td>Men and women, total</td>\n      <td>397056</td>\n    </tr>\n  </tbody>\n</table>\n</div>"
     },
=======
      "text/html": [
       "<div>\n",
       "<style scoped>\n",
       "    .dataframe tbody tr th:only-of-type {\n",
       "        vertical-align: middle;\n",
       "    }\n",
       "\n",
       "    .dataframe tbody tr th {\n",
       "        vertical-align: top;\n",
       "    }\n",
       "\n",
       "    .dataframe thead th {\n",
       "        text-align: right;\n",
       "    }\n",
       "</style>\n",
       "<table border=\"1\" class=\"dataframe\">\n",
       "  <thead>\n",
       "    <tr style=\"text-align: right;\">\n",
       "      <th></th>\n",
       "      <th>OMRÅDE</th>\n",
       "      <th>TID</th>\n",
       "      <th>UDDNIV</th>\n",
       "      <th>ENHED</th>\n",
       "      <th>INDKOMSTTYPE</th>\n",
       "      <th>KOEN</th>\n",
       "      <th>INDHOLD</th>\n",
       "    </tr>\n",
       "  </thead>\n",
       "  <tbody>\n",
       "    <tr>\n",
       "      <td>0</td>\n",
       "      <td>Fanø</td>\n",
       "      <td>2013</td>\n",
       "      <td>35 VOCATIONAL EDUCATION</td>\n",
       "      <td>Average income for all people (DKK)</td>\n",
       "      <td>1 Disposable income (2+30-31-32-35)</td>\n",
       "      <td>Men and women, total</td>\n",
       "      <td>225466</td>\n",
       "    </tr>\n",
       "    <tr>\n",
       "      <td>1</td>\n",
       "      <td>Varde</td>\n",
       "      <td>2013</td>\n",
       "      <td>35 VOCATIONAL EDUCATION</td>\n",
       "      <td>Average income for all people (DKK)</td>\n",
       "      <td>1 Disposable income (2+30-31-32-35)</td>\n",
       "      <td>Men and women, total</td>\n",
       "      <td>235711</td>\n",
       "    </tr>\n",
       "    <tr>\n",
       "      <td>2</td>\n",
       "      <td>Vejen</td>\n",
       "      <td>2013</td>\n",
       "      <td>35 VOCATIONAL EDUCATION</td>\n",
       "      <td>Average income for all people (DKK)</td>\n",
       "      <td>1 Disposable income (2+30-31-32-35)</td>\n",
       "      <td>Men and women, total</td>\n",
       "      <td>226659</td>\n",
       "    </tr>\n",
       "    <tr>\n",
       "      <td>3</td>\n",
       "      <td>Aabenraa</td>\n",
       "      <td>2013</td>\n",
       "      <td>35 VOCATIONAL EDUCATION</td>\n",
       "      <td>Average income for all people (DKK)</td>\n",
       "      <td>1 Disposable income (2+30-31-32-35)</td>\n",
       "      <td>Men and women, total</td>\n",
       "      <td>215493</td>\n",
       "    </tr>\n",
       "    <tr>\n",
       "      <td>4</td>\n",
       "      <td>Fredericia</td>\n",
       "      <td>2013</td>\n",
       "      <td>35 VOCATIONAL EDUCATION</td>\n",
       "      <td>Average income for all people (DKK)</td>\n",
       "      <td>1 Disposable income (2+30-31-32-35)</td>\n",
       "      <td>Men and women, total</td>\n",
       "      <td>218775</td>\n",
       "    </tr>\n",
       "  </tbody>\n",
       "</table>\n",
       "</div>"
      ],
      "text/plain": [
       "       OMRÅDE   TID                   UDDNIV  \\\n",
       "0        Fanø  2013  35 VOCATIONAL EDUCATION   \n",
       "1       Varde  2013  35 VOCATIONAL EDUCATION   \n",
       "2       Vejen  2013  35 VOCATIONAL EDUCATION   \n",
       "3    Aabenraa  2013  35 VOCATIONAL EDUCATION   \n",
       "4  Fredericia  2013  35 VOCATIONAL EDUCATION   \n",
       "\n",
       "                                 ENHED                         INDKOMSTTYPE  \\\n",
       "0  Average income for all people (DKK)  1 Disposable income (2+30-31-32-35)   \n",
       "1  Average income for all people (DKK)  1 Disposable income (2+30-31-32-35)   \n",
       "2  Average income for all people (DKK)  1 Disposable income (2+30-31-32-35)   \n",
       "3  Average income for all people (DKK)  1 Disposable income (2+30-31-32-35)   \n",
       "4  Average income for all people (DKK)  1 Disposable income (2+30-31-32-35)   \n",
       "\n",
       "                   KOEN  INDHOLD  \n",
       "0  Men and women, total   225466  \n",
       "1  Men and women, total   235711  \n",
       "2  Men and women, total   226659  \n",
       "3  Men and women, total   215493  \n",
       "4  Men and women, total   218775  "
      ]
     },
     "execution_count": 10,
>>>>>>> f4431e1ac640bc3e06924d17c3b36c3bbbed2adf
     "metadata": {},
     "execution_count": 44
    }
   ],
   "source": [
    "inc.head() "
   ]
  },
  {
   "cell_type": "code",
<<<<<<< HEAD
   "execution_count": 45,
=======
   "execution_count": 13,
>>>>>>> f4431e1ac640bc3e06924d17c3b36c3bbbed2adf
   "metadata": {},
   "outputs": [],
   "source": [
    "#Renaming \n",
    "columns_dict_empl = {}\n",
    "columns_dict_empl['OMRÅDE'] = 'area'\n",
    "columns_dict_empl['TID'] = 'year'\n",
    "columns_dict_empl['HERKOMST'] = 'origin'\n",
    "columns_dict_empl['INDHOLD'] = 'emp'\n",
    "\n",
    "columns_dict_inc = {}\n",
    "columns_dict_inc['OMRÅDE'] = 'area'\n",
    "columns_dict_inc['TID'] = 'year'\n",
    "columns_dict_inc['INDHOLD'] = 'income'\n",
    "columns_dict_inc['UDDNIV'] = 'educ'\n",
    "\n",
    "empl.rename(columns=columns_dict_empl,inplace=True)\n",
    "inc.rename(columns=columns_dict_inc,inplace=True)\n",
    "\n",
    "##Disposable income by region\n",
    "I = inc.area.str.contains('Region')\n",
    "inc =  inc.loc[I,['area','year','income']]\n",
    "inc.head(10)\n",
    "\n",
    "#Employment rate total by region\n",
    "I = empl.area.str.contains('Region')\n",
    "empl=  empl.loc[I,['area','year','origin','emp']]\n",
    "empl_copy =empl\n",
    "\n",
    ""
   ]
  },
  {
   "cell_type": "code",
<<<<<<< HEAD
   "execution_count": 46,
=======
   "execution_count": 14,
>>>>>>> f4431e1ac640bc3e06924d17c3b36c3bbbed2adf
   "metadata": {},
   "outputs": [],
   "source": [
    "#From this data we pick out two different employment rates. This is performed in three steps:\n",
    "\n",
    "#Step 1: Get the total employment rate\n",
    "I= empl.origin.str.contains('Total')\n",
    "empl=  empl.loc[I,['area','year','emp']]\n",
    "\n",
    "#Step 2: From the copy of empl we make the employment rate for decendents of non-western immigrants.\n",
    "L = empl_copy.origin.str.contains('Descendants from non-western countries')\n",
    "empl_copy=  empl_copy.loc[L,['area','year','emp']]\n",
    "empl_copy.rename(columns ={'emp':'emp_nw'}, inplace=True)\n",
    "\n",
    "#Step 3 Merge the two sets and obtain the final employment dataset: empl_true\n",
    "empl_true = pd.merge(empl, empl_copy, on=['area','year'], how='left')"
   ]
  },
  {
   "cell_type": "code",
<<<<<<< HEAD
   "execution_count": 47,
=======
   "execution_count": 16,
   "metadata": {},
   "outputs": [
    {
     "data": {
      "text/html": [
       "<div>\n",
       "<style scoped>\n",
       "    .dataframe tbody tr th:only-of-type {\n",
       "        vertical-align: middle;\n",
       "    }\n",
       "\n",
       "    .dataframe tbody tr th {\n",
       "        vertical-align: top;\n",
       "    }\n",
       "\n",
       "    .dataframe thead th {\n",
       "        text-align: right;\n",
       "    }\n",
       "</style>\n",
       "<table border=\"1\" class=\"dataframe\">\n",
       "  <thead>\n",
       "    <tr style=\"text-align: right;\">\n",
       "      <th></th>\n",
       "      <th>area</th>\n",
       "      <th>year</th>\n",
       "      <th>emp</th>\n",
       "      <th>emp_nw</th>\n",
       "    </tr>\n",
       "  </thead>\n",
       "  <tbody>\n",
       "    <tr>\n",
       "      <td>0</td>\n",
       "      <td>Region Midtjylland</td>\n",
       "      <td>2011</td>\n",
       "      <td>72.4</td>\n",
       "      <td>50.0</td>\n",
       "    </tr>\n",
       "    <tr>\n",
       "      <td>1</td>\n",
       "      <td>Region Midtjylland</td>\n",
       "      <td>2012</td>\n",
       "      <td>71.8</td>\n",
       "      <td>47.5</td>\n",
       "    </tr>\n",
       "    <tr>\n",
       "      <td>2</td>\n",
       "      <td>Region Midtjylland</td>\n",
       "      <td>2013</td>\n",
       "      <td>71.7</td>\n",
       "      <td>47.2</td>\n",
       "    </tr>\n",
       "    <tr>\n",
       "      <td>3</td>\n",
       "      <td>Region Midtjylland</td>\n",
       "      <td>2014</td>\n",
       "      <td>72.2</td>\n",
       "      <td>49.3</td>\n",
       "    </tr>\n",
       "    <tr>\n",
       "      <td>4</td>\n",
       "      <td>Region Nordjylland</td>\n",
       "      <td>2011</td>\n",
       "      <td>71.0</td>\n",
       "      <td>44.1</td>\n",
       "    </tr>\n",
       "  </tbody>\n",
       "</table>\n",
       "</div>"
      ],
      "text/plain": [
       "                 area  year   emp  emp_nw\n",
       "0  Region Midtjylland  2011  72.4    50.0\n",
       "1  Region Midtjylland  2012  71.8    47.5\n",
       "2  Region Midtjylland  2013  71.7    47.2\n",
       "3  Region Midtjylland  2014  72.2    49.3\n",
       "4  Region Nordjylland  2011  71.0    44.1"
      ]
     },
     "execution_count": 16,
     "metadata": {},
     "output_type": "execute_result"
    }
   ],
   "source": [
    "#Plotting the employment dataset:\n",
    "empl_true.head()"
   ]
  },
  {
   "cell_type": "markdown",
   "metadata": {},
   "source": [
    "## Merging and arriving at the final dataset"
   ]
  },
  {
   "cell_type": "code",
   "execution_count": 18,
>>>>>>> f4431e1ac640bc3e06924d17c3b36c3bbbed2adf
   "metadata": {},
   "outputs": [
    {
     "output_type": "stream",
     "name": "stdout",
     "text": "Years in empl_true: [2011 2012 2013 2014 2008 2009 2010 2015 2016 2017 2018]\nYears in inc: [2013 2012 2011 2010 2009 2008 2006 2005 2004 2014 2015 2007 2016 2017\n 2018]\nyears in income data, but not in the employment data: [2006, 2005, 2004, 2007]\n"
    }
   ],
   "source": [
    "#Finally merge the income data set to the employment data.\n",
    "\n",
    "#Looking into the data, which differs interms of range of years\n",
    "print(f'Years in empl_true: {empl_true.year.unique()}')\n",
    "print(f'Years in inc: {inc.year.unique()}')\n",
    "\n",
    "#Finding the differences\n",
    "diff_y = [y for y in inc.year.unique() if y not in empl_true.year.unique()] \n",
    "print(f'years in income data, but not in the employment data: {diff_y}')\n",
    "\n",
    "#Merging\n",
    "data = pd.merge(empl_true, inc, on=['area','year'], how='left')\n",
    "data_true = data.sort_values(['area','year'])"
   ]
  },
  {
   "cell_type": "code",
<<<<<<< HEAD
   "execution_count": 48,
=======
   "execution_count": null,
   "metadata": {},
   "outputs": [],
   "source": []
  },
  {
   "cell_type": "code",
   "execution_count": 20,
>>>>>>> f4431e1ac640bc3e06924d17c3b36c3bbbed2adf
   "metadata": {},
   "outputs": [
    {
     "output_type": "execute_result",
     "data": {
<<<<<<< HEAD
      "text/plain": "area\nRegion Hovedstaden    387343.818182\nRegion Midtjylland    352546.000000\nRegion Nordjylland    338744.818182\nRegion Sjælland       368757.090909\nRegion Syddanmark     353523.727273\nName: inc_mean, dtype: float64"
     },
=======
      "text/plain": [
       "area\n",
       "Region Hovedstaden    228339.636364\n",
       "Region Midtjylland    224758.909091\n",
       "Region Nordjylland    215044.545455\n",
       "Region Sjælland       222744.818182\n",
       "Region Syddanmark     215945.181818\n",
       "Name: inc_mean, dtype: float64"
      ]
     },
     "execution_count": 20,
>>>>>>> f4431e1ac640bc3e06924d17c3b36c3bbbed2adf
     "metadata": {},
     "execution_count": 48
    }
   ],
   "source": [
<<<<<<< HEAD
    "# Mean of disposable income for each region across years .\n",
=======
    "# Creating a new variable: Mean of disposable income for each region across years .\n",
    "\n",
>>>>>>> f4431e1ac640bc3e06924d17c3b36c3bbbed2adf
    "inc_mean = data_true.groupby('area')['income'].apply(lambda x: x.mean()).head() \n",
    "inc_mean.head(10)\n",
    "inc_mean.name = 'inc_mean' # necessary for join\n",
    "inc_mean.head(10)"
   ]
  },
  {
   "cell_type": "code",
<<<<<<< HEAD
   "execution_count": 49,
=======
   "execution_count": 21,
   "metadata": {},
   "outputs": [],
   "source": [
    "#Mergin the new variable to the dataset\n",
    "data_true = pd.merge(data_true, inc_mean, on=['area'], how='left')\n"
   ]
  },
  {
   "cell_type": "code",
   "execution_count": 22,
   "metadata": {},
   "outputs": [],
   "source": [
    "#Creating a new variable: The difference of the recorded income to the mean.\n",
    "data_true['diff_to_mean']= data_true['income']-data_true['inc_mean']"
   ]
  },
  {
   "cell_type": "code",
   "execution_count": 23,
>>>>>>> f4431e1ac640bc3e06924d17c3b36c3bbbed2adf
   "metadata": {},
   "outputs": [
    {
     "output_type": "execute_result",
     "data": {
<<<<<<< HEAD
      "text/plain": "                  area  year   emp  emp_nw  income       inc_mean  \\\n0   Region Hovedstaden  2008  75.8    65.7  317789  387343.818182   \n1   Region Hovedstaden  2009  73.3    59.7  318511  387343.818182   \n2   Region Hovedstaden  2010  72.6    57.3  371004  387343.818182   \n3   Region Hovedstaden  2011  72.5    56.2  378890  387343.818182   \n4   Region Hovedstaden  2012  72.2    55.0  388151  387343.818182   \n5   Region Hovedstaden  2013  72.3    55.5  398802  387343.818182   \n6   Region Hovedstaden  2014  72.5    55.6  411928  387343.818182   \n7   Region Hovedstaden  2015  73.2    57.7  422364  387343.818182   \n8   Region Hovedstaden  2016  73.8    58.7  411602  387343.818182   \n9   Region Hovedstaden  2017  74.4    60.5  417547  387343.818182   \n10  Region Hovedstaden  2018  75.3    63.0  424194  387343.818182   \n11  Region Midtjylland  2008  77.0    62.7  290057  352546.000000   \n12  Region Midtjylland  2009  73.4    55.2  302850  352546.000000   \n13  Region Midtjylland  2010  72.8    52.9  338659  352546.000000   \n14  Region Midtjylland  2011  72.4    50.0  343502  352546.000000   \n15  Region Midtjylland  2012  71.8    47.5  351138  352546.000000   \n16  Region Midtjylland  2013  71.7    47.2  363784  352546.000000   \n17  Region Midtjylland  2014  72.2    49.3  372237  352546.000000   \n18  Region Midtjylland  2015  72.5    50.9  378028  352546.000000   \n19  Region Midtjylland  2016  73.3    51.3  371159  352546.000000   \n20  Region Midtjylland  2017  74.1    53.0  379218  352546.000000   \n21  Region Midtjylland  2018  75.0    54.1  387374  352546.000000   \n22  Region Nordjylland  2008  75.2    49.3  283346  338744.818182   \n23  Region Nordjylland  2009  71.5    44.4  296321  338744.818182   \n24  Region Nordjylland  2010  71.2    45.7  329062  338744.818182   \n25  Region Nordjylland  2011  71.0    44.1  335163  338744.818182   \n26  Region Nordjylland  2012  70.6    42.8  337783  338744.818182   \n27  Region Nordjylland  2013  70.2    42.4  349155  338744.818182   \n28  Region Nordjylland  2014  70.3    42.2  353511  338744.818182   \n29  Region Nordjylland  2015  70.7    44.8  359774  338744.818182   \n30  Region Nordjylland  2016  71.7    46.3  351160  338744.818182   \n31  Region Nordjylland  2017  72.2    47.4  360606  338744.818182   \n32  Region Nordjylland  2018  73.4    47.9  370312  338744.818182   \n33     Region Sjælland  2008  75.7    64.0  306355  368757.090909   \n34     Region Sjælland  2009  72.7    56.8  316594  368757.090909   \n35     Region Sjælland  2010  71.9    55.0  354230  368757.090909   \n36     Region Sjælland  2011  71.6    52.3  360696  368757.090909   \n37     Region Sjælland  2012  70.9    52.4  372618  368757.090909   \n38     Region Sjælland  2013  71.0    51.8  383502  368757.090909   \n39     Region Sjælland  2014  71.3    53.4  389826  368757.090909   \n40     Region Sjælland  2015  71.9    55.7  400058  368757.090909   \n41     Region Sjælland  2016  72.6    56.9  383392  368757.090909   \n42     Region Sjælland  2017  73.3    58.6  390467  368757.090909   \n43     Region Sjælland  2018  74.4    59.1  398590  368757.090909   \n44   Region Syddanmark  2008  75.7    59.6  298013  353523.727273   \n45   Region Syddanmark  2009  72.0    52.4  308428  353523.727273   \n46   Region Syddanmark  2010  71.2    49.4  346459  353523.727273   \n47   Region Syddanmark  2011  70.7    48.4  349706  353523.727273   \n48   Region Syddanmark  2012  70.0    47.5  356027  353523.727273   \n49   Region Syddanmark  2013  70.1    46.4  364609  353523.727273   \n\n    diff_to_mean  \n0  -69554.818182  \n1  -68832.818182  \n2  -16339.818182  \n3   -8453.818182  \n4     807.181818  \n5   11458.181818  \n6   24584.181818  \n7   35020.181818  \n8   24258.181818  \n9   30203.181818  \n10  36850.181818  \n11 -62489.000000  \n12 -49696.000000  \n13 -13887.000000  \n14  -9044.000000  \n15  -1408.000000  \n16  11238.000000  \n17  19691.000000  \n18  25482.000000  \n19  18613.000000  \n20  26672.000000  \n21  34828.000000  \n22 -55398.818182  \n23 -42423.818182  \n24  -9682.818182  \n25  -3581.818182  \n26   -961.818182  \n27  10410.181818  \n28  14766.181818  \n29  21029.181818  \n30  12415.181818  \n31  21861.181818  \n32  31567.181818  \n33 -62402.090909  \n34 -52163.090909  \n35 -14527.090909  \n36  -8061.090909  \n37   3860.909091  \n38  14744.909091  \n39  21068.909091  \n40  31300.909091  \n41  14634.909091  \n42  21709.909091  \n43  29832.909091  \n44 -55510.727273  \n45 -45095.727273  \n46  -7064.727273  \n47  -3817.727273  \n48   2503.272727  \n49  11085.272727  ",
      "text/html": "<div>\n<style scoped>\n    .dataframe tbody tr th:only-of-type {\n        vertical-align: middle;\n    }\n\n    .dataframe tbody tr th {\n        vertical-align: top;\n    }\n\n    .dataframe thead th {\n        text-align: right;\n    }\n</style>\n<table border=\"1\" class=\"dataframe\">\n  <thead>\n    <tr style=\"text-align: right;\">\n      <th></th>\n      <th>area</th>\n      <th>year</th>\n      <th>emp</th>\n      <th>emp_nw</th>\n      <th>income</th>\n      <th>inc_mean</th>\n      <th>diff_to_mean</th>\n    </tr>\n  </thead>\n  <tbody>\n    <tr>\n      <td>0</td>\n      <td>Region Hovedstaden</td>\n      <td>2008</td>\n      <td>75.8</td>\n      <td>65.7</td>\n      <td>317789</td>\n      <td>387343.818182</td>\n      <td>-69554.818182</td>\n    </tr>\n    <tr>\n      <td>1</td>\n      <td>Region Hovedstaden</td>\n      <td>2009</td>\n      <td>73.3</td>\n      <td>59.7</td>\n      <td>318511</td>\n      <td>387343.818182</td>\n      <td>-68832.818182</td>\n    </tr>\n    <tr>\n      <td>2</td>\n      <td>Region Hovedstaden</td>\n      <td>2010</td>\n      <td>72.6</td>\n      <td>57.3</td>\n      <td>371004</td>\n      <td>387343.818182</td>\n      <td>-16339.818182</td>\n    </tr>\n    <tr>\n      <td>3</td>\n      <td>Region Hovedstaden</td>\n      <td>2011</td>\n      <td>72.5</td>\n      <td>56.2</td>\n      <td>378890</td>\n      <td>387343.818182</td>\n      <td>-8453.818182</td>\n    </tr>\n    <tr>\n      <td>4</td>\n      <td>Region Hovedstaden</td>\n      <td>2012</td>\n      <td>72.2</td>\n      <td>55.0</td>\n      <td>388151</td>\n      <td>387343.818182</td>\n      <td>807.181818</td>\n    </tr>\n    <tr>\n      <td>5</td>\n      <td>Region Hovedstaden</td>\n      <td>2013</td>\n      <td>72.3</td>\n      <td>55.5</td>\n      <td>398802</td>\n      <td>387343.818182</td>\n      <td>11458.181818</td>\n    </tr>\n    <tr>\n      <td>6</td>\n      <td>Region Hovedstaden</td>\n      <td>2014</td>\n      <td>72.5</td>\n      <td>55.6</td>\n      <td>411928</td>\n      <td>387343.818182</td>\n      <td>24584.181818</td>\n    </tr>\n    <tr>\n      <td>7</td>\n      <td>Region Hovedstaden</td>\n      <td>2015</td>\n      <td>73.2</td>\n      <td>57.7</td>\n      <td>422364</td>\n      <td>387343.818182</td>\n      <td>35020.181818</td>\n    </tr>\n    <tr>\n      <td>8</td>\n      <td>Region Hovedstaden</td>\n      <td>2016</td>\n      <td>73.8</td>\n      <td>58.7</td>\n      <td>411602</td>\n      <td>387343.818182</td>\n      <td>24258.181818</td>\n    </tr>\n    <tr>\n      <td>9</td>\n      <td>Region Hovedstaden</td>\n      <td>2017</td>\n      <td>74.4</td>\n      <td>60.5</td>\n      <td>417547</td>\n      <td>387343.818182</td>\n      <td>30203.181818</td>\n    </tr>\n    <tr>\n      <td>10</td>\n      <td>Region Hovedstaden</td>\n      <td>2018</td>\n      <td>75.3</td>\n      <td>63.0</td>\n      <td>424194</td>\n      <td>387343.818182</td>\n      <td>36850.181818</td>\n    </tr>\n    <tr>\n      <td>11</td>\n      <td>Region Midtjylland</td>\n      <td>2008</td>\n      <td>77.0</td>\n      <td>62.7</td>\n      <td>290057</td>\n      <td>352546.000000</td>\n      <td>-62489.000000</td>\n    </tr>\n    <tr>\n      <td>12</td>\n      <td>Region Midtjylland</td>\n      <td>2009</td>\n      <td>73.4</td>\n      <td>55.2</td>\n      <td>302850</td>\n      <td>352546.000000</td>\n      <td>-49696.000000</td>\n    </tr>\n    <tr>\n      <td>13</td>\n      <td>Region Midtjylland</td>\n      <td>2010</td>\n      <td>72.8</td>\n      <td>52.9</td>\n      <td>338659</td>\n      <td>352546.000000</td>\n      <td>-13887.000000</td>\n    </tr>\n    <tr>\n      <td>14</td>\n      <td>Region Midtjylland</td>\n      <td>2011</td>\n      <td>72.4</td>\n      <td>50.0</td>\n      <td>343502</td>\n      <td>352546.000000</td>\n      <td>-9044.000000</td>\n    </tr>\n    <tr>\n      <td>15</td>\n      <td>Region Midtjylland</td>\n      <td>2012</td>\n      <td>71.8</td>\n      <td>47.5</td>\n      <td>351138</td>\n      <td>352546.000000</td>\n      <td>-1408.000000</td>\n    </tr>\n    <tr>\n      <td>16</td>\n      <td>Region Midtjylland</td>\n      <td>2013</td>\n      <td>71.7</td>\n      <td>47.2</td>\n      <td>363784</td>\n      <td>352546.000000</td>\n      <td>11238.000000</td>\n    </tr>\n    <tr>\n      <td>17</td>\n      <td>Region Midtjylland</td>\n      <td>2014</td>\n      <td>72.2</td>\n      <td>49.3</td>\n      <td>372237</td>\n      <td>352546.000000</td>\n      <td>19691.000000</td>\n    </tr>\n    <tr>\n      <td>18</td>\n      <td>Region Midtjylland</td>\n      <td>2015</td>\n      <td>72.5</td>\n      <td>50.9</td>\n      <td>378028</td>\n      <td>352546.000000</td>\n      <td>25482.000000</td>\n    </tr>\n    <tr>\n      <td>19</td>\n      <td>Region Midtjylland</td>\n      <td>2016</td>\n      <td>73.3</td>\n      <td>51.3</td>\n      <td>371159</td>\n      <td>352546.000000</td>\n      <td>18613.000000</td>\n    </tr>\n    <tr>\n      <td>20</td>\n      <td>Region Midtjylland</td>\n      <td>2017</td>\n      <td>74.1</td>\n      <td>53.0</td>\n      <td>379218</td>\n      <td>352546.000000</td>\n      <td>26672.000000</td>\n    </tr>\n    <tr>\n      <td>21</td>\n      <td>Region Midtjylland</td>\n      <td>2018</td>\n      <td>75.0</td>\n      <td>54.1</td>\n      <td>387374</td>\n      <td>352546.000000</td>\n      <td>34828.000000</td>\n    </tr>\n    <tr>\n      <td>22</td>\n      <td>Region Nordjylland</td>\n      <td>2008</td>\n      <td>75.2</td>\n      <td>49.3</td>\n      <td>283346</td>\n      <td>338744.818182</td>\n      <td>-55398.818182</td>\n    </tr>\n    <tr>\n      <td>23</td>\n      <td>Region Nordjylland</td>\n      <td>2009</td>\n      <td>71.5</td>\n      <td>44.4</td>\n      <td>296321</td>\n      <td>338744.818182</td>\n      <td>-42423.818182</td>\n    </tr>\n    <tr>\n      <td>24</td>\n      <td>Region Nordjylland</td>\n      <td>2010</td>\n      <td>71.2</td>\n      <td>45.7</td>\n      <td>329062</td>\n      <td>338744.818182</td>\n      <td>-9682.818182</td>\n    </tr>\n    <tr>\n      <td>25</td>\n      <td>Region Nordjylland</td>\n      <td>2011</td>\n      <td>71.0</td>\n      <td>44.1</td>\n      <td>335163</td>\n      <td>338744.818182</td>\n      <td>-3581.818182</td>\n    </tr>\n    <tr>\n      <td>26</td>\n      <td>Region Nordjylland</td>\n      <td>2012</td>\n      <td>70.6</td>\n      <td>42.8</td>\n      <td>337783</td>\n      <td>338744.818182</td>\n      <td>-961.818182</td>\n    </tr>\n    <tr>\n      <td>27</td>\n      <td>Region Nordjylland</td>\n      <td>2013</td>\n      <td>70.2</td>\n      <td>42.4</td>\n      <td>349155</td>\n      <td>338744.818182</td>\n      <td>10410.181818</td>\n    </tr>\n    <tr>\n      <td>28</td>\n      <td>Region Nordjylland</td>\n      <td>2014</td>\n      <td>70.3</td>\n      <td>42.2</td>\n      <td>353511</td>\n      <td>338744.818182</td>\n      <td>14766.181818</td>\n    </tr>\n    <tr>\n      <td>29</td>\n      <td>Region Nordjylland</td>\n      <td>2015</td>\n      <td>70.7</td>\n      <td>44.8</td>\n      <td>359774</td>\n      <td>338744.818182</td>\n      <td>21029.181818</td>\n    </tr>\n    <tr>\n      <td>30</td>\n      <td>Region Nordjylland</td>\n      <td>2016</td>\n      <td>71.7</td>\n      <td>46.3</td>\n      <td>351160</td>\n      <td>338744.818182</td>\n      <td>12415.181818</td>\n    </tr>\n    <tr>\n      <td>31</td>\n      <td>Region Nordjylland</td>\n      <td>2017</td>\n      <td>72.2</td>\n      <td>47.4</td>\n      <td>360606</td>\n      <td>338744.818182</td>\n      <td>21861.181818</td>\n    </tr>\n    <tr>\n      <td>32</td>\n      <td>Region Nordjylland</td>\n      <td>2018</td>\n      <td>73.4</td>\n      <td>47.9</td>\n      <td>370312</td>\n      <td>338744.818182</td>\n      <td>31567.181818</td>\n    </tr>\n    <tr>\n      <td>33</td>\n      <td>Region Sjælland</td>\n      <td>2008</td>\n      <td>75.7</td>\n      <td>64.0</td>\n      <td>306355</td>\n      <td>368757.090909</td>\n      <td>-62402.090909</td>\n    </tr>\n    <tr>\n      <td>34</td>\n      <td>Region Sjælland</td>\n      <td>2009</td>\n      <td>72.7</td>\n      <td>56.8</td>\n      <td>316594</td>\n      <td>368757.090909</td>\n      <td>-52163.090909</td>\n    </tr>\n    <tr>\n      <td>35</td>\n      <td>Region Sjælland</td>\n      <td>2010</td>\n      <td>71.9</td>\n      <td>55.0</td>\n      <td>354230</td>\n      <td>368757.090909</td>\n      <td>-14527.090909</td>\n    </tr>\n    <tr>\n      <td>36</td>\n      <td>Region Sjælland</td>\n      <td>2011</td>\n      <td>71.6</td>\n      <td>52.3</td>\n      <td>360696</td>\n      <td>368757.090909</td>\n      <td>-8061.090909</td>\n    </tr>\n    <tr>\n      <td>37</td>\n      <td>Region Sjælland</td>\n      <td>2012</td>\n      <td>70.9</td>\n      <td>52.4</td>\n      <td>372618</td>\n      <td>368757.090909</td>\n      <td>3860.909091</td>\n    </tr>\n    <tr>\n      <td>38</td>\n      <td>Region Sjælland</td>\n      <td>2013</td>\n      <td>71.0</td>\n      <td>51.8</td>\n      <td>383502</td>\n      <td>368757.090909</td>\n      <td>14744.909091</td>\n    </tr>\n    <tr>\n      <td>39</td>\n      <td>Region Sjælland</td>\n      <td>2014</td>\n      <td>71.3</td>\n      <td>53.4</td>\n      <td>389826</td>\n      <td>368757.090909</td>\n      <td>21068.909091</td>\n    </tr>\n    <tr>\n      <td>40</td>\n      <td>Region Sjælland</td>\n      <td>2015</td>\n      <td>71.9</td>\n      <td>55.7</td>\n      <td>400058</td>\n      <td>368757.090909</td>\n      <td>31300.909091</td>\n    </tr>\n    <tr>\n      <td>41</td>\n      <td>Region Sjælland</td>\n      <td>2016</td>\n      <td>72.6</td>\n      <td>56.9</td>\n      <td>383392</td>\n      <td>368757.090909</td>\n      <td>14634.909091</td>\n    </tr>\n    <tr>\n      <td>42</td>\n      <td>Region Sjælland</td>\n      <td>2017</td>\n      <td>73.3</td>\n      <td>58.6</td>\n      <td>390467</td>\n      <td>368757.090909</td>\n      <td>21709.909091</td>\n    </tr>\n    <tr>\n      <td>43</td>\n      <td>Region Sjælland</td>\n      <td>2018</td>\n      <td>74.4</td>\n      <td>59.1</td>\n      <td>398590</td>\n      <td>368757.090909</td>\n      <td>29832.909091</td>\n    </tr>\n    <tr>\n      <td>44</td>\n      <td>Region Syddanmark</td>\n      <td>2008</td>\n      <td>75.7</td>\n      <td>59.6</td>\n      <td>298013</td>\n      <td>353523.727273</td>\n      <td>-55510.727273</td>\n    </tr>\n    <tr>\n      <td>45</td>\n      <td>Region Syddanmark</td>\n      <td>2009</td>\n      <td>72.0</td>\n      <td>52.4</td>\n      <td>308428</td>\n      <td>353523.727273</td>\n      <td>-45095.727273</td>\n    </tr>\n    <tr>\n      <td>46</td>\n      <td>Region Syddanmark</td>\n      <td>2010</td>\n      <td>71.2</td>\n      <td>49.4</td>\n      <td>346459</td>\n      <td>353523.727273</td>\n      <td>-7064.727273</td>\n    </tr>\n    <tr>\n      <td>47</td>\n      <td>Region Syddanmark</td>\n      <td>2011</td>\n      <td>70.7</td>\n      <td>48.4</td>\n      <td>349706</td>\n      <td>353523.727273</td>\n      <td>-3817.727273</td>\n    </tr>\n    <tr>\n      <td>48</td>\n      <td>Region Syddanmark</td>\n      <td>2012</td>\n      <td>70.0</td>\n      <td>47.5</td>\n      <td>356027</td>\n      <td>353523.727273</td>\n      <td>2503.272727</td>\n    </tr>\n    <tr>\n      <td>49</td>\n      <td>Region Syddanmark</td>\n      <td>2013</td>\n      <td>70.1</td>\n      <td>46.4</td>\n      <td>364609</td>\n      <td>353523.727273</td>\n      <td>11085.272727</td>\n    </tr>\n  </tbody>\n</table>\n</div>"
     },
=======
      "text/html": [
       "<div>\n",
       "<style scoped>\n",
       "    .dataframe tbody tr th:only-of-type {\n",
       "        vertical-align: middle;\n",
       "    }\n",
       "\n",
       "    .dataframe tbody tr th {\n",
       "        vertical-align: top;\n",
       "    }\n",
       "\n",
       "    .dataframe thead th {\n",
       "        text-align: right;\n",
       "    }\n",
       "</style>\n",
       "<table border=\"1\" class=\"dataframe\">\n",
       "  <thead>\n",
       "    <tr style=\"text-align: right;\">\n",
       "      <th></th>\n",
       "      <th>area</th>\n",
       "      <th>year</th>\n",
       "      <th>emp</th>\n",
       "      <th>emp_nw</th>\n",
       "      <th>income</th>\n",
       "      <th>inc_mean</th>\n",
       "      <th>diff_to_mean</th>\n",
       "    </tr>\n",
       "  </thead>\n",
       "  <tbody>\n",
       "    <tr>\n",
       "      <td>0</td>\n",
       "      <td>Region Hovedstaden</td>\n",
       "      <td>2008</td>\n",
       "      <td>75.8</td>\n",
       "      <td>65.7</td>\n",
       "      <td>197692</td>\n",
       "      <td>228339.636364</td>\n",
       "      <td>-30647.636364</td>\n",
       "    </tr>\n",
       "    <tr>\n",
       "      <td>1</td>\n",
       "      <td>Region Hovedstaden</td>\n",
       "      <td>2009</td>\n",
       "      <td>73.3</td>\n",
       "      <td>59.7</td>\n",
       "      <td>198466</td>\n",
       "      <td>228339.636364</td>\n",
       "      <td>-29873.636364</td>\n",
       "    </tr>\n",
       "    <tr>\n",
       "      <td>2</td>\n",
       "      <td>Region Hovedstaden</td>\n",
       "      <td>2010</td>\n",
       "      <td>72.6</td>\n",
       "      <td>57.3</td>\n",
       "      <td>214620</td>\n",
       "      <td>228339.636364</td>\n",
       "      <td>-13719.636364</td>\n",
       "    </tr>\n",
       "    <tr>\n",
       "      <td>3</td>\n",
       "      <td>Region Hovedstaden</td>\n",
       "      <td>2011</td>\n",
       "      <td>72.5</td>\n",
       "      <td>56.2</td>\n",
       "      <td>219615</td>\n",
       "      <td>228339.636364</td>\n",
       "      <td>-8724.636364</td>\n",
       "    </tr>\n",
       "    <tr>\n",
       "      <td>4</td>\n",
       "      <td>Region Hovedstaden</td>\n",
       "      <td>2012</td>\n",
       "      <td>72.2</td>\n",
       "      <td>55.0</td>\n",
       "      <td>224140</td>\n",
       "      <td>228339.636364</td>\n",
       "      <td>-4199.636364</td>\n",
       "    </tr>\n",
       "    <tr>\n",
       "      <td>5</td>\n",
       "      <td>Region Hovedstaden</td>\n",
       "      <td>2013</td>\n",
       "      <td>72.3</td>\n",
       "      <td>55.5</td>\n",
       "      <td>229318</td>\n",
       "      <td>228339.636364</td>\n",
       "      <td>978.363636</td>\n",
       "    </tr>\n",
       "    <tr>\n",
       "      <td>6</td>\n",
       "      <td>Region Hovedstaden</td>\n",
       "      <td>2014</td>\n",
       "      <td>72.5</td>\n",
       "      <td>55.6</td>\n",
       "      <td>235023</td>\n",
       "      <td>228339.636364</td>\n",
       "      <td>6683.363636</td>\n",
       "    </tr>\n",
       "    <tr>\n",
       "      <td>7</td>\n",
       "      <td>Region Hovedstaden</td>\n",
       "      <td>2015</td>\n",
       "      <td>73.2</td>\n",
       "      <td>57.7</td>\n",
       "      <td>241364</td>\n",
       "      <td>228339.636364</td>\n",
       "      <td>13024.363636</td>\n",
       "    </tr>\n",
       "    <tr>\n",
       "      <td>8</td>\n",
       "      <td>Region Hovedstaden</td>\n",
       "      <td>2016</td>\n",
       "      <td>73.8</td>\n",
       "      <td>58.7</td>\n",
       "      <td>244771</td>\n",
       "      <td>228339.636364</td>\n",
       "      <td>16431.363636</td>\n",
       "    </tr>\n",
       "    <tr>\n",
       "      <td>9</td>\n",
       "      <td>Region Hovedstaden</td>\n",
       "      <td>2017</td>\n",
       "      <td>74.4</td>\n",
       "      <td>60.5</td>\n",
       "      <td>250257</td>\n",
       "      <td>228339.636364</td>\n",
       "      <td>21917.363636</td>\n",
       "    </tr>\n",
       "    <tr>\n",
       "      <td>10</td>\n",
       "      <td>Region Hovedstaden</td>\n",
       "      <td>2018</td>\n",
       "      <td>75.3</td>\n",
       "      <td>63.0</td>\n",
       "      <td>256470</td>\n",
       "      <td>228339.636364</td>\n",
       "      <td>28130.363636</td>\n",
       "    </tr>\n",
       "    <tr>\n",
       "      <td>11</td>\n",
       "      <td>Region Midtjylland</td>\n",
       "      <td>2008</td>\n",
       "      <td>77.0</td>\n",
       "      <td>62.7</td>\n",
       "      <td>192416</td>\n",
       "      <td>224758.909091</td>\n",
       "      <td>-32342.909091</td>\n",
       "    </tr>\n",
       "    <tr>\n",
       "      <td>12</td>\n",
       "      <td>Region Midtjylland</td>\n",
       "      <td>2009</td>\n",
       "      <td>73.4</td>\n",
       "      <td>55.2</td>\n",
       "      <td>197157</td>\n",
       "      <td>224758.909091</td>\n",
       "      <td>-27601.909091</td>\n",
       "    </tr>\n",
       "    <tr>\n",
       "      <td>13</td>\n",
       "      <td>Region Midtjylland</td>\n",
       "      <td>2010</td>\n",
       "      <td>72.8</td>\n",
       "      <td>52.9</td>\n",
       "      <td>210094</td>\n",
       "      <td>224758.909091</td>\n",
       "      <td>-14664.909091</td>\n",
       "    </tr>\n",
       "    <tr>\n",
       "      <td>14</td>\n",
       "      <td>Region Midtjylland</td>\n",
       "      <td>2011</td>\n",
       "      <td>72.4</td>\n",
       "      <td>50.0</td>\n",
       "      <td>215844</td>\n",
       "      <td>224758.909091</td>\n",
       "      <td>-8914.909091</td>\n",
       "    </tr>\n",
       "    <tr>\n",
       "      <td>15</td>\n",
       "      <td>Region Midtjylland</td>\n",
       "      <td>2012</td>\n",
       "      <td>71.8</td>\n",
       "      <td>47.5</td>\n",
       "      <td>221785</td>\n",
       "      <td>224758.909091</td>\n",
       "      <td>-2973.909091</td>\n",
       "    </tr>\n",
       "    <tr>\n",
       "      <td>16</td>\n",
       "      <td>Region Midtjylland</td>\n",
       "      <td>2013</td>\n",
       "      <td>71.7</td>\n",
       "      <td>47.2</td>\n",
       "      <td>227787</td>\n",
       "      <td>224758.909091</td>\n",
       "      <td>3028.090909</td>\n",
       "    </tr>\n",
       "    <tr>\n",
       "      <td>17</td>\n",
       "      <td>Region Midtjylland</td>\n",
       "      <td>2014</td>\n",
       "      <td>72.2</td>\n",
       "      <td>49.3</td>\n",
       "      <td>227510</td>\n",
       "      <td>224758.909091</td>\n",
       "      <td>2751.090909</td>\n",
       "    </tr>\n",
       "    <tr>\n",
       "      <td>18</td>\n",
       "      <td>Region Midtjylland</td>\n",
       "      <td>2015</td>\n",
       "      <td>72.5</td>\n",
       "      <td>50.9</td>\n",
       "      <td>236211</td>\n",
       "      <td>224758.909091</td>\n",
       "      <td>11452.090909</td>\n",
       "    </tr>\n",
       "    <tr>\n",
       "      <td>19</td>\n",
       "      <td>Region Midtjylland</td>\n",
       "      <td>2016</td>\n",
       "      <td>73.3</td>\n",
       "      <td>51.3</td>\n",
       "      <td>240838</td>\n",
       "      <td>224758.909091</td>\n",
       "      <td>16079.090909</td>\n",
       "    </tr>\n",
       "    <tr>\n",
       "      <td>20</td>\n",
       "      <td>Region Midtjylland</td>\n",
       "      <td>2017</td>\n",
       "      <td>74.1</td>\n",
       "      <td>53.0</td>\n",
       "      <td>248821</td>\n",
       "      <td>224758.909091</td>\n",
       "      <td>24062.090909</td>\n",
       "    </tr>\n",
       "    <tr>\n",
       "      <td>21</td>\n",
       "      <td>Region Midtjylland</td>\n",
       "      <td>2018</td>\n",
       "      <td>75.0</td>\n",
       "      <td>54.1</td>\n",
       "      <td>253885</td>\n",
       "      <td>224758.909091</td>\n",
       "      <td>29126.090909</td>\n",
       "    </tr>\n",
       "    <tr>\n",
       "      <td>22</td>\n",
       "      <td>Region Nordjylland</td>\n",
       "      <td>2008</td>\n",
       "      <td>75.2</td>\n",
       "      <td>49.3</td>\n",
       "      <td>184455</td>\n",
       "      <td>215044.545455</td>\n",
       "      <td>-30589.545455</td>\n",
       "    </tr>\n",
       "    <tr>\n",
       "      <td>23</td>\n",
       "      <td>Region Nordjylland</td>\n",
       "      <td>2009</td>\n",
       "      <td>71.5</td>\n",
       "      <td>44.4</td>\n",
       "      <td>187773</td>\n",
       "      <td>215044.545455</td>\n",
       "      <td>-27271.545455</td>\n",
       "    </tr>\n",
       "    <tr>\n",
       "      <td>24</td>\n",
       "      <td>Region Nordjylland</td>\n",
       "      <td>2010</td>\n",
       "      <td>71.2</td>\n",
       "      <td>45.7</td>\n",
       "      <td>199859</td>\n",
       "      <td>215044.545455</td>\n",
       "      <td>-15185.545455</td>\n",
       "    </tr>\n",
       "    <tr>\n",
       "      <td>25</td>\n",
       "      <td>Region Nordjylland</td>\n",
       "      <td>2011</td>\n",
       "      <td>71.0</td>\n",
       "      <td>44.1</td>\n",
       "      <td>207045</td>\n",
       "      <td>215044.545455</td>\n",
       "      <td>-7999.545455</td>\n",
       "    </tr>\n",
       "    <tr>\n",
       "      <td>26</td>\n",
       "      <td>Region Nordjylland</td>\n",
       "      <td>2012</td>\n",
       "      <td>70.6</td>\n",
       "      <td>42.8</td>\n",
       "      <td>213414</td>\n",
       "      <td>215044.545455</td>\n",
       "      <td>-1630.545455</td>\n",
       "    </tr>\n",
       "    <tr>\n",
       "      <td>27</td>\n",
       "      <td>Region Nordjylland</td>\n",
       "      <td>2013</td>\n",
       "      <td>70.2</td>\n",
       "      <td>42.4</td>\n",
       "      <td>219289</td>\n",
       "      <td>215044.545455</td>\n",
       "      <td>4244.454545</td>\n",
       "    </tr>\n",
       "    <tr>\n",
       "      <td>28</td>\n",
       "      <td>Region Nordjylland</td>\n",
       "      <td>2014</td>\n",
       "      <td>70.3</td>\n",
       "      <td>42.2</td>\n",
       "      <td>220841</td>\n",
       "      <td>215044.545455</td>\n",
       "      <td>5796.454545</td>\n",
       "    </tr>\n",
       "    <tr>\n",
       "      <td>29</td>\n",
       "      <td>Region Nordjylland</td>\n",
       "      <td>2015</td>\n",
       "      <td>70.7</td>\n",
       "      <td>44.8</td>\n",
       "      <td>224711</td>\n",
       "      <td>215044.545455</td>\n",
       "      <td>9666.454545</td>\n",
       "    </tr>\n",
       "    <tr>\n",
       "      <td>30</td>\n",
       "      <td>Region Nordjylland</td>\n",
       "      <td>2016</td>\n",
       "      <td>71.7</td>\n",
       "      <td>46.3</td>\n",
       "      <td>229358</td>\n",
       "      <td>215044.545455</td>\n",
       "      <td>14313.454545</td>\n",
       "    </tr>\n",
       "    <tr>\n",
       "      <td>31</td>\n",
       "      <td>Region Nordjylland</td>\n",
       "      <td>2017</td>\n",
       "      <td>72.2</td>\n",
       "      <td>47.4</td>\n",
       "      <td>238065</td>\n",
       "      <td>215044.545455</td>\n",
       "      <td>23020.454545</td>\n",
       "    </tr>\n",
       "    <tr>\n",
       "      <td>32</td>\n",
       "      <td>Region Nordjylland</td>\n",
       "      <td>2018</td>\n",
       "      <td>73.4</td>\n",
       "      <td>47.9</td>\n",
       "      <td>240680</td>\n",
       "      <td>215044.545455</td>\n",
       "      <td>25635.454545</td>\n",
       "    </tr>\n",
       "    <tr>\n",
       "      <td>33</td>\n",
       "      <td>Region Sjælland</td>\n",
       "      <td>2008</td>\n",
       "      <td>75.7</td>\n",
       "      <td>64.0</td>\n",
       "      <td>192355</td>\n",
       "      <td>222744.818182</td>\n",
       "      <td>-30389.818182</td>\n",
       "    </tr>\n",
       "    <tr>\n",
       "      <td>34</td>\n",
       "      <td>Region Sjælland</td>\n",
       "      <td>2009</td>\n",
       "      <td>72.7</td>\n",
       "      <td>56.8</td>\n",
       "      <td>194916</td>\n",
       "      <td>222744.818182</td>\n",
       "      <td>-27828.818182</td>\n",
       "    </tr>\n",
       "    <tr>\n",
       "      <td>35</td>\n",
       "      <td>Region Sjælland</td>\n",
       "      <td>2010</td>\n",
       "      <td>71.9</td>\n",
       "      <td>55.0</td>\n",
       "      <td>209777</td>\n",
       "      <td>222744.818182</td>\n",
       "      <td>-12967.818182</td>\n",
       "    </tr>\n",
       "    <tr>\n",
       "      <td>36</td>\n",
       "      <td>Region Sjælland</td>\n",
       "      <td>2011</td>\n",
       "      <td>71.6</td>\n",
       "      <td>52.3</td>\n",
       "      <td>212911</td>\n",
       "      <td>222744.818182</td>\n",
       "      <td>-9833.818182</td>\n",
       "    </tr>\n",
       "    <tr>\n",
       "      <td>37</td>\n",
       "      <td>Region Sjælland</td>\n",
       "      <td>2012</td>\n",
       "      <td>70.9</td>\n",
       "      <td>52.4</td>\n",
       "      <td>218913</td>\n",
       "      <td>222744.818182</td>\n",
       "      <td>-3831.818182</td>\n",
       "    </tr>\n",
       "    <tr>\n",
       "      <td>38</td>\n",
       "      <td>Region Sjælland</td>\n",
       "      <td>2013</td>\n",
       "      <td>71.0</td>\n",
       "      <td>51.8</td>\n",
       "      <td>225441</td>\n",
       "      <td>222744.818182</td>\n",
       "      <td>2696.181818</td>\n",
       "    </tr>\n",
       "    <tr>\n",
       "      <td>39</td>\n",
       "      <td>Region Sjælland</td>\n",
       "      <td>2014</td>\n",
       "      <td>71.3</td>\n",
       "      <td>53.4</td>\n",
       "      <td>229824</td>\n",
       "      <td>222744.818182</td>\n",
       "      <td>7079.181818</td>\n",
       "    </tr>\n",
       "    <tr>\n",
       "      <td>40</td>\n",
       "      <td>Region Sjælland</td>\n",
       "      <td>2015</td>\n",
       "      <td>71.9</td>\n",
       "      <td>55.7</td>\n",
       "      <td>234122</td>\n",
       "      <td>222744.818182</td>\n",
       "      <td>11377.181818</td>\n",
       "    </tr>\n",
       "    <tr>\n",
       "      <td>41</td>\n",
       "      <td>Region Sjælland</td>\n",
       "      <td>2016</td>\n",
       "      <td>72.6</td>\n",
       "      <td>56.9</td>\n",
       "      <td>237820</td>\n",
       "      <td>222744.818182</td>\n",
       "      <td>15075.181818</td>\n",
       "    </tr>\n",
       "    <tr>\n",
       "      <td>42</td>\n",
       "      <td>Region Sjælland</td>\n",
       "      <td>2017</td>\n",
       "      <td>73.3</td>\n",
       "      <td>58.6</td>\n",
       "      <td>244885</td>\n",
       "      <td>222744.818182</td>\n",
       "      <td>22140.181818</td>\n",
       "    </tr>\n",
       "    <tr>\n",
       "      <td>43</td>\n",
       "      <td>Region Sjælland</td>\n",
       "      <td>2018</td>\n",
       "      <td>74.4</td>\n",
       "      <td>59.1</td>\n",
       "      <td>249229</td>\n",
       "      <td>222744.818182</td>\n",
       "      <td>26484.181818</td>\n",
       "    </tr>\n",
       "    <tr>\n",
       "      <td>44</td>\n",
       "      <td>Region Syddanmark</td>\n",
       "      <td>2008</td>\n",
       "      <td>75.7</td>\n",
       "      <td>59.6</td>\n",
       "      <td>186939</td>\n",
       "      <td>215945.181818</td>\n",
       "      <td>-29006.181818</td>\n",
       "    </tr>\n",
       "    <tr>\n",
       "      <td>45</td>\n",
       "      <td>Region Syddanmark</td>\n",
       "      <td>2009</td>\n",
       "      <td>72.0</td>\n",
       "      <td>52.4</td>\n",
       "      <td>190717</td>\n",
       "      <td>215945.181818</td>\n",
       "      <td>-25228.181818</td>\n",
       "    </tr>\n",
       "    <tr>\n",
       "      <td>46</td>\n",
       "      <td>Region Syddanmark</td>\n",
       "      <td>2010</td>\n",
       "      <td>71.2</td>\n",
       "      <td>49.4</td>\n",
       "      <td>204138</td>\n",
       "      <td>215945.181818</td>\n",
       "      <td>-11807.181818</td>\n",
       "    </tr>\n",
       "    <tr>\n",
       "      <td>47</td>\n",
       "      <td>Region Syddanmark</td>\n",
       "      <td>2011</td>\n",
       "      <td>70.7</td>\n",
       "      <td>48.4</td>\n",
       "      <td>208367</td>\n",
       "      <td>215945.181818</td>\n",
       "      <td>-7578.181818</td>\n",
       "    </tr>\n",
       "    <tr>\n",
       "      <td>48</td>\n",
       "      <td>Region Syddanmark</td>\n",
       "      <td>2012</td>\n",
       "      <td>70.0</td>\n",
       "      <td>47.5</td>\n",
       "      <td>212855</td>\n",
       "      <td>215945.181818</td>\n",
       "      <td>-3090.181818</td>\n",
       "    </tr>\n",
       "    <tr>\n",
       "      <td>49</td>\n",
       "      <td>Region Syddanmark</td>\n",
       "      <td>2013</td>\n",
       "      <td>70.1</td>\n",
       "      <td>46.4</td>\n",
       "      <td>218032</td>\n",
       "      <td>215945.181818</td>\n",
       "      <td>2086.818182</td>\n",
       "    </tr>\n",
       "  </tbody>\n",
       "</table>\n",
       "</div>"
      ],
      "text/plain": [
       "                  area  year   emp  emp_nw  income       inc_mean  \\\n",
       "0   Region Hovedstaden  2008  75.8    65.7  197692  228339.636364   \n",
       "1   Region Hovedstaden  2009  73.3    59.7  198466  228339.636364   \n",
       "2   Region Hovedstaden  2010  72.6    57.3  214620  228339.636364   \n",
       "3   Region Hovedstaden  2011  72.5    56.2  219615  228339.636364   \n",
       "4   Region Hovedstaden  2012  72.2    55.0  224140  228339.636364   \n",
       "5   Region Hovedstaden  2013  72.3    55.5  229318  228339.636364   \n",
       "6   Region Hovedstaden  2014  72.5    55.6  235023  228339.636364   \n",
       "7   Region Hovedstaden  2015  73.2    57.7  241364  228339.636364   \n",
       "8   Region Hovedstaden  2016  73.8    58.7  244771  228339.636364   \n",
       "9   Region Hovedstaden  2017  74.4    60.5  250257  228339.636364   \n",
       "10  Region Hovedstaden  2018  75.3    63.0  256470  228339.636364   \n",
       "11  Region Midtjylland  2008  77.0    62.7  192416  224758.909091   \n",
       "12  Region Midtjylland  2009  73.4    55.2  197157  224758.909091   \n",
       "13  Region Midtjylland  2010  72.8    52.9  210094  224758.909091   \n",
       "14  Region Midtjylland  2011  72.4    50.0  215844  224758.909091   \n",
       "15  Region Midtjylland  2012  71.8    47.5  221785  224758.909091   \n",
       "16  Region Midtjylland  2013  71.7    47.2  227787  224758.909091   \n",
       "17  Region Midtjylland  2014  72.2    49.3  227510  224758.909091   \n",
       "18  Region Midtjylland  2015  72.5    50.9  236211  224758.909091   \n",
       "19  Region Midtjylland  2016  73.3    51.3  240838  224758.909091   \n",
       "20  Region Midtjylland  2017  74.1    53.0  248821  224758.909091   \n",
       "21  Region Midtjylland  2018  75.0    54.1  253885  224758.909091   \n",
       "22  Region Nordjylland  2008  75.2    49.3  184455  215044.545455   \n",
       "23  Region Nordjylland  2009  71.5    44.4  187773  215044.545455   \n",
       "24  Region Nordjylland  2010  71.2    45.7  199859  215044.545455   \n",
       "25  Region Nordjylland  2011  71.0    44.1  207045  215044.545455   \n",
       "26  Region Nordjylland  2012  70.6    42.8  213414  215044.545455   \n",
       "27  Region Nordjylland  2013  70.2    42.4  219289  215044.545455   \n",
       "28  Region Nordjylland  2014  70.3    42.2  220841  215044.545455   \n",
       "29  Region Nordjylland  2015  70.7    44.8  224711  215044.545455   \n",
       "30  Region Nordjylland  2016  71.7    46.3  229358  215044.545455   \n",
       "31  Region Nordjylland  2017  72.2    47.4  238065  215044.545455   \n",
       "32  Region Nordjylland  2018  73.4    47.9  240680  215044.545455   \n",
       "33     Region Sjælland  2008  75.7    64.0  192355  222744.818182   \n",
       "34     Region Sjælland  2009  72.7    56.8  194916  222744.818182   \n",
       "35     Region Sjælland  2010  71.9    55.0  209777  222744.818182   \n",
       "36     Region Sjælland  2011  71.6    52.3  212911  222744.818182   \n",
       "37     Region Sjælland  2012  70.9    52.4  218913  222744.818182   \n",
       "38     Region Sjælland  2013  71.0    51.8  225441  222744.818182   \n",
       "39     Region Sjælland  2014  71.3    53.4  229824  222744.818182   \n",
       "40     Region Sjælland  2015  71.9    55.7  234122  222744.818182   \n",
       "41     Region Sjælland  2016  72.6    56.9  237820  222744.818182   \n",
       "42     Region Sjælland  2017  73.3    58.6  244885  222744.818182   \n",
       "43     Region Sjælland  2018  74.4    59.1  249229  222744.818182   \n",
       "44   Region Syddanmark  2008  75.7    59.6  186939  215945.181818   \n",
       "45   Region Syddanmark  2009  72.0    52.4  190717  215945.181818   \n",
       "46   Region Syddanmark  2010  71.2    49.4  204138  215945.181818   \n",
       "47   Region Syddanmark  2011  70.7    48.4  208367  215945.181818   \n",
       "48   Region Syddanmark  2012  70.0    47.5  212855  215945.181818   \n",
       "49   Region Syddanmark  2013  70.1    46.4  218032  215945.181818   \n",
       "\n",
       "    diff_to_mean  \n",
       "0  -30647.636364  \n",
       "1  -29873.636364  \n",
       "2  -13719.636364  \n",
       "3   -8724.636364  \n",
       "4   -4199.636364  \n",
       "5     978.363636  \n",
       "6    6683.363636  \n",
       "7   13024.363636  \n",
       "8   16431.363636  \n",
       "9   21917.363636  \n",
       "10  28130.363636  \n",
       "11 -32342.909091  \n",
       "12 -27601.909091  \n",
       "13 -14664.909091  \n",
       "14  -8914.909091  \n",
       "15  -2973.909091  \n",
       "16   3028.090909  \n",
       "17   2751.090909  \n",
       "18  11452.090909  \n",
       "19  16079.090909  \n",
       "20  24062.090909  \n",
       "21  29126.090909  \n",
       "22 -30589.545455  \n",
       "23 -27271.545455  \n",
       "24 -15185.545455  \n",
       "25  -7999.545455  \n",
       "26  -1630.545455  \n",
       "27   4244.454545  \n",
       "28   5796.454545  \n",
       "29   9666.454545  \n",
       "30  14313.454545  \n",
       "31  23020.454545  \n",
       "32  25635.454545  \n",
       "33 -30389.818182  \n",
       "34 -27828.818182  \n",
       "35 -12967.818182  \n",
       "36  -9833.818182  \n",
       "37  -3831.818182  \n",
       "38   2696.181818  \n",
       "39   7079.181818  \n",
       "40  11377.181818  \n",
       "41  15075.181818  \n",
       "42  22140.181818  \n",
       "43  26484.181818  \n",
       "44 -29006.181818  \n",
       "45 -25228.181818  \n",
       "46 -11807.181818  \n",
       "47  -7578.181818  \n",
       "48  -3090.181818  \n",
       "49   2086.818182  "
      ]
     },
     "execution_count": 23,
>>>>>>> f4431e1ac640bc3e06924d17c3b36c3bbbed2adf
     "metadata": {},
     "execution_count": 49
    }
   ],
   "source": [
    "#Mergin the new variable to the dataset\n",
    "data_true = pd.merge(data_true, inc_mean, on=['area'], how='left')\n",
    "#Creating a new variable: The difference of the recorded income to the mean.\n",
    "data_true['diff_to_mean']= data_true['income']-data_true['inc_mean']\n",
    "#The final dataset\n",
    "data_true.head(50)"
   ]
  },
  {
   "cell_type": "markdown",
   "metadata": {},
   "source": [
    "## Descriptive statistics"
   ]
  },
  {
   "cell_type": "code",
<<<<<<< HEAD
   "execution_count": 50,
   "metadata": {},
   "outputs": [
    {
     "output_type": "execute_result",
=======
   "execution_count": 24,
   "metadata": {},
   "outputs": [
    {
     "name": "stdout",
     "output_type": "stream",
     "text": [
      " The mean employment rate of the total population by region\n"
     ]
    },
    {
     "data": {
      "text/plain": [
       "area\n",
       "Region Hovedstaden    73.445455\n",
       "Region Midtjylland    73.290909\n",
       "Region Nordjylland    71.636364\n",
       "Region Sjælland       72.481818\n",
       "Region Syddanmark     71.700000\n",
       "Name: emp, dtype: float64"
      ]
     },
     "execution_count": 24,
     "metadata": {},
     "output_type": "execute_result"
    }
   ],
   "source": [
    "#Plain desriptive statistics\n",
    "data_true.describe()\n",
    "#Mean\n",
    "print(\" The mean employment rate of the total population by region\")\n",
    "data_true.groupby('area')['emp'].apply(lambda x: x.mean()).head()\n"
   ]
  },
  {
   "cell_type": "code",
   "execution_count": 25,
   "metadata": {},
   "outputs": [
    {
     "name": "stdout",
     "output_type": "stream",
     "text": [
      "The mean employmentrate of descendants of non-western immigrants\n"
     ]
    },
    {
>>>>>>> f4431e1ac640bc3e06924d17c3b36c3bbbed2adf
     "data": {
      "text/plain": "area\nRegion Hovedstaden    58.627273\nRegion Midtjylland    52.190909\nRegion Nordjylland    45.209091\nRegion Sjælland       56.000000\nRegion Syddanmark     50.136364\nName: emp_nw, dtype: float64"
     },
<<<<<<< HEAD
=======
     "execution_count": 25,
>>>>>>> f4431e1ac640bc3e06924d17c3b36c3bbbed2adf
     "metadata": {},
     "execution_count": 50
    }
   ],
   "source": [
<<<<<<< HEAD
    "#Plain desriptive statistics\n",
    "data_true.describe()\n",
    "#Mean\n",
    "data_true.groupby('area')['emp'].apply(lambda x: x.mean()).head()\n",
    "data_true.groupby('area')['emp_nw'].apply(lambda x: x.mean()).head()\n",
    ""
=======
    "print(\"The mean employmentrate of descendants of non-western immigrants\")\n",
    "data_true.groupby('area')['emp_nw'].apply(lambda x: x.mean()).head()"
>>>>>>> f4431e1ac640bc3e06924d17c3b36c3bbbed2adf
   ]
  },
  {
   "cell_type": "markdown",
   "metadata": {},
   "source": [
    "# Plotting both employment rates for the regions"
   ]
  },
  {
   "cell_type": "code",
<<<<<<< HEAD
   "execution_count": 51,
=======
   "execution_count": 26,
>>>>>>> f4431e1ac640bc3e06924d17c3b36c3bbbed2adf
   "metadata": {},
   "outputs": [],
   "source": [
    "import ipywidgets as widgets\n",
    "def plot_data_true(df, area): \n",
    "    I = df['area'] == area\n",
    "    ax=df.loc[I,:].plot(x='year', y={'emp_nw','emp'}, style='-o', legend=False)"
   ]
  },
  {
   "cell_type": "code",
<<<<<<< HEAD
   "execution_count": 52,
=======
   "execution_count": 27,
>>>>>>> f4431e1ac640bc3e06924d17c3b36c3bbbed2adf
   "metadata": {},
   "outputs": [
    {
     "output_type": "display_data",
     "data": {
<<<<<<< HEAD
      "text/plain": "<Figure size 432x288 with 1 Axes>",
      "image/svg+xml": "<?xml version=\"1.0\" encoding=\"utf-8\" standalone=\"no\"?>\r\n<!DOCTYPE svg PUBLIC \"-//W3C//DTD SVG 1.1//EN\"\r\n  \"http://www.w3.org/Graphics/SVG/1.1/DTD/svg11.dtd\">\r\n<!-- Created with matplotlib (https://matplotlib.org/) -->\r\n<svg height=\"257.630625pt\" version=\"1.1\" viewBox=\"0 0 374.94375 257.630625\" width=\"374.94375pt\" xmlns=\"http://www.w3.org/2000/svg\" xmlns:xlink=\"http://www.w3.org/1999/xlink\">\r\n <defs>\r\n  <style type=\"text/css\">\r\n*{stroke-linecap:butt;stroke-linejoin:round;}\r\n  </style>\r\n </defs>\r\n <g id=\"figure_1\">\r\n  <g id=\"patch_1\">\r\n   <path d=\"M 0 257.630625 \r\nL 374.94375 257.630625 \r\nL 374.94375 0 \r\nL 0 0 \r\nz\r\n\" style=\"fill:#ffffff;\"/>\r\n  </g>\r\n  <g id=\"axes_1\">\r\n   <g id=\"patch_2\">\r\n    <path d=\"M 21.821875 224.64 \r\nL 356.621875 224.64 \r\nL 356.621875 7.2 \r\nL 21.821875 7.2 \r\nz\r\n\" style=\"fill:#ffffff;\"/>\r\n   </g>\r\n   <g id=\"matplotlib.axis_1\">\r\n    <g id=\"xtick_1\">\r\n     <g id=\"line2d_1\">\r\n      <path clip-path=\"url(#pdcd27814d4)\" d=\"M 21.821875 224.64 \r\nL 21.821875 7.2 \r\n\" style=\"fill:none;stroke:#cccccc;stroke-linecap:round;stroke-width:0.8;\"/>\r\n     </g>\r\n     <g id=\"line2d_2\"/>\r\n     <g id=\"text_1\">\r\n      <!-- 2008 -->\r\n      <defs>\r\n       <path d=\"M 50.34375 8.453125 \r\nL 50.34375 0 \r\nL 3.03125 0 \r\nQ 2.9375 3.171875 4.046875 6.109375 \r\nQ 5.859375 10.9375 9.828125 15.625 \r\nQ 13.8125 20.3125 21.34375 26.46875 \r\nQ 33.015625 36.03125 37.109375 41.625 \r\nQ 41.21875 47.21875 41.21875 52.203125 \r\nQ 41.21875 57.421875 37.46875 61 \r\nQ 33.734375 64.59375 27.734375 64.59375 \r\nQ 21.390625 64.59375 17.578125 60.78125 \r\nQ 13.765625 56.984375 13.71875 50.25 \r\nL 4.6875 51.171875 \r\nQ 5.609375 61.28125 11.65625 66.578125 \r\nQ 17.71875 71.875 27.9375 71.875 \r\nQ 38.234375 71.875 44.234375 66.15625 \r\nQ 50.25 60.453125 50.25 52 \r\nQ 50.25 47.703125 48.484375 43.546875 \r\nQ 46.734375 39.40625 42.65625 34.8125 \r\nQ 38.578125 30.21875 29.109375 22.21875 \r\nQ 21.1875 15.578125 18.9375 13.203125 \r\nQ 16.703125 10.84375 15.234375 8.453125 \r\nz\r\n\" id=\"ArialMT-50\"/>\r\n       <path d=\"M 4.15625 35.296875 \r\nQ 4.15625 48 6.765625 55.734375 \r\nQ 9.375 63.484375 14.515625 67.671875 \r\nQ 19.671875 71.875 27.484375 71.875 \r\nQ 33.25 71.875 37.59375 69.546875 \r\nQ 41.9375 67.234375 44.765625 62.859375 \r\nQ 47.609375 58.5 49.21875 52.21875 \r\nQ 50.828125 45.953125 50.828125 35.296875 \r\nQ 50.828125 22.703125 48.234375 14.96875 \r\nQ 45.65625 7.234375 40.5 3 \r\nQ 35.359375 -1.21875 27.484375 -1.21875 \r\nQ 17.140625 -1.21875 11.234375 6.203125 \r\nQ 4.15625 15.140625 4.15625 35.296875 \r\nz\r\nM 13.1875 35.296875 \r\nQ 13.1875 17.671875 17.3125 11.828125 \r\nQ 21.4375 6 27.484375 6 \r\nQ 33.546875 6 37.671875 11.859375 \r\nQ 41.796875 17.71875 41.796875 35.296875 \r\nQ 41.796875 52.984375 37.671875 58.78125 \r\nQ 33.546875 64.59375 27.390625 64.59375 \r\nQ 21.34375 64.59375 17.71875 59.46875 \r\nQ 13.1875 52.9375 13.1875 35.296875 \r\nz\r\n\" id=\"ArialMT-48\"/>\r\n       <path d=\"M 17.671875 38.8125 \r\nQ 12.203125 40.828125 9.5625 44.53125 \r\nQ 6.9375 48.25 6.9375 53.421875 \r\nQ 6.9375 61.234375 12.546875 66.546875 \r\nQ 18.171875 71.875 27.484375 71.875 \r\nQ 36.859375 71.875 42.578125 66.421875 \r\nQ 48.296875 60.984375 48.296875 53.171875 \r\nQ 48.296875 48.1875 45.671875 44.5 \r\nQ 43.0625 40.828125 37.75 38.8125 \r\nQ 44.34375 36.671875 47.78125 31.875 \r\nQ 51.21875 27.09375 51.21875 20.453125 \r\nQ 51.21875 11.28125 44.71875 5.03125 \r\nQ 38.234375 -1.21875 27.640625 -1.21875 \r\nQ 17.046875 -1.21875 10.546875 5.046875 \r\nQ 4.046875 11.328125 4.046875 20.703125 \r\nQ 4.046875 27.6875 7.59375 32.390625 \r\nQ 11.140625 37.109375 17.671875 38.8125 \r\nz\r\nM 15.921875 53.71875 \r\nQ 15.921875 48.640625 19.1875 45.40625 \r\nQ 22.46875 42.1875 27.6875 42.1875 \r\nQ 32.765625 42.1875 36.015625 45.375 \r\nQ 39.265625 48.578125 39.265625 53.21875 \r\nQ 39.265625 58.0625 35.90625 61.359375 \r\nQ 32.5625 64.65625 27.59375 64.65625 \r\nQ 22.5625 64.65625 19.234375 61.421875 \r\nQ 15.921875 58.203125 15.921875 53.71875 \r\nz\r\nM 13.09375 20.65625 \r\nQ 13.09375 16.890625 14.875 13.375 \r\nQ 16.65625 9.859375 20.171875 7.921875 \r\nQ 23.6875 6 27.734375 6 \r\nQ 34.03125 6 38.125 10.046875 \r\nQ 42.234375 14.109375 42.234375 20.359375 \r\nQ 42.234375 26.703125 38.015625 30.859375 \r\nQ 33.796875 35.015625 27.4375 35.015625 \r\nQ 21.234375 35.015625 17.15625 30.90625 \r\nQ 13.09375 26.8125 13.09375 20.65625 \r\nz\r\n\" id=\"ArialMT-56\"/>\r\n      </defs>\r\n      <g style=\"fill:#262626;\" transform=\"translate(10.7 235.297813)scale(0.1 -0.1)\">\r\n       <use xlink:href=\"#ArialMT-50\"/>\r\n       <use x=\"55.615234\" xlink:href=\"#ArialMT-48\"/>\r\n       <use x=\"111.230469\" xlink:href=\"#ArialMT-48\"/>\r\n       <use x=\"166.845703\" xlink:href=\"#ArialMT-56\"/>\r\n      </g>\r\n     </g>\r\n    </g>\r\n    <g id=\"xtick_2\">\r\n     <g id=\"line2d_3\">\r\n      <path clip-path=\"url(#pdcd27814d4)\" d=\"M 88.781875 224.64 \r\nL 88.781875 7.2 \r\n\" style=\"fill:none;stroke:#cccccc;stroke-linecap:round;stroke-width:0.8;\"/>\r\n     </g>\r\n     <g id=\"line2d_4\"/>\r\n     <g id=\"text_2\">\r\n      <!-- 2010 -->\r\n      <defs>\r\n       <path d=\"M 37.25 0 \r\nL 28.46875 0 \r\nL 28.46875 56 \r\nQ 25.296875 52.984375 20.140625 49.953125 \r\nQ 14.984375 46.921875 10.890625 45.40625 \r\nL 10.890625 53.90625 \r\nQ 18.265625 57.375 23.78125 62.296875 \r\nQ 29.296875 67.234375 31.59375 71.875 \r\nL 37.25 71.875 \r\nz\r\n\" id=\"ArialMT-49\"/>\r\n      </defs>\r\n      <g style=\"fill:#262626;\" transform=\"translate(77.66 235.297813)scale(0.1 -0.1)\">\r\n       <use xlink:href=\"#ArialMT-50\"/>\r\n       <use x=\"55.615234\" xlink:href=\"#ArialMT-48\"/>\r\n       <use x=\"111.230469\" xlink:href=\"#ArialMT-49\"/>\r\n       <use x=\"166.845703\" xlink:href=\"#ArialMT-48\"/>\r\n      </g>\r\n     </g>\r\n    </g>\r\n    <g id=\"xtick_3\">\r\n     <g id=\"line2d_5\">\r\n      <path clip-path=\"url(#pdcd27814d4)\" d=\"M 155.741875 224.64 \r\nL 155.741875 7.2 \r\n\" style=\"fill:none;stroke:#cccccc;stroke-linecap:round;stroke-width:0.8;\"/>\r\n     </g>\r\n     <g id=\"line2d_6\"/>\r\n     <g id=\"text_3\">\r\n      <!-- 2012 -->\r\n      <g style=\"fill:#262626;\" transform=\"translate(144.62 235.297813)scale(0.1 -0.1)\">\r\n       <use xlink:href=\"#ArialMT-50\"/>\r\n       <use x=\"55.615234\" xlink:href=\"#ArialMT-48\"/>\r\n       <use x=\"111.230469\" xlink:href=\"#ArialMT-49\"/>\r\n       <use x=\"166.845703\" xlink:href=\"#ArialMT-50\"/>\r\n      </g>\r\n     </g>\r\n    </g>\r\n    <g id=\"xtick_4\">\r\n     <g id=\"line2d_7\">\r\n      <path clip-path=\"url(#pdcd27814d4)\" d=\"M 222.701875 224.64 \r\nL 222.701875 7.2 \r\n\" style=\"fill:none;stroke:#cccccc;stroke-linecap:round;stroke-width:0.8;\"/>\r\n     </g>\r\n     <g id=\"line2d_8\"/>\r\n     <g id=\"text_4\">\r\n      <!-- 2014 -->\r\n      <defs>\r\n       <path d=\"M 32.328125 0 \r\nL 32.328125 17.140625 \r\nL 1.265625 17.140625 \r\nL 1.265625 25.203125 \r\nL 33.9375 71.578125 \r\nL 41.109375 71.578125 \r\nL 41.109375 25.203125 \r\nL 50.78125 25.203125 \r\nL 50.78125 17.140625 \r\nL 41.109375 17.140625 \r\nL 41.109375 0 \r\nz\r\nM 32.328125 25.203125 \r\nL 32.328125 57.46875 \r\nL 9.90625 25.203125 \r\nz\r\n\" id=\"ArialMT-52\"/>\r\n      </defs>\r\n      <g style=\"fill:#262626;\" transform=\"translate(211.58 235.297813)scale(0.1 -0.1)\">\r\n       <use xlink:href=\"#ArialMT-50\"/>\r\n       <use x=\"55.615234\" xlink:href=\"#ArialMT-48\"/>\r\n       <use x=\"111.230469\" xlink:href=\"#ArialMT-49\"/>\r\n       <use x=\"166.845703\" xlink:href=\"#ArialMT-52\"/>\r\n      </g>\r\n     </g>\r\n    </g>\r\n    <g id=\"xtick_5\">\r\n     <g id=\"line2d_9\">\r\n      <path clip-path=\"url(#pdcd27814d4)\" d=\"M 289.661875 224.64 \r\nL 289.661875 7.2 \r\n\" style=\"fill:none;stroke:#cccccc;stroke-linecap:round;stroke-width:0.8;\"/>\r\n     </g>\r\n     <g id=\"line2d_10\"/>\r\n     <g id=\"text_5\">\r\n      <!-- 2016 -->\r\n      <defs>\r\n       <path d=\"M 49.75 54.046875 \r\nL 41.015625 53.375 \r\nQ 39.84375 58.546875 37.703125 60.890625 \r\nQ 34.125 64.65625 28.90625 64.65625 \r\nQ 24.703125 64.65625 21.53125 62.3125 \r\nQ 17.390625 59.28125 14.984375 53.46875 \r\nQ 12.59375 47.65625 12.5 36.921875 \r\nQ 15.671875 41.75 20.265625 44.09375 \r\nQ 24.859375 46.4375 29.890625 46.4375 \r\nQ 38.671875 46.4375 44.84375 39.96875 \r\nQ 51.03125 33.5 51.03125 23.25 \r\nQ 51.03125 16.5 48.125 10.71875 \r\nQ 45.21875 4.9375 40.140625 1.859375 \r\nQ 35.0625 -1.21875 28.609375 -1.21875 \r\nQ 17.625 -1.21875 10.6875 6.859375 \r\nQ 3.765625 14.9375 3.765625 33.5 \r\nQ 3.765625 54.25 11.421875 63.671875 \r\nQ 18.109375 71.875 29.4375 71.875 \r\nQ 37.890625 71.875 43.28125 67.140625 \r\nQ 48.6875 62.40625 49.75 54.046875 \r\nz\r\nM 13.875 23.1875 \r\nQ 13.875 18.65625 15.796875 14.5 \r\nQ 17.71875 10.359375 21.1875 8.171875 \r\nQ 24.65625 6 28.46875 6 \r\nQ 34.03125 6 38.03125 10.484375 \r\nQ 42.046875 14.984375 42.046875 22.703125 \r\nQ 42.046875 30.125 38.078125 34.390625 \r\nQ 34.125 38.671875 28.125 38.671875 \r\nQ 22.171875 38.671875 18.015625 34.390625 \r\nQ 13.875 30.125 13.875 23.1875 \r\nz\r\n\" id=\"ArialMT-54\"/>\r\n      </defs>\r\n      <g style=\"fill:#262626;\" transform=\"translate(278.54 235.297813)scale(0.1 -0.1)\">\r\n       <use xlink:href=\"#ArialMT-50\"/>\r\n       <use x=\"55.615234\" xlink:href=\"#ArialMT-48\"/>\r\n       <use x=\"111.230469\" xlink:href=\"#ArialMT-49\"/>\r\n       <use x=\"166.845703\" xlink:href=\"#ArialMT-54\"/>\r\n      </g>\r\n     </g>\r\n    </g>\r\n    <g id=\"xtick_6\">\r\n     <g id=\"line2d_11\">\r\n      <path clip-path=\"url(#pdcd27814d4)\" d=\"M 356.621875 224.64 \r\nL 356.621875 7.2 \r\n\" style=\"fill:none;stroke:#cccccc;stroke-linecap:round;stroke-width:0.8;\"/>\r\n     </g>\r\n     <g id=\"line2d_12\"/>\r\n     <g id=\"text_6\">\r\n      <!-- 2018 -->\r\n      <g style=\"fill:#262626;\" transform=\"translate(345.5 235.297813)scale(0.1 -0.1)\">\r\n       <use xlink:href=\"#ArialMT-50\"/>\r\n       <use x=\"55.615234\" xlink:href=\"#ArialMT-48\"/>\r\n       <use x=\"111.230469\" xlink:href=\"#ArialMT-49\"/>\r\n       <use x=\"166.845703\" xlink:href=\"#ArialMT-56\"/>\r\n      </g>\r\n     </g>\r\n    </g>\r\n    <g id=\"text_7\">\r\n     <!-- year -->\r\n     <defs>\r\n      <path d=\"M 6.203125 -19.96875 \r\nL 5.21875 -11.71875 \r\nQ 8.109375 -12.5 10.25 -12.5 \r\nQ 13.1875 -12.5 14.9375 -11.515625 \r\nQ 16.703125 -10.546875 17.828125 -8.796875 \r\nQ 18.65625 -7.46875 20.515625 -2.25 \r\nQ 20.75 -1.515625 21.296875 -0.09375 \r\nL 1.609375 51.859375 \r\nL 11.078125 51.859375 \r\nL 21.875 21.828125 \r\nQ 23.96875 16.109375 25.640625 9.8125 \r\nQ 27.15625 15.875 29.25 21.625 \r\nL 40.328125 51.859375 \r\nL 49.125 51.859375 \r\nL 29.390625 -0.875 \r\nQ 26.21875 -9.421875 24.46875 -12.640625 \r\nQ 22.125 -17 19.09375 -19.015625 \r\nQ 16.0625 -21.046875 11.859375 -21.046875 \r\nQ 9.328125 -21.046875 6.203125 -19.96875 \r\nz\r\n\" id=\"ArialMT-121\"/>\r\n      <path d=\"M 42.09375 16.703125 \r\nL 51.171875 15.578125 \r\nQ 49.03125 7.625 43.21875 3.21875 \r\nQ 37.40625 -1.171875 28.375 -1.171875 \r\nQ 17 -1.171875 10.328125 5.828125 \r\nQ 3.65625 12.84375 3.65625 25.484375 \r\nQ 3.65625 38.578125 10.390625 45.796875 \r\nQ 17.140625 53.03125 27.875 53.03125 \r\nQ 38.28125 53.03125 44.875 45.953125 \r\nQ 51.46875 38.875 51.46875 26.03125 \r\nQ 51.46875 25.25 51.421875 23.6875 \r\nL 12.75 23.6875 \r\nQ 13.234375 15.140625 17.578125 10.59375 \r\nQ 21.921875 6.0625 28.421875 6.0625 \r\nQ 33.25 6.0625 36.671875 8.59375 \r\nQ 40.09375 11.140625 42.09375 16.703125 \r\nz\r\nM 13.234375 30.90625 \r\nL 42.1875 30.90625 \r\nQ 41.609375 37.453125 38.875 40.71875 \r\nQ 34.671875 45.796875 27.984375 45.796875 \r\nQ 21.921875 45.796875 17.796875 41.75 \r\nQ 13.671875 37.703125 13.234375 30.90625 \r\nz\r\n\" id=\"ArialMT-101\"/>\r\n      <path d=\"M 40.4375 6.390625 \r\nQ 35.546875 2.25 31.03125 0.53125 \r\nQ 26.515625 -1.171875 21.34375 -1.171875 \r\nQ 12.796875 -1.171875 8.203125 3 \r\nQ 3.609375 7.171875 3.609375 13.671875 \r\nQ 3.609375 17.484375 5.34375 20.625 \r\nQ 7.078125 23.78125 9.890625 25.6875 \r\nQ 12.703125 27.59375 16.21875 28.5625 \r\nQ 18.796875 29.25 24.03125 29.890625 \r\nQ 34.671875 31.15625 39.703125 32.90625 \r\nQ 39.75 34.71875 39.75 35.203125 \r\nQ 39.75 40.578125 37.25 42.78125 \r\nQ 33.890625 45.75 27.25 45.75 \r\nQ 21.046875 45.75 18.09375 43.578125 \r\nQ 15.140625 41.40625 13.71875 35.890625 \r\nL 5.125 37.0625 \r\nQ 6.296875 42.578125 8.984375 45.96875 \r\nQ 11.671875 49.359375 16.75 51.1875 \r\nQ 21.828125 53.03125 28.515625 53.03125 \r\nQ 35.15625 53.03125 39.296875 51.46875 \r\nQ 43.453125 49.90625 45.40625 47.53125 \r\nQ 47.359375 45.171875 48.140625 41.546875 \r\nQ 48.578125 39.3125 48.578125 33.453125 \r\nL 48.578125 21.734375 \r\nQ 48.578125 9.46875 49.140625 6.21875 \r\nQ 49.703125 2.984375 51.375 0 \r\nL 42.1875 0 \r\nQ 40.828125 2.734375 40.4375 6.390625 \r\nz\r\nM 39.703125 26.03125 \r\nQ 34.90625 24.078125 25.34375 22.703125 \r\nQ 19.921875 21.921875 17.671875 20.9375 \r\nQ 15.4375 19.96875 14.203125 18.09375 \r\nQ 12.984375 16.21875 12.984375 13.921875 \r\nQ 12.984375 10.40625 15.640625 8.0625 \r\nQ 18.3125 5.71875 23.4375 5.71875 \r\nQ 28.515625 5.71875 32.46875 7.9375 \r\nQ 36.421875 10.15625 38.28125 14.015625 \r\nQ 39.703125 17 39.703125 22.796875 \r\nz\r\n\" id=\"ArialMT-97\"/>\r\n      <path d=\"M 6.5 0 \r\nL 6.5 51.859375 \r\nL 14.40625 51.859375 \r\nL 14.40625 44 \r\nQ 17.4375 49.515625 20 51.265625 \r\nQ 22.5625 53.03125 25.640625 53.03125 \r\nQ 30.078125 53.03125 34.671875 50.203125 \r\nL 31.640625 42.046875 \r\nQ 28.421875 43.953125 25.203125 43.953125 \r\nQ 22.3125 43.953125 20.015625 42.21875 \r\nQ 17.71875 40.484375 16.75 37.40625 \r\nQ 15.28125 32.71875 15.28125 27.15625 \r\nL 15.28125 0 \r\nz\r\n\" id=\"ArialMT-114\"/>\r\n     </defs>\r\n     <g style=\"fill:#262626;\" transform=\"translate(179.496094 248.325938)scale(0.1 -0.1)\">\r\n      <use xlink:href=\"#ArialMT-121\"/>\r\n      <use x=\"50\" xlink:href=\"#ArialMT-101\"/>\r\n      <use x=\"105.615234\" xlink:href=\"#ArialMT-97\"/>\r\n      <use x=\"161.230469\" xlink:href=\"#ArialMT-114\"/>\r\n     </g>\r\n    </g>\r\n   </g>\r\n   <g id=\"matplotlib.axis_2\">\r\n    <g id=\"ytick_1\">\r\n     <g id=\"line2d_13\">\r\n      <path clip-path=\"url(#pdcd27814d4)\" d=\"M 21.821875 214.756364 \r\nL 356.621875 214.756364 \r\n\" style=\"fill:none;stroke:#cccccc;stroke-linecap:round;stroke-width:0.8;\"/>\r\n     </g>\r\n     <g id=\"line2d_14\"/>\r\n     <g id=\"text_8\">\r\n      <!-- 55 -->\r\n      <defs>\r\n       <path d=\"M 4.15625 18.75 \r\nL 13.375 19.53125 \r\nQ 14.40625 12.796875 18.140625 9.390625 \r\nQ 21.875 6 27.15625 6 \r\nQ 33.5 6 37.890625 10.78125 \r\nQ 42.28125 15.578125 42.28125 23.484375 \r\nQ 42.28125 31 38.0625 35.34375 \r\nQ 33.84375 39.703125 27 39.703125 \r\nQ 22.75 39.703125 19.328125 37.765625 \r\nQ 15.921875 35.84375 13.96875 32.765625 \r\nL 5.71875 33.84375 \r\nL 12.640625 70.609375 \r\nL 48.25 70.609375 \r\nL 48.25 62.203125 \r\nL 19.671875 62.203125 \r\nL 15.828125 42.96875 \r\nQ 22.265625 47.46875 29.34375 47.46875 \r\nQ 38.71875 47.46875 45.15625 40.96875 \r\nQ 51.609375 34.46875 51.609375 24.265625 \r\nQ 51.609375 14.546875 45.953125 7.46875 \r\nQ 39.0625 -1.21875 27.15625 -1.21875 \r\nQ 17.390625 -1.21875 11.203125 4.25 \r\nQ 5.03125 9.71875 4.15625 18.75 \r\nz\r\n\" id=\"ArialMT-53\"/>\r\n      </defs>\r\n      <g style=\"fill:#262626;\" transform=\"translate(7.2 218.33527)scale(0.1 -0.1)\">\r\n       <use xlink:href=\"#ArialMT-53\"/>\r\n       <use x=\"55.615234\" xlink:href=\"#ArialMT-53\"/>\r\n      </g>\r\n     </g>\r\n    </g>\r\n    <g id=\"ytick_2\">\r\n     <g id=\"line2d_15\">\r\n      <path clip-path=\"url(#pdcd27814d4)\" d=\"M 21.821875 167.238881 \r\nL 356.621875 167.238881 \r\n\" style=\"fill:none;stroke:#cccccc;stroke-linecap:round;stroke-width:0.8;\"/>\r\n     </g>\r\n     <g id=\"line2d_16\"/>\r\n     <g id=\"text_9\">\r\n      <!-- 60 -->\r\n      <g style=\"fill:#262626;\" transform=\"translate(7.2 170.817787)scale(0.1 -0.1)\">\r\n       <use xlink:href=\"#ArialMT-54\"/>\r\n       <use x=\"55.615234\" xlink:href=\"#ArialMT-48\"/>\r\n      </g>\r\n     </g>\r\n    </g>\r\n    <g id=\"ytick_3\">\r\n     <g id=\"line2d_17\">\r\n      <path clip-path=\"url(#pdcd27814d4)\" d=\"M 21.821875 119.721399 \r\nL 356.621875 119.721399 \r\n\" style=\"fill:none;stroke:#cccccc;stroke-linecap:round;stroke-width:0.8;\"/>\r\n     </g>\r\n     <g id=\"line2d_18\"/>\r\n     <g id=\"text_10\">\r\n      <!-- 65 -->\r\n      <g style=\"fill:#262626;\" transform=\"translate(7.2 123.300305)scale(0.1 -0.1)\">\r\n       <use xlink:href=\"#ArialMT-54\"/>\r\n       <use x=\"55.615234\" xlink:href=\"#ArialMT-53\"/>\r\n      </g>\r\n     </g>\r\n    </g>\r\n    <g id=\"ytick_4\">\r\n     <g id=\"line2d_19\">\r\n      <path clip-path=\"url(#pdcd27814d4)\" d=\"M 21.821875 72.203916 \r\nL 356.621875 72.203916 \r\n\" style=\"fill:none;stroke:#cccccc;stroke-linecap:round;stroke-width:0.8;\"/>\r\n     </g>\r\n     <g id=\"line2d_20\"/>\r\n     <g id=\"text_11\">\r\n      <!-- 70 -->\r\n      <defs>\r\n       <path d=\"M 4.734375 62.203125 \r\nL 4.734375 70.65625 \r\nL 51.078125 70.65625 \r\nL 51.078125 63.8125 \r\nQ 44.234375 56.546875 37.515625 44.484375 \r\nQ 30.8125 32.421875 27.15625 19.671875 \r\nQ 24.515625 10.6875 23.78125 0 \r\nL 14.75 0 \r\nQ 14.890625 8.453125 18.0625 20.40625 \r\nQ 21.234375 32.375 27.171875 43.484375 \r\nQ 33.109375 54.59375 39.796875 62.203125 \r\nz\r\n\" id=\"ArialMT-55\"/>\r\n      </defs>\r\n      <g style=\"fill:#262626;\" transform=\"translate(7.2 75.782822)scale(0.1 -0.1)\">\r\n       <use xlink:href=\"#ArialMT-55\"/>\r\n       <use x=\"55.615234\" xlink:href=\"#ArialMT-48\"/>\r\n      </g>\r\n     </g>\r\n    </g>\r\n    <g id=\"ytick_5\">\r\n     <g id=\"line2d_21\">\r\n      <path clip-path=\"url(#pdcd27814d4)\" d=\"M 21.821875 24.686434 \r\nL 356.621875 24.686434 \r\n\" style=\"fill:none;stroke:#cccccc;stroke-linecap:round;stroke-width:0.8;\"/>\r\n     </g>\r\n     <g id=\"line2d_22\"/>\r\n     <g id=\"text_12\">\r\n      <!-- 75 -->\r\n      <g style=\"fill:#262626;\" transform=\"translate(7.2 28.26534)scale(0.1 -0.1)\">\r\n       <use xlink:href=\"#ArialMT-55\"/>\r\n       <use x=\"55.615234\" xlink:href=\"#ArialMT-53\"/>\r\n      </g>\r\n     </g>\r\n    </g>\r\n   </g>\r\n   <g id=\"line2d_23\">\r\n    <path clip-path=\"url(#pdcd27814d4)\" d=\"M 21.821875 17.083636 \r\nL 55.301875 40.842378 \r\nL 88.781875 47.494825 \r\nL 122.261875 48.445175 \r\nL 155.741875 51.296224 \r\nL 189.221875 50.345874 \r\nL 222.701875 48.445175 \r\nL 256.181875 41.792727 \r\nL 289.661875 36.090629 \r\nL 323.141875 30.388531 \r\nL 356.621875 21.835385 \r\n\" style=\"fill:none;stroke:#1f77b4;stroke-linecap:round;stroke-width:1.5;\"/>\r\n    <defs>\r\n     <path d=\"M 0 3 \r\nC 0.795609 3 1.55874 2.683901 2.12132 2.12132 \r\nC 2.683901 1.55874 3 0.795609 3 0 \r\nC 3 -0.795609 2.683901 -1.55874 2.12132 -2.12132 \r\nC 1.55874 -2.683901 0.795609 -3 0 -3 \r\nC -0.795609 -3 -1.55874 -2.683901 -2.12132 -2.12132 \r\nC -2.683901 -1.55874 -3 -0.795609 -3 0 \r\nC -3 0.795609 -2.683901 1.55874 -2.12132 2.12132 \r\nC -1.55874 2.683901 -0.795609 3 0 3 \r\nz\r\n\" id=\"m6ba6116268\" style=\"stroke:#1f77b4;\"/>\r\n    </defs>\r\n    <g clip-path=\"url(#pdcd27814d4)\">\r\n     <use style=\"fill:#1f77b4;stroke:#1f77b4;\" x=\"21.821875\" xlink:href=\"#m6ba6116268\" y=\"17.083636\"/>\r\n     <use style=\"fill:#1f77b4;stroke:#1f77b4;\" x=\"55.301875\" xlink:href=\"#m6ba6116268\" y=\"40.842378\"/>\r\n     <use style=\"fill:#1f77b4;stroke:#1f77b4;\" x=\"88.781875\" xlink:href=\"#m6ba6116268\" y=\"47.494825\"/>\r\n     <use style=\"fill:#1f77b4;stroke:#1f77b4;\" x=\"122.261875\" xlink:href=\"#m6ba6116268\" y=\"48.445175\"/>\r\n     <use style=\"fill:#1f77b4;stroke:#1f77b4;\" x=\"155.741875\" xlink:href=\"#m6ba6116268\" y=\"51.296224\"/>\r\n     <use style=\"fill:#1f77b4;stroke:#1f77b4;\" x=\"189.221875\" xlink:href=\"#m6ba6116268\" y=\"50.345874\"/>\r\n     <use style=\"fill:#1f77b4;stroke:#1f77b4;\" x=\"222.701875\" xlink:href=\"#m6ba6116268\" y=\"48.445175\"/>\r\n     <use style=\"fill:#1f77b4;stroke:#1f77b4;\" x=\"256.181875\" xlink:href=\"#m6ba6116268\" y=\"41.792727\"/>\r\n     <use style=\"fill:#1f77b4;stroke:#1f77b4;\" x=\"289.661875\" xlink:href=\"#m6ba6116268\" y=\"36.090629\"/>\r\n     <use style=\"fill:#1f77b4;stroke:#1f77b4;\" x=\"323.141875\" xlink:href=\"#m6ba6116268\" y=\"30.388531\"/>\r\n     <use style=\"fill:#1f77b4;stroke:#1f77b4;\" x=\"356.621875\" xlink:href=\"#m6ba6116268\" y=\"21.835385\"/>\r\n    </g>\r\n   </g>\r\n   <g id=\"line2d_24\">\r\n    <path clip-path=\"url(#pdcd27814d4)\" d=\"M 21.821875 113.068951 \r\nL 55.301875 170.08993 \r\nL 88.781875 192.898322 \r\nL 122.261875 203.352168 \r\nL 155.741875 214.756364 \r\nL 189.221875 210.004615 \r\nL 222.701875 209.054266 \r\nL 256.181875 189.096923 \r\nL 289.661875 179.593427 \r\nL 323.141875 162.487133 \r\nL 356.621875 138.728392 \r\n\" style=\"fill:none;stroke:#ff7f0e;stroke-linecap:round;stroke-width:1.5;\"/>\r\n    <defs>\r\n     <path d=\"M 0 3 \r\nC 0.795609 3 1.55874 2.683901 2.12132 2.12132 \r\nC 2.683901 1.55874 3 0.795609 3 0 \r\nC 3 -0.795609 2.683901 -1.55874 2.12132 -2.12132 \r\nC 1.55874 -2.683901 0.795609 -3 0 -3 \r\nC -0.795609 -3 -1.55874 -2.683901 -2.12132 -2.12132 \r\nC -2.683901 -1.55874 -3 -0.795609 -3 0 \r\nC -3 0.795609 -2.683901 1.55874 -2.12132 2.12132 \r\nC -1.55874 2.683901 -0.795609 3 0 3 \r\nz\r\n\" id=\"m02147fea8f\" style=\"stroke:#ff7f0e;\"/>\r\n    </defs>\r\n    <g clip-path=\"url(#pdcd27814d4)\">\r\n     <use style=\"fill:#ff7f0e;stroke:#ff7f0e;\" x=\"21.821875\" xlink:href=\"#m02147fea8f\" y=\"113.068951\"/>\r\n     <use style=\"fill:#ff7f0e;stroke:#ff7f0e;\" x=\"55.301875\" xlink:href=\"#m02147fea8f\" y=\"170.08993\"/>\r\n     <use style=\"fill:#ff7f0e;stroke:#ff7f0e;\" x=\"88.781875\" xlink:href=\"#m02147fea8f\" y=\"192.898322\"/>\r\n     <use style=\"fill:#ff7f0e;stroke:#ff7f0e;\" x=\"122.261875\" xlink:href=\"#m02147fea8f\" y=\"203.352168\"/>\r\n     <use style=\"fill:#ff7f0e;stroke:#ff7f0e;\" x=\"155.741875\" xlink:href=\"#m02147fea8f\" y=\"214.756364\"/>\r\n     <use style=\"fill:#ff7f0e;stroke:#ff7f0e;\" x=\"189.221875\" xlink:href=\"#m02147fea8f\" y=\"210.004615\"/>\r\n     <use style=\"fill:#ff7f0e;stroke:#ff7f0e;\" x=\"222.701875\" xlink:href=\"#m02147fea8f\" y=\"209.054266\"/>\r\n     <use style=\"fill:#ff7f0e;stroke:#ff7f0e;\" x=\"256.181875\" xlink:href=\"#m02147fea8f\" y=\"189.096923\"/>\r\n     <use style=\"fill:#ff7f0e;stroke:#ff7f0e;\" x=\"289.661875\" xlink:href=\"#m02147fea8f\" y=\"179.593427\"/>\r\n     <use style=\"fill:#ff7f0e;stroke:#ff7f0e;\" x=\"323.141875\" xlink:href=\"#m02147fea8f\" y=\"162.487133\"/>\r\n     <use style=\"fill:#ff7f0e;stroke:#ff7f0e;\" x=\"356.621875\" xlink:href=\"#m02147fea8f\" y=\"138.728392\"/>\r\n    </g>\r\n   </g>\r\n   <g id=\"patch_3\">\r\n    <path d=\"M 21.821875 224.64 \r\nL 21.821875 7.2 \r\n\" style=\"fill:none;stroke:#cccccc;stroke-linecap:square;stroke-linejoin:miter;\"/>\r\n   </g>\r\n   <g id=\"patch_4\">\r\n    <path d=\"M 356.621875 224.64 \r\nL 356.621875 7.2 \r\n\" style=\"fill:none;stroke:#cccccc;stroke-linecap:square;stroke-linejoin:miter;\"/>\r\n   </g>\r\n   <g id=\"patch_5\">\r\n    <path d=\"M 21.821875 224.64 \r\nL 356.621875 224.64 \r\n\" style=\"fill:none;stroke:#cccccc;stroke-linecap:square;stroke-linejoin:miter;\"/>\r\n   </g>\r\n   <g id=\"patch_6\">\r\n    <path d=\"M 21.821875 7.2 \r\nL 356.621875 7.2 \r\n\" style=\"fill:none;stroke:#cccccc;stroke-linecap:square;stroke-linejoin:miter;\"/>\r\n   </g>\r\n  </g>\r\n </g>\r\n <defs>\r\n  <clipPath id=\"pdcd27814d4\">\r\n   <rect height=\"217.44\" width=\"334.8\" x=\"21.821875\" y=\"7.2\"/>\r\n  </clipPath>\r\n </defs>\r\n</svg>\r\n",
      "image/png": "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\n"
=======
      "application/vnd.jupyter.widget-view+json": {
       "model_id": "4b9b1b9827c6419a958c3a1b7a332019",
       "version_major": 2,
       "version_minor": 0
      },
      "text/plain": [
       "interactive(children=(Dropdown(description='area', index=3, options=('Region Midtjylland', 'Region Nordjylland…"
      ]
>>>>>>> f4431e1ac640bc3e06924d17c3b36c3bbbed2adf
     },
     "metadata": {}
    }
   ],
   "source": [
    "widgets.interact(plot_data_true, \n",
    "    df = widgets.fixed(data_true),\n",
    "    area = widgets.Dropdown(description='area', \n",
    "                                    options=data.area.unique(), \n",
    "                                    value='Region Hovedstaden')\n",
    "); "
   ]
  },
  {
   "cell_type": "markdown",
   "metadata": {},
   "source": [
    "# Plotting the disposable income of the regions over years."
   ]
  },
  {
   "cell_type": "code",
<<<<<<< HEAD
   "execution_count": 53,
=======
   "execution_count": 28,
>>>>>>> f4431e1ac640bc3e06924d17c3b36c3bbbed2adf
   "metadata": {},
   "outputs": [],
   "source": [
    "#Plotting income. \n",
    "import ipywidgets as widgets\n",
    "def plot_data_true(df, area): \n",
    "    I = df['area'] == area\n",
    "    ax=df.loc[I,:].plot(x='year', y='income', style='-o', legend=False)"
   ]
  },
  {
   "cell_type": "code",
<<<<<<< HEAD
   "execution_count": 54,
=======
   "execution_count": 29,
>>>>>>> f4431e1ac640bc3e06924d17c3b36c3bbbed2adf
   "metadata": {},
   "outputs": [
    {
     "output_type": "display_data",
     "data": {
<<<<<<< HEAD
      "text/plain": "<Figure size 432x288 with 1 Axes>",
      "image/svg+xml": "<?xml version=\"1.0\" encoding=\"utf-8\" standalone=\"no\"?>\r\n<!DOCTYPE svg PUBLIC \"-//W3C//DTD SVG 1.1//EN\"\r\n  \"http://www.w3.org/Graphics/SVG/1.1/DTD/svg11.dtd\">\r\n<!-- Created with matplotlib (https://matplotlib.org/) -->\r\n<svg height=\"257.630625pt\" version=\"1.1\" viewBox=\"0 0 397.1875 257.630625\" width=\"397.1875pt\" xmlns=\"http://www.w3.org/2000/svg\" xmlns:xlink=\"http://www.w3.org/1999/xlink\">\r\n <defs>\r\n  <style type=\"text/css\">\r\n*{stroke-linecap:butt;stroke-linejoin:round;}\r\n  </style>\r\n </defs>\r\n <g id=\"figure_1\">\r\n  <g id=\"patch_1\">\r\n   <path d=\"M 0 257.630625 \r\nL 397.1875 257.630625 \r\nL 397.1875 0 \r\nL 0 0 \r\nz\r\n\" style=\"fill:#ffffff;\"/>\r\n  </g>\r\n  <g id=\"axes_1\">\r\n   <g id=\"patch_2\">\r\n    <path d=\"M 44.065625 224.64 \r\nL 378.865625 224.64 \r\nL 378.865625 7.2 \r\nL 44.065625 7.2 \r\nz\r\n\" style=\"fill:#ffffff;\"/>\r\n   </g>\r\n   <g id=\"matplotlib.axis_1\">\r\n    <g id=\"xtick_1\">\r\n     <g id=\"line2d_1\">\r\n      <path clip-path=\"url(#p67bb97c155)\" d=\"M 44.065625 224.64 \r\nL 44.065625 7.2 \r\n\" style=\"fill:none;stroke:#cccccc;stroke-linecap:round;stroke-width:0.8;\"/>\r\n     </g>\r\n     <g id=\"line2d_2\"/>\r\n     <g id=\"text_1\">\r\n      <!-- 2008 -->\r\n      <defs>\r\n       <path d=\"M 50.34375 8.453125 \r\nL 50.34375 0 \r\nL 3.03125 0 \r\nQ 2.9375 3.171875 4.046875 6.109375 \r\nQ 5.859375 10.9375 9.828125 15.625 \r\nQ 13.8125 20.3125 21.34375 26.46875 \r\nQ 33.015625 36.03125 37.109375 41.625 \r\nQ 41.21875 47.21875 41.21875 52.203125 \r\nQ 41.21875 57.421875 37.46875 61 \r\nQ 33.734375 64.59375 27.734375 64.59375 \r\nQ 21.390625 64.59375 17.578125 60.78125 \r\nQ 13.765625 56.984375 13.71875 50.25 \r\nL 4.6875 51.171875 \r\nQ 5.609375 61.28125 11.65625 66.578125 \r\nQ 17.71875 71.875 27.9375 71.875 \r\nQ 38.234375 71.875 44.234375 66.15625 \r\nQ 50.25 60.453125 50.25 52 \r\nQ 50.25 47.703125 48.484375 43.546875 \r\nQ 46.734375 39.40625 42.65625 34.8125 \r\nQ 38.578125 30.21875 29.109375 22.21875 \r\nQ 21.1875 15.578125 18.9375 13.203125 \r\nQ 16.703125 10.84375 15.234375 8.453125 \r\nz\r\n\" id=\"ArialMT-50\"/>\r\n       <path d=\"M 4.15625 35.296875 \r\nQ 4.15625 48 6.765625 55.734375 \r\nQ 9.375 63.484375 14.515625 67.671875 \r\nQ 19.671875 71.875 27.484375 71.875 \r\nQ 33.25 71.875 37.59375 69.546875 \r\nQ 41.9375 67.234375 44.765625 62.859375 \r\nQ 47.609375 58.5 49.21875 52.21875 \r\nQ 50.828125 45.953125 50.828125 35.296875 \r\nQ 50.828125 22.703125 48.234375 14.96875 \r\nQ 45.65625 7.234375 40.5 3 \r\nQ 35.359375 -1.21875 27.484375 -1.21875 \r\nQ 17.140625 -1.21875 11.234375 6.203125 \r\nQ 4.15625 15.140625 4.15625 35.296875 \r\nz\r\nM 13.1875 35.296875 \r\nQ 13.1875 17.671875 17.3125 11.828125 \r\nQ 21.4375 6 27.484375 6 \r\nQ 33.546875 6 37.671875 11.859375 \r\nQ 41.796875 17.71875 41.796875 35.296875 \r\nQ 41.796875 52.984375 37.671875 58.78125 \r\nQ 33.546875 64.59375 27.390625 64.59375 \r\nQ 21.34375 64.59375 17.71875 59.46875 \r\nQ 13.1875 52.9375 13.1875 35.296875 \r\nz\r\n\" id=\"ArialMT-48\"/>\r\n       <path d=\"M 17.671875 38.8125 \r\nQ 12.203125 40.828125 9.5625 44.53125 \r\nQ 6.9375 48.25 6.9375 53.421875 \r\nQ 6.9375 61.234375 12.546875 66.546875 \r\nQ 18.171875 71.875 27.484375 71.875 \r\nQ 36.859375 71.875 42.578125 66.421875 \r\nQ 48.296875 60.984375 48.296875 53.171875 \r\nQ 48.296875 48.1875 45.671875 44.5 \r\nQ 43.0625 40.828125 37.75 38.8125 \r\nQ 44.34375 36.671875 47.78125 31.875 \r\nQ 51.21875 27.09375 51.21875 20.453125 \r\nQ 51.21875 11.28125 44.71875 5.03125 \r\nQ 38.234375 -1.21875 27.640625 -1.21875 \r\nQ 17.046875 -1.21875 10.546875 5.046875 \r\nQ 4.046875 11.328125 4.046875 20.703125 \r\nQ 4.046875 27.6875 7.59375 32.390625 \r\nQ 11.140625 37.109375 17.671875 38.8125 \r\nz\r\nM 15.921875 53.71875 \r\nQ 15.921875 48.640625 19.1875 45.40625 \r\nQ 22.46875 42.1875 27.6875 42.1875 \r\nQ 32.765625 42.1875 36.015625 45.375 \r\nQ 39.265625 48.578125 39.265625 53.21875 \r\nQ 39.265625 58.0625 35.90625 61.359375 \r\nQ 32.5625 64.65625 27.59375 64.65625 \r\nQ 22.5625 64.65625 19.234375 61.421875 \r\nQ 15.921875 58.203125 15.921875 53.71875 \r\nz\r\nM 13.09375 20.65625 \r\nQ 13.09375 16.890625 14.875 13.375 \r\nQ 16.65625 9.859375 20.171875 7.921875 \r\nQ 23.6875 6 27.734375 6 \r\nQ 34.03125 6 38.125 10.046875 \r\nQ 42.234375 14.109375 42.234375 20.359375 \r\nQ 42.234375 26.703125 38.015625 30.859375 \r\nQ 33.796875 35.015625 27.4375 35.015625 \r\nQ 21.234375 35.015625 17.15625 30.90625 \r\nQ 13.09375 26.8125 13.09375 20.65625 \r\nz\r\n\" id=\"ArialMT-56\"/>\r\n      </defs>\r\n      <g style=\"fill:#262626;\" transform=\"translate(32.94375 235.297812)scale(0.1 -0.1)\">\r\n       <use xlink:href=\"#ArialMT-50\"/>\r\n       <use x=\"55.615234\" xlink:href=\"#ArialMT-48\"/>\r\n       <use x=\"111.230469\" xlink:href=\"#ArialMT-48\"/>\r\n       <use x=\"166.845703\" xlink:href=\"#ArialMT-56\"/>\r\n      </g>\r\n     </g>\r\n    </g>\r\n    <g id=\"xtick_2\">\r\n     <g id=\"line2d_3\">\r\n      <path clip-path=\"url(#p67bb97c155)\" d=\"M 111.025625 224.64 \r\nL 111.025625 7.2 \r\n\" style=\"fill:none;stroke:#cccccc;stroke-linecap:round;stroke-width:0.8;\"/>\r\n     </g>\r\n     <g id=\"line2d_4\"/>\r\n     <g id=\"text_2\">\r\n      <!-- 2010 -->\r\n      <defs>\r\n       <path d=\"M 37.25 0 \r\nL 28.46875 0 \r\nL 28.46875 56 \r\nQ 25.296875 52.984375 20.140625 49.953125 \r\nQ 14.984375 46.921875 10.890625 45.40625 \r\nL 10.890625 53.90625 \r\nQ 18.265625 57.375 23.78125 62.296875 \r\nQ 29.296875 67.234375 31.59375 71.875 \r\nL 37.25 71.875 \r\nz\r\n\" id=\"ArialMT-49\"/>\r\n      </defs>\r\n      <g style=\"fill:#262626;\" transform=\"translate(99.90375 235.297812)scale(0.1 -0.1)\">\r\n       <use xlink:href=\"#ArialMT-50\"/>\r\n       <use x=\"55.615234\" xlink:href=\"#ArialMT-48\"/>\r\n       <use x=\"111.230469\" xlink:href=\"#ArialMT-49\"/>\r\n       <use x=\"166.845703\" xlink:href=\"#ArialMT-48\"/>\r\n      </g>\r\n     </g>\r\n    </g>\r\n    <g id=\"xtick_3\">\r\n     <g id=\"line2d_5\">\r\n      <path clip-path=\"url(#p67bb97c155)\" d=\"M 177.985625 224.64 \r\nL 177.985625 7.2 \r\n\" style=\"fill:none;stroke:#cccccc;stroke-linecap:round;stroke-width:0.8;\"/>\r\n     </g>\r\n     <g id=\"line2d_6\"/>\r\n     <g id=\"text_3\">\r\n      <!-- 2012 -->\r\n      <g style=\"fill:#262626;\" transform=\"translate(166.86375 235.297812)scale(0.1 -0.1)\">\r\n       <use xlink:href=\"#ArialMT-50\"/>\r\n       <use x=\"55.615234\" xlink:href=\"#ArialMT-48\"/>\r\n       <use x=\"111.230469\" xlink:href=\"#ArialMT-49\"/>\r\n       <use x=\"166.845703\" xlink:href=\"#ArialMT-50\"/>\r\n      </g>\r\n     </g>\r\n    </g>\r\n    <g id=\"xtick_4\">\r\n     <g id=\"line2d_7\">\r\n      <path clip-path=\"url(#p67bb97c155)\" d=\"M 244.945625 224.64 \r\nL 244.945625 7.2 \r\n\" style=\"fill:none;stroke:#cccccc;stroke-linecap:round;stroke-width:0.8;\"/>\r\n     </g>\r\n     <g id=\"line2d_8\"/>\r\n     <g id=\"text_4\">\r\n      <!-- 2014 -->\r\n      <defs>\r\n       <path d=\"M 32.328125 0 \r\nL 32.328125 17.140625 \r\nL 1.265625 17.140625 \r\nL 1.265625 25.203125 \r\nL 33.9375 71.578125 \r\nL 41.109375 71.578125 \r\nL 41.109375 25.203125 \r\nL 50.78125 25.203125 \r\nL 50.78125 17.140625 \r\nL 41.109375 17.140625 \r\nL 41.109375 0 \r\nz\r\nM 32.328125 25.203125 \r\nL 32.328125 57.46875 \r\nL 9.90625 25.203125 \r\nz\r\n\" id=\"ArialMT-52\"/>\r\n      </defs>\r\n      <g style=\"fill:#262626;\" transform=\"translate(233.82375 235.297812)scale(0.1 -0.1)\">\r\n       <use xlink:href=\"#ArialMT-50\"/>\r\n       <use x=\"55.615234\" xlink:href=\"#ArialMT-48\"/>\r\n       <use x=\"111.230469\" xlink:href=\"#ArialMT-49\"/>\r\n       <use x=\"166.845703\" xlink:href=\"#ArialMT-52\"/>\r\n      </g>\r\n     </g>\r\n    </g>\r\n    <g id=\"xtick_5\">\r\n     <g id=\"line2d_9\">\r\n      <path clip-path=\"url(#p67bb97c155)\" d=\"M 311.905625 224.64 \r\nL 311.905625 7.2 \r\n\" style=\"fill:none;stroke:#cccccc;stroke-linecap:round;stroke-width:0.8;\"/>\r\n     </g>\r\n     <g id=\"line2d_10\"/>\r\n     <g id=\"text_5\">\r\n      <!-- 2016 -->\r\n      <defs>\r\n       <path d=\"M 49.75 54.046875 \r\nL 41.015625 53.375 \r\nQ 39.84375 58.546875 37.703125 60.890625 \r\nQ 34.125 64.65625 28.90625 64.65625 \r\nQ 24.703125 64.65625 21.53125 62.3125 \r\nQ 17.390625 59.28125 14.984375 53.46875 \r\nQ 12.59375 47.65625 12.5 36.921875 \r\nQ 15.671875 41.75 20.265625 44.09375 \r\nQ 24.859375 46.4375 29.890625 46.4375 \r\nQ 38.671875 46.4375 44.84375 39.96875 \r\nQ 51.03125 33.5 51.03125 23.25 \r\nQ 51.03125 16.5 48.125 10.71875 \r\nQ 45.21875 4.9375 40.140625 1.859375 \r\nQ 35.0625 -1.21875 28.609375 -1.21875 \r\nQ 17.625 -1.21875 10.6875 6.859375 \r\nQ 3.765625 14.9375 3.765625 33.5 \r\nQ 3.765625 54.25 11.421875 63.671875 \r\nQ 18.109375 71.875 29.4375 71.875 \r\nQ 37.890625 71.875 43.28125 67.140625 \r\nQ 48.6875 62.40625 49.75 54.046875 \r\nz\r\nM 13.875 23.1875 \r\nQ 13.875 18.65625 15.796875 14.5 \r\nQ 17.71875 10.359375 21.1875 8.171875 \r\nQ 24.65625 6 28.46875 6 \r\nQ 34.03125 6 38.03125 10.484375 \r\nQ 42.046875 14.984375 42.046875 22.703125 \r\nQ 42.046875 30.125 38.078125 34.390625 \r\nQ 34.125 38.671875 28.125 38.671875 \r\nQ 22.171875 38.671875 18.015625 34.390625 \r\nQ 13.875 30.125 13.875 23.1875 \r\nz\r\n\" id=\"ArialMT-54\"/>\r\n      </defs>\r\n      <g style=\"fill:#262626;\" transform=\"translate(300.78375 235.297812)scale(0.1 -0.1)\">\r\n       <use xlink:href=\"#ArialMT-50\"/>\r\n       <use x=\"55.615234\" xlink:href=\"#ArialMT-48\"/>\r\n       <use x=\"111.230469\" xlink:href=\"#ArialMT-49\"/>\r\n       <use x=\"166.845703\" xlink:href=\"#ArialMT-54\"/>\r\n      </g>\r\n     </g>\r\n    </g>\r\n    <g id=\"xtick_6\">\r\n     <g id=\"line2d_11\">\r\n      <path clip-path=\"url(#p67bb97c155)\" d=\"M 378.865625 224.64 \r\nL 378.865625 7.2 \r\n\" style=\"fill:none;stroke:#cccccc;stroke-linecap:round;stroke-width:0.8;\"/>\r\n     </g>\r\n     <g id=\"line2d_12\"/>\r\n     <g id=\"text_6\">\r\n      <!-- 2018 -->\r\n      <g style=\"fill:#262626;\" transform=\"translate(367.74375 235.297812)scale(0.1 -0.1)\">\r\n       <use xlink:href=\"#ArialMT-50\"/>\r\n       <use x=\"55.615234\" xlink:href=\"#ArialMT-48\"/>\r\n       <use x=\"111.230469\" xlink:href=\"#ArialMT-49\"/>\r\n       <use x=\"166.845703\" xlink:href=\"#ArialMT-56\"/>\r\n      </g>\r\n     </g>\r\n    </g>\r\n    <g id=\"text_7\">\r\n     <!-- year -->\r\n     <defs>\r\n      <path d=\"M 6.203125 -19.96875 \r\nL 5.21875 -11.71875 \r\nQ 8.109375 -12.5 10.25 -12.5 \r\nQ 13.1875 -12.5 14.9375 -11.515625 \r\nQ 16.703125 -10.546875 17.828125 -8.796875 \r\nQ 18.65625 -7.46875 20.515625 -2.25 \r\nQ 20.75 -1.515625 21.296875 -0.09375 \r\nL 1.609375 51.859375 \r\nL 11.078125 51.859375 \r\nL 21.875 21.828125 \r\nQ 23.96875 16.109375 25.640625 9.8125 \r\nQ 27.15625 15.875 29.25 21.625 \r\nL 40.328125 51.859375 \r\nL 49.125 51.859375 \r\nL 29.390625 -0.875 \r\nQ 26.21875 -9.421875 24.46875 -12.640625 \r\nQ 22.125 -17 19.09375 -19.015625 \r\nQ 16.0625 -21.046875 11.859375 -21.046875 \r\nQ 9.328125 -21.046875 6.203125 -19.96875 \r\nz\r\n\" id=\"ArialMT-121\"/>\r\n      <path d=\"M 42.09375 16.703125 \r\nL 51.171875 15.578125 \r\nQ 49.03125 7.625 43.21875 3.21875 \r\nQ 37.40625 -1.171875 28.375 -1.171875 \r\nQ 17 -1.171875 10.328125 5.828125 \r\nQ 3.65625 12.84375 3.65625 25.484375 \r\nQ 3.65625 38.578125 10.390625 45.796875 \r\nQ 17.140625 53.03125 27.875 53.03125 \r\nQ 38.28125 53.03125 44.875 45.953125 \r\nQ 51.46875 38.875 51.46875 26.03125 \r\nQ 51.46875 25.25 51.421875 23.6875 \r\nL 12.75 23.6875 \r\nQ 13.234375 15.140625 17.578125 10.59375 \r\nQ 21.921875 6.0625 28.421875 6.0625 \r\nQ 33.25 6.0625 36.671875 8.59375 \r\nQ 40.09375 11.140625 42.09375 16.703125 \r\nz\r\nM 13.234375 30.90625 \r\nL 42.1875 30.90625 \r\nQ 41.609375 37.453125 38.875 40.71875 \r\nQ 34.671875 45.796875 27.984375 45.796875 \r\nQ 21.921875 45.796875 17.796875 41.75 \r\nQ 13.671875 37.703125 13.234375 30.90625 \r\nz\r\n\" id=\"ArialMT-101\"/>\r\n      <path d=\"M 40.4375 6.390625 \r\nQ 35.546875 2.25 31.03125 0.53125 \r\nQ 26.515625 -1.171875 21.34375 -1.171875 \r\nQ 12.796875 -1.171875 8.203125 3 \r\nQ 3.609375 7.171875 3.609375 13.671875 \r\nQ 3.609375 17.484375 5.34375 20.625 \r\nQ 7.078125 23.78125 9.890625 25.6875 \r\nQ 12.703125 27.59375 16.21875 28.5625 \r\nQ 18.796875 29.25 24.03125 29.890625 \r\nQ 34.671875 31.15625 39.703125 32.90625 \r\nQ 39.75 34.71875 39.75 35.203125 \r\nQ 39.75 40.578125 37.25 42.78125 \r\nQ 33.890625 45.75 27.25 45.75 \r\nQ 21.046875 45.75 18.09375 43.578125 \r\nQ 15.140625 41.40625 13.71875 35.890625 \r\nL 5.125 37.0625 \r\nQ 6.296875 42.578125 8.984375 45.96875 \r\nQ 11.671875 49.359375 16.75 51.1875 \r\nQ 21.828125 53.03125 28.515625 53.03125 \r\nQ 35.15625 53.03125 39.296875 51.46875 \r\nQ 43.453125 49.90625 45.40625 47.53125 \r\nQ 47.359375 45.171875 48.140625 41.546875 \r\nQ 48.578125 39.3125 48.578125 33.453125 \r\nL 48.578125 21.734375 \r\nQ 48.578125 9.46875 49.140625 6.21875 \r\nQ 49.703125 2.984375 51.375 0 \r\nL 42.1875 0 \r\nQ 40.828125 2.734375 40.4375 6.390625 \r\nz\r\nM 39.703125 26.03125 \r\nQ 34.90625 24.078125 25.34375 22.703125 \r\nQ 19.921875 21.921875 17.671875 20.9375 \r\nQ 15.4375 19.96875 14.203125 18.09375 \r\nQ 12.984375 16.21875 12.984375 13.921875 \r\nQ 12.984375 10.40625 15.640625 8.0625 \r\nQ 18.3125 5.71875 23.4375 5.71875 \r\nQ 28.515625 5.71875 32.46875 7.9375 \r\nQ 36.421875 10.15625 38.28125 14.015625 \r\nQ 39.703125 17 39.703125 22.796875 \r\nz\r\n\" id=\"ArialMT-97\"/>\r\n      <path d=\"M 6.5 0 \r\nL 6.5 51.859375 \r\nL 14.40625 51.859375 \r\nL 14.40625 44 \r\nQ 17.4375 49.515625 20 51.265625 \r\nQ 22.5625 53.03125 25.640625 53.03125 \r\nQ 30.078125 53.03125 34.671875 50.203125 \r\nL 31.640625 42.046875 \r\nQ 28.421875 43.953125 25.203125 43.953125 \r\nQ 22.3125 43.953125 20.015625 42.21875 \r\nQ 17.71875 40.484375 16.75 37.40625 \r\nQ 15.28125 32.71875 15.28125 27.15625 \r\nL 15.28125 0 \r\nz\r\n\" id=\"ArialMT-114\"/>\r\n     </defs>\r\n     <g style=\"fill:#262626;\" transform=\"translate(201.739844 248.325938)scale(0.1 -0.1)\">\r\n      <use xlink:href=\"#ArialMT-121\"/>\r\n      <use x=\"50\" xlink:href=\"#ArialMT-101\"/>\r\n      <use x=\"105.615234\" xlink:href=\"#ArialMT-97\"/>\r\n      <use x=\"161.230469\" xlink:href=\"#ArialMT-114\"/>\r\n     </g>\r\n    </g>\r\n   </g>\r\n   <g id=\"matplotlib.axis_2\">\r\n    <g id=\"ytick_1\">\r\n     <g id=\"line2d_13\">\r\n      <path clip-path=\"url(#p67bb97c155)\" d=\"M 44.065625 210.648903 \r\nL 378.865625 210.648903 \r\n\" style=\"fill:none;stroke:#cccccc;stroke-linecap:round;stroke-width:0.8;\"/>\r\n     </g>\r\n     <g id=\"line2d_14\"/>\r\n     <g id=\"text_8\">\r\n      <!-- 320000 -->\r\n      <defs>\r\n       <path d=\"M 4.203125 18.890625 \r\nL 12.984375 20.0625 \r\nQ 14.5 12.59375 18.140625 9.296875 \r\nQ 21.78125 6 27 6 \r\nQ 33.203125 6 37.46875 10.296875 \r\nQ 41.75 14.59375 41.75 20.953125 \r\nQ 41.75 27 37.796875 30.921875 \r\nQ 33.84375 34.859375 27.734375 34.859375 \r\nQ 25.25 34.859375 21.53125 33.890625 \r\nL 22.515625 41.609375 \r\nQ 23.390625 41.5 23.921875 41.5 \r\nQ 29.546875 41.5 34.03125 44.421875 \r\nQ 38.53125 47.359375 38.53125 53.46875 \r\nQ 38.53125 58.296875 35.25 61.46875 \r\nQ 31.984375 64.65625 26.8125 64.65625 \r\nQ 21.6875 64.65625 18.265625 61.421875 \r\nQ 14.84375 58.203125 13.875 51.765625 \r\nL 5.078125 53.328125 \r\nQ 6.6875 62.15625 12.390625 67.015625 \r\nQ 18.109375 71.875 26.609375 71.875 \r\nQ 32.46875 71.875 37.390625 69.359375 \r\nQ 42.328125 66.84375 44.9375 62.5 \r\nQ 47.5625 58.15625 47.5625 53.265625 \r\nQ 47.5625 48.640625 45.0625 44.828125 \r\nQ 42.578125 41.015625 37.703125 38.765625 \r\nQ 44.046875 37.3125 47.5625 32.6875 \r\nQ 51.078125 28.078125 51.078125 21.140625 \r\nQ 51.078125 11.765625 44.234375 5.25 \r\nQ 37.40625 -1.265625 26.953125 -1.265625 \r\nQ 17.53125 -1.265625 11.296875 4.34375 \r\nQ 5.078125 9.96875 4.203125 18.890625 \r\nz\r\n\" id=\"ArialMT-51\"/>\r\n      </defs>\r\n      <g style=\"fill:#262626;\" transform=\"translate(7.2 214.227809)scale(0.1 -0.1)\">\r\n       <use xlink:href=\"#ArialMT-51\"/>\r\n       <use x=\"55.615234\" xlink:href=\"#ArialMT-50\"/>\r\n       <use x=\"111.230469\" xlink:href=\"#ArialMT-48\"/>\r\n       <use x=\"166.845703\" xlink:href=\"#ArialMT-48\"/>\r\n       <use x=\"222.460938\" xlink:href=\"#ArialMT-48\"/>\r\n       <use x=\"278.076172\" xlink:href=\"#ArialMT-48\"/>\r\n      </g>\r\n     </g>\r\n    </g>\r\n    <g id=\"ytick_2\">\r\n     <g id=\"line2d_15\">\r\n      <path clip-path=\"url(#p67bb97c155)\" d=\"M 44.065625 173.494121 \r\nL 378.865625 173.494121 \r\n\" style=\"fill:none;stroke:#cccccc;stroke-linecap:round;stroke-width:0.8;\"/>\r\n     </g>\r\n     <g id=\"line2d_16\"/>\r\n     <g id=\"text_9\">\r\n      <!-- 340000 -->\r\n      <g style=\"fill:#262626;\" transform=\"translate(7.2 177.073027)scale(0.1 -0.1)\">\r\n       <use xlink:href=\"#ArialMT-51\"/>\r\n       <use x=\"55.615234\" xlink:href=\"#ArialMT-52\"/>\r\n       <use x=\"111.230469\" xlink:href=\"#ArialMT-48\"/>\r\n       <use x=\"166.845703\" xlink:href=\"#ArialMT-48\"/>\r\n       <use x=\"222.460938\" xlink:href=\"#ArialMT-48\"/>\r\n       <use x=\"278.076172\" xlink:href=\"#ArialMT-48\"/>\r\n      </g>\r\n     </g>\r\n    </g>\r\n    <g id=\"ytick_3\">\r\n     <g id=\"line2d_17\">\r\n      <path clip-path=\"url(#p67bb97c155)\" d=\"M 44.065625 136.339339 \r\nL 378.865625 136.339339 \r\n\" style=\"fill:none;stroke:#cccccc;stroke-linecap:round;stroke-width:0.8;\"/>\r\n     </g>\r\n     <g id=\"line2d_18\"/>\r\n     <g id=\"text_10\">\r\n      <!-- 360000 -->\r\n      <g style=\"fill:#262626;\" transform=\"translate(7.2 139.918245)scale(0.1 -0.1)\">\r\n       <use xlink:href=\"#ArialMT-51\"/>\r\n       <use x=\"55.615234\" xlink:href=\"#ArialMT-54\"/>\r\n       <use x=\"111.230469\" xlink:href=\"#ArialMT-48\"/>\r\n       <use x=\"166.845703\" xlink:href=\"#ArialMT-48\"/>\r\n       <use x=\"222.460938\" xlink:href=\"#ArialMT-48\"/>\r\n       <use x=\"278.076172\" xlink:href=\"#ArialMT-48\"/>\r\n      </g>\r\n     </g>\r\n    </g>\r\n    <g id=\"ytick_4\">\r\n     <g id=\"line2d_19\">\r\n      <path clip-path=\"url(#p67bb97c155)\" d=\"M 44.065625 99.184557 \r\nL 378.865625 99.184557 \r\n\" style=\"fill:none;stroke:#cccccc;stroke-linecap:round;stroke-width:0.8;\"/>\r\n     </g>\r\n     <g id=\"line2d_20\"/>\r\n     <g id=\"text_11\">\r\n      <!-- 380000 -->\r\n      <g style=\"fill:#262626;\" transform=\"translate(7.2 102.763464)scale(0.1 -0.1)\">\r\n       <use xlink:href=\"#ArialMT-51\"/>\r\n       <use x=\"55.615234\" xlink:href=\"#ArialMT-56\"/>\r\n       <use x=\"111.230469\" xlink:href=\"#ArialMT-48\"/>\r\n       <use x=\"166.845703\" xlink:href=\"#ArialMT-48\"/>\r\n       <use x=\"222.460938\" xlink:href=\"#ArialMT-48\"/>\r\n       <use x=\"278.076172\" xlink:href=\"#ArialMT-48\"/>\r\n      </g>\r\n     </g>\r\n    </g>\r\n    <g id=\"ytick_5\">\r\n     <g id=\"line2d_21\">\r\n      <path clip-path=\"url(#p67bb97c155)\" d=\"M 44.065625 62.029776 \r\nL 378.865625 62.029776 \r\n\" style=\"fill:none;stroke:#cccccc;stroke-linecap:round;stroke-width:0.8;\"/>\r\n     </g>\r\n     <g id=\"line2d_22\"/>\r\n     <g id=\"text_12\">\r\n      <!-- 400000 -->\r\n      <g style=\"fill:#262626;\" transform=\"translate(7.2 65.608682)scale(0.1 -0.1)\">\r\n       <use xlink:href=\"#ArialMT-52\"/>\r\n       <use x=\"55.615234\" xlink:href=\"#ArialMT-48\"/>\r\n       <use x=\"111.230469\" xlink:href=\"#ArialMT-48\"/>\r\n       <use x=\"166.845703\" xlink:href=\"#ArialMT-48\"/>\r\n       <use x=\"222.460938\" xlink:href=\"#ArialMT-48\"/>\r\n       <use x=\"278.076172\" xlink:href=\"#ArialMT-48\"/>\r\n      </g>\r\n     </g>\r\n    </g>\r\n    <g id=\"ytick_6\">\r\n     <g id=\"line2d_23\">\r\n      <path clip-path=\"url(#p67bb97c155)\" d=\"M 44.065625 24.874994 \r\nL 378.865625 24.874994 \r\n\" style=\"fill:none;stroke:#cccccc;stroke-linecap:round;stroke-width:0.8;\"/>\r\n     </g>\r\n     <g id=\"line2d_24\"/>\r\n     <g id=\"text_13\">\r\n      <!-- 420000 -->\r\n      <g style=\"fill:#262626;\" transform=\"translate(7.2 28.4539)scale(0.1 -0.1)\">\r\n       <use xlink:href=\"#ArialMT-52\"/>\r\n       <use x=\"55.615234\" xlink:href=\"#ArialMT-50\"/>\r\n       <use x=\"111.230469\" xlink:href=\"#ArialMT-48\"/>\r\n       <use x=\"166.845703\" xlink:href=\"#ArialMT-48\"/>\r\n       <use x=\"222.460938\" xlink:href=\"#ArialMT-48\"/>\r\n       <use x=\"278.076172\" xlink:href=\"#ArialMT-48\"/>\r\n      </g>\r\n     </g>\r\n    </g>\r\n   </g>\r\n   <g id=\"line2d_25\">\r\n    <path clip-path=\"url(#p67bb97c155)\" d=\"M 44.065625 214.756364 \r\nL 77.545625 213.415076 \r\nL 111.025625 115.896778 \r\nL 144.505625 101.246648 \r\nL 177.985625 84.042126 \r\nL 211.465625 64.255347 \r\nL 244.945625 39.870664 \r\nL 278.425625 20.483299 \r\nL 311.905625 40.476287 \r\nL 345.385625 29.432028 \r\nL 378.865625 17.083636 \r\n\" style=\"fill:none;stroke:#1f77b4;stroke-linecap:round;stroke-width:1.5;\"/>\r\n    <defs>\r\n     <path d=\"M 0 3 \r\nC 0.795609 3 1.55874 2.683901 2.12132 2.12132 \r\nC 2.683901 1.55874 3 0.795609 3 0 \r\nC 3 -0.795609 2.683901 -1.55874 2.12132 -2.12132 \r\nC 1.55874 -2.683901 0.795609 -3 0 -3 \r\nC -0.795609 -3 -1.55874 -2.683901 -2.12132 -2.12132 \r\nC -2.683901 -1.55874 -3 -0.795609 -3 0 \r\nC -3 0.795609 -2.683901 1.55874 -2.12132 2.12132 \r\nC -1.55874 2.683901 -0.795609 3 0 3 \r\nz\r\n\" id=\"m13ff2bc6a6\" style=\"stroke:#1f77b4;\"/>\r\n    </defs>\r\n    <g clip-path=\"url(#p67bb97c155)\">\r\n     <use style=\"fill:#1f77b4;stroke:#1f77b4;\" x=\"44.065625\" xlink:href=\"#m13ff2bc6a6\" y=\"214.756364\"/>\r\n     <use style=\"fill:#1f77b4;stroke:#1f77b4;\" x=\"77.545625\" xlink:href=\"#m13ff2bc6a6\" y=\"213.415076\"/>\r\n     <use style=\"fill:#1f77b4;stroke:#1f77b4;\" x=\"111.025625\" xlink:href=\"#m13ff2bc6a6\" y=\"115.896778\"/>\r\n     <use style=\"fill:#1f77b4;stroke:#1f77b4;\" x=\"144.505625\" xlink:href=\"#m13ff2bc6a6\" y=\"101.246648\"/>\r\n     <use style=\"fill:#1f77b4;stroke:#1f77b4;\" x=\"177.985625\" xlink:href=\"#m13ff2bc6a6\" y=\"84.042126\"/>\r\n     <use style=\"fill:#1f77b4;stroke:#1f77b4;\" x=\"211.465625\" xlink:href=\"#m13ff2bc6a6\" y=\"64.255347\"/>\r\n     <use style=\"fill:#1f77b4;stroke:#1f77b4;\" x=\"244.945625\" xlink:href=\"#m13ff2bc6a6\" y=\"39.870664\"/>\r\n     <use style=\"fill:#1f77b4;stroke:#1f77b4;\" x=\"278.425625\" xlink:href=\"#m13ff2bc6a6\" y=\"20.483299\"/>\r\n     <use style=\"fill:#1f77b4;stroke:#1f77b4;\" x=\"311.905625\" xlink:href=\"#m13ff2bc6a6\" y=\"40.476287\"/>\r\n     <use style=\"fill:#1f77b4;stroke:#1f77b4;\" x=\"345.385625\" xlink:href=\"#m13ff2bc6a6\" y=\"29.432028\"/>\r\n     <use style=\"fill:#1f77b4;stroke:#1f77b4;\" x=\"378.865625\" xlink:href=\"#m13ff2bc6a6\" y=\"17.083636\"/>\r\n    </g>\r\n   </g>\r\n   <g id=\"patch_3\">\r\n    <path d=\"M 44.065625 224.64 \r\nL 44.065625 7.2 \r\n\" style=\"fill:none;stroke:#cccccc;stroke-linecap:square;stroke-linejoin:miter;\"/>\r\n   </g>\r\n   <g id=\"patch_4\">\r\n    <path d=\"M 378.865625 224.64 \r\nL 378.865625 7.2 \r\n\" style=\"fill:none;stroke:#cccccc;stroke-linecap:square;stroke-linejoin:miter;\"/>\r\n   </g>\r\n   <g id=\"patch_5\">\r\n    <path d=\"M 44.065625 224.64 \r\nL 378.865625 224.64 \r\n\" style=\"fill:none;stroke:#cccccc;stroke-linecap:square;stroke-linejoin:miter;\"/>\r\n   </g>\r\n   <g id=\"patch_6\">\r\n    <path d=\"M 44.065625 7.2 \r\nL 378.865625 7.2 \r\n\" style=\"fill:none;stroke:#cccccc;stroke-linecap:square;stroke-linejoin:miter;\"/>\r\n   </g>\r\n  </g>\r\n </g>\r\n <defs>\r\n  <clipPath id=\"p67bb97c155\">\r\n   <rect height=\"217.44\" width=\"334.8\" x=\"44.065625\" y=\"7.2\"/>\r\n  </clipPath>\r\n </defs>\r\n</svg>\r\n",
      "image/png": "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\n"
=======
      "application/vnd.jupyter.widget-view+json": {
       "model_id": "69514475e89343beb60cc51ec38f0d21",
       "version_major": 2,
       "version_minor": 0
      },
      "text/plain": [
       "interactive(children=(Dropdown(description='area', index=3, options=('Region Midtjylland', 'Region Nordjylland…"
      ]
>>>>>>> f4431e1ac640bc3e06924d17c3b36c3bbbed2adf
     },
     "metadata": {}
    }
   ],
   "source": [
    "widgets.interact(plot_data_true, \n",
    "    df = widgets.fixed(data_true),\n",
    "    area = widgets.Dropdown(description='area', \n",
    "                                    options=data.area.unique(), \n",
    "                                    value='Region Hovedstaden')\n",
    "); "
   ]
  },
  {
   "cell_type": "markdown",
   "metadata": {},
   "source": [
    "# Plotting the difference to the mean for income"
   ]
  },
  {
   "cell_type": "code",
<<<<<<< HEAD
   "execution_count": 55,
=======
   "execution_count": 30,
>>>>>>> f4431e1ac640bc3e06924d17c3b36c3bbbed2adf
   "metadata": {},
   "outputs": [],
   "source": [
    "#Plotting income. \n",
    "import ipywidgets as widgets\n",
    "def plot_data_true(df, area): \n",
    "    I = df['area'] == area\n",
    "    ax=df.loc[I,:].plot(x='year', y='diff_to_mean', style='-o', legend=False)"
   ]
  },
  {
   "cell_type": "code",
<<<<<<< HEAD
   "execution_count": 56,
=======
   "execution_count": 31,
>>>>>>> f4431e1ac640bc3e06924d17c3b36c3bbbed2adf
   "metadata": {},
   "outputs": [
    {
     "output_type": "display_data",
     "data": {
<<<<<<< HEAD
      "text/plain": "<Figure size 432x288 with 1 Axes>",
      "image/svg+xml": "<?xml version=\"1.0\" encoding=\"utf-8\" standalone=\"no\"?>\r\n<!DOCTYPE svg PUBLIC \"-//W3C//DTD SVG 1.1//EN\"\r\n  \"http://www.w3.org/Graphics/SVG/1.1/DTD/svg11.dtd\">\r\n<!-- Created with matplotlib (https://matplotlib.org/) -->\r\n<svg height=\"257.630625pt\" version=\"1.1\" viewBox=\"0 0 397.467188 257.630625\" width=\"397.467188pt\" xmlns=\"http://www.w3.org/2000/svg\" xmlns:xlink=\"http://www.w3.org/1999/xlink\">\r\n <defs>\r\n  <style type=\"text/css\">\r\n*{stroke-linecap:butt;stroke-linejoin:round;}\r\n  </style>\r\n </defs>\r\n <g id=\"figure_1\">\r\n  <g id=\"patch_1\">\r\n   <path d=\"M 0 257.630625 \r\nL 397.467188 257.630625 \r\nL 397.467188 0 \r\nL 0 0 \r\nz\r\n\" style=\"fill:#ffffff;\"/>\r\n  </g>\r\n  <g id=\"axes_1\">\r\n   <g id=\"patch_2\">\r\n    <path d=\"M 44.345313 224.64 \r\nL 379.145312 224.64 \r\nL 379.145312 7.2 \r\nL 44.345313 7.2 \r\nz\r\n\" style=\"fill:#ffffff;\"/>\r\n   </g>\r\n   <g id=\"matplotlib.axis_1\">\r\n    <g id=\"xtick_1\">\r\n     <g id=\"line2d_1\">\r\n      <path clip-path=\"url(#pc8e5101951)\" d=\"M 44.345312 224.64 \r\nL 44.345312 7.2 \r\n\" style=\"fill:none;stroke:#cccccc;stroke-linecap:round;stroke-width:0.8;\"/>\r\n     </g>\r\n     <g id=\"line2d_2\"/>\r\n     <g id=\"text_1\">\r\n      <!-- 2008 -->\r\n      <defs>\r\n       <path d=\"M 50.34375 8.453125 \r\nL 50.34375 0 \r\nL 3.03125 0 \r\nQ 2.9375 3.171875 4.046875 6.109375 \r\nQ 5.859375 10.9375 9.828125 15.625 \r\nQ 13.8125 20.3125 21.34375 26.46875 \r\nQ 33.015625 36.03125 37.109375 41.625 \r\nQ 41.21875 47.21875 41.21875 52.203125 \r\nQ 41.21875 57.421875 37.46875 61 \r\nQ 33.734375 64.59375 27.734375 64.59375 \r\nQ 21.390625 64.59375 17.578125 60.78125 \r\nQ 13.765625 56.984375 13.71875 50.25 \r\nL 4.6875 51.171875 \r\nQ 5.609375 61.28125 11.65625 66.578125 \r\nQ 17.71875 71.875 27.9375 71.875 \r\nQ 38.234375 71.875 44.234375 66.15625 \r\nQ 50.25 60.453125 50.25 52 \r\nQ 50.25 47.703125 48.484375 43.546875 \r\nQ 46.734375 39.40625 42.65625 34.8125 \r\nQ 38.578125 30.21875 29.109375 22.21875 \r\nQ 21.1875 15.578125 18.9375 13.203125 \r\nQ 16.703125 10.84375 15.234375 8.453125 \r\nz\r\n\" id=\"ArialMT-50\"/>\r\n       <path d=\"M 4.15625 35.296875 \r\nQ 4.15625 48 6.765625 55.734375 \r\nQ 9.375 63.484375 14.515625 67.671875 \r\nQ 19.671875 71.875 27.484375 71.875 \r\nQ 33.25 71.875 37.59375 69.546875 \r\nQ 41.9375 67.234375 44.765625 62.859375 \r\nQ 47.609375 58.5 49.21875 52.21875 \r\nQ 50.828125 45.953125 50.828125 35.296875 \r\nQ 50.828125 22.703125 48.234375 14.96875 \r\nQ 45.65625 7.234375 40.5 3 \r\nQ 35.359375 -1.21875 27.484375 -1.21875 \r\nQ 17.140625 -1.21875 11.234375 6.203125 \r\nQ 4.15625 15.140625 4.15625 35.296875 \r\nz\r\nM 13.1875 35.296875 \r\nQ 13.1875 17.671875 17.3125 11.828125 \r\nQ 21.4375 6 27.484375 6 \r\nQ 33.546875 6 37.671875 11.859375 \r\nQ 41.796875 17.71875 41.796875 35.296875 \r\nQ 41.796875 52.984375 37.671875 58.78125 \r\nQ 33.546875 64.59375 27.390625 64.59375 \r\nQ 21.34375 64.59375 17.71875 59.46875 \r\nQ 13.1875 52.9375 13.1875 35.296875 \r\nz\r\n\" id=\"ArialMT-48\"/>\r\n       <path d=\"M 17.671875 38.8125 \r\nQ 12.203125 40.828125 9.5625 44.53125 \r\nQ 6.9375 48.25 6.9375 53.421875 \r\nQ 6.9375 61.234375 12.546875 66.546875 \r\nQ 18.171875 71.875 27.484375 71.875 \r\nQ 36.859375 71.875 42.578125 66.421875 \r\nQ 48.296875 60.984375 48.296875 53.171875 \r\nQ 48.296875 48.1875 45.671875 44.5 \r\nQ 43.0625 40.828125 37.75 38.8125 \r\nQ 44.34375 36.671875 47.78125 31.875 \r\nQ 51.21875 27.09375 51.21875 20.453125 \r\nQ 51.21875 11.28125 44.71875 5.03125 \r\nQ 38.234375 -1.21875 27.640625 -1.21875 \r\nQ 17.046875 -1.21875 10.546875 5.046875 \r\nQ 4.046875 11.328125 4.046875 20.703125 \r\nQ 4.046875 27.6875 7.59375 32.390625 \r\nQ 11.140625 37.109375 17.671875 38.8125 \r\nz\r\nM 15.921875 53.71875 \r\nQ 15.921875 48.640625 19.1875 45.40625 \r\nQ 22.46875 42.1875 27.6875 42.1875 \r\nQ 32.765625 42.1875 36.015625 45.375 \r\nQ 39.265625 48.578125 39.265625 53.21875 \r\nQ 39.265625 58.0625 35.90625 61.359375 \r\nQ 32.5625 64.65625 27.59375 64.65625 \r\nQ 22.5625 64.65625 19.234375 61.421875 \r\nQ 15.921875 58.203125 15.921875 53.71875 \r\nz\r\nM 13.09375 20.65625 \r\nQ 13.09375 16.890625 14.875 13.375 \r\nQ 16.65625 9.859375 20.171875 7.921875 \r\nQ 23.6875 6 27.734375 6 \r\nQ 34.03125 6 38.125 10.046875 \r\nQ 42.234375 14.109375 42.234375 20.359375 \r\nQ 42.234375 26.703125 38.015625 30.859375 \r\nQ 33.796875 35.015625 27.4375 35.015625 \r\nQ 21.234375 35.015625 17.15625 30.90625 \r\nQ 13.09375 26.8125 13.09375 20.65625 \r\nz\r\n\" id=\"ArialMT-56\"/>\r\n      </defs>\r\n      <g style=\"fill:#262626;\" transform=\"translate(33.223437 235.297812)scale(0.1 -0.1)\">\r\n       <use xlink:href=\"#ArialMT-50\"/>\r\n       <use x=\"55.615234\" xlink:href=\"#ArialMT-48\"/>\r\n       <use x=\"111.230469\" xlink:href=\"#ArialMT-48\"/>\r\n       <use x=\"166.845703\" xlink:href=\"#ArialMT-56\"/>\r\n      </g>\r\n     </g>\r\n    </g>\r\n    <g id=\"xtick_2\">\r\n     <g id=\"line2d_3\">\r\n      <path clip-path=\"url(#pc8e5101951)\" d=\"M 111.305312 224.64 \r\nL 111.305312 7.2 \r\n\" style=\"fill:none;stroke:#cccccc;stroke-linecap:round;stroke-width:0.8;\"/>\r\n     </g>\r\n     <g id=\"line2d_4\"/>\r\n     <g id=\"text_2\">\r\n      <!-- 2010 -->\r\n      <defs>\r\n       <path d=\"M 37.25 0 \r\nL 28.46875 0 \r\nL 28.46875 56 \r\nQ 25.296875 52.984375 20.140625 49.953125 \r\nQ 14.984375 46.921875 10.890625 45.40625 \r\nL 10.890625 53.90625 \r\nQ 18.265625 57.375 23.78125 62.296875 \r\nQ 29.296875 67.234375 31.59375 71.875 \r\nL 37.25 71.875 \r\nz\r\n\" id=\"ArialMT-49\"/>\r\n      </defs>\r\n      <g style=\"fill:#262626;\" transform=\"translate(100.183437 235.297812)scale(0.1 -0.1)\">\r\n       <use xlink:href=\"#ArialMT-50\"/>\r\n       <use x=\"55.615234\" xlink:href=\"#ArialMT-48\"/>\r\n       <use x=\"111.230469\" xlink:href=\"#ArialMT-49\"/>\r\n       <use x=\"166.845703\" xlink:href=\"#ArialMT-48\"/>\r\n      </g>\r\n     </g>\r\n    </g>\r\n    <g id=\"xtick_3\">\r\n     <g id=\"line2d_5\">\r\n      <path clip-path=\"url(#pc8e5101951)\" d=\"M 178.265312 224.64 \r\nL 178.265312 7.2 \r\n\" style=\"fill:none;stroke:#cccccc;stroke-linecap:round;stroke-width:0.8;\"/>\r\n     </g>\r\n     <g id=\"line2d_6\"/>\r\n     <g id=\"text_3\">\r\n      <!-- 2012 -->\r\n      <g style=\"fill:#262626;\" transform=\"translate(167.143437 235.297812)scale(0.1 -0.1)\">\r\n       <use xlink:href=\"#ArialMT-50\"/>\r\n       <use x=\"55.615234\" xlink:href=\"#ArialMT-48\"/>\r\n       <use x=\"111.230469\" xlink:href=\"#ArialMT-49\"/>\r\n       <use x=\"166.845703\" xlink:href=\"#ArialMT-50\"/>\r\n      </g>\r\n     </g>\r\n    </g>\r\n    <g id=\"xtick_4\">\r\n     <g id=\"line2d_7\">\r\n      <path clip-path=\"url(#pc8e5101951)\" d=\"M 245.225312 224.64 \r\nL 245.225312 7.2 \r\n\" style=\"fill:none;stroke:#cccccc;stroke-linecap:round;stroke-width:0.8;\"/>\r\n     </g>\r\n     <g id=\"line2d_8\"/>\r\n     <g id=\"text_4\">\r\n      <!-- 2014 -->\r\n      <defs>\r\n       <path d=\"M 32.328125 0 \r\nL 32.328125 17.140625 \r\nL 1.265625 17.140625 \r\nL 1.265625 25.203125 \r\nL 33.9375 71.578125 \r\nL 41.109375 71.578125 \r\nL 41.109375 25.203125 \r\nL 50.78125 25.203125 \r\nL 50.78125 17.140625 \r\nL 41.109375 17.140625 \r\nL 41.109375 0 \r\nz\r\nM 32.328125 25.203125 \r\nL 32.328125 57.46875 \r\nL 9.90625 25.203125 \r\nz\r\n\" id=\"ArialMT-52\"/>\r\n      </defs>\r\n      <g style=\"fill:#262626;\" transform=\"translate(234.103437 235.297812)scale(0.1 -0.1)\">\r\n       <use xlink:href=\"#ArialMT-50\"/>\r\n       <use x=\"55.615234\" xlink:href=\"#ArialMT-48\"/>\r\n       <use x=\"111.230469\" xlink:href=\"#ArialMT-49\"/>\r\n       <use x=\"166.845703\" xlink:href=\"#ArialMT-52\"/>\r\n      </g>\r\n     </g>\r\n    </g>\r\n    <g id=\"xtick_5\">\r\n     <g id=\"line2d_9\">\r\n      <path clip-path=\"url(#pc8e5101951)\" d=\"M 312.185312 224.64 \r\nL 312.185312 7.2 \r\n\" style=\"fill:none;stroke:#cccccc;stroke-linecap:round;stroke-width:0.8;\"/>\r\n     </g>\r\n     <g id=\"line2d_10\"/>\r\n     <g id=\"text_5\">\r\n      <!-- 2016 -->\r\n      <defs>\r\n       <path d=\"M 49.75 54.046875 \r\nL 41.015625 53.375 \r\nQ 39.84375 58.546875 37.703125 60.890625 \r\nQ 34.125 64.65625 28.90625 64.65625 \r\nQ 24.703125 64.65625 21.53125 62.3125 \r\nQ 17.390625 59.28125 14.984375 53.46875 \r\nQ 12.59375 47.65625 12.5 36.921875 \r\nQ 15.671875 41.75 20.265625 44.09375 \r\nQ 24.859375 46.4375 29.890625 46.4375 \r\nQ 38.671875 46.4375 44.84375 39.96875 \r\nQ 51.03125 33.5 51.03125 23.25 \r\nQ 51.03125 16.5 48.125 10.71875 \r\nQ 45.21875 4.9375 40.140625 1.859375 \r\nQ 35.0625 -1.21875 28.609375 -1.21875 \r\nQ 17.625 -1.21875 10.6875 6.859375 \r\nQ 3.765625 14.9375 3.765625 33.5 \r\nQ 3.765625 54.25 11.421875 63.671875 \r\nQ 18.109375 71.875 29.4375 71.875 \r\nQ 37.890625 71.875 43.28125 67.140625 \r\nQ 48.6875 62.40625 49.75 54.046875 \r\nz\r\nM 13.875 23.1875 \r\nQ 13.875 18.65625 15.796875 14.5 \r\nQ 17.71875 10.359375 21.1875 8.171875 \r\nQ 24.65625 6 28.46875 6 \r\nQ 34.03125 6 38.03125 10.484375 \r\nQ 42.046875 14.984375 42.046875 22.703125 \r\nQ 42.046875 30.125 38.078125 34.390625 \r\nQ 34.125 38.671875 28.125 38.671875 \r\nQ 22.171875 38.671875 18.015625 34.390625 \r\nQ 13.875 30.125 13.875 23.1875 \r\nz\r\n\" id=\"ArialMT-54\"/>\r\n      </defs>\r\n      <g style=\"fill:#262626;\" transform=\"translate(301.063437 235.297812)scale(0.1 -0.1)\">\r\n       <use xlink:href=\"#ArialMT-50\"/>\r\n       <use x=\"55.615234\" xlink:href=\"#ArialMT-48\"/>\r\n       <use x=\"111.230469\" xlink:href=\"#ArialMT-49\"/>\r\n       <use x=\"166.845703\" xlink:href=\"#ArialMT-54\"/>\r\n      </g>\r\n     </g>\r\n    </g>\r\n    <g id=\"xtick_6\">\r\n     <g id=\"line2d_11\">\r\n      <path clip-path=\"url(#pc8e5101951)\" d=\"M 379.145312 224.64 \r\nL 379.145312 7.2 \r\n\" style=\"fill:none;stroke:#cccccc;stroke-linecap:round;stroke-width:0.8;\"/>\r\n     </g>\r\n     <g id=\"line2d_12\"/>\r\n     <g id=\"text_6\">\r\n      <!-- 2018 -->\r\n      <g style=\"fill:#262626;\" transform=\"translate(368.023437 235.297812)scale(0.1 -0.1)\">\r\n       <use xlink:href=\"#ArialMT-50\"/>\r\n       <use x=\"55.615234\" xlink:href=\"#ArialMT-48\"/>\r\n       <use x=\"111.230469\" xlink:href=\"#ArialMT-49\"/>\r\n       <use x=\"166.845703\" xlink:href=\"#ArialMT-56\"/>\r\n      </g>\r\n     </g>\r\n    </g>\r\n    <g id=\"text_7\">\r\n     <!-- year -->\r\n     <defs>\r\n      <path d=\"M 6.203125 -19.96875 \r\nL 5.21875 -11.71875 \r\nQ 8.109375 -12.5 10.25 -12.5 \r\nQ 13.1875 -12.5 14.9375 -11.515625 \r\nQ 16.703125 -10.546875 17.828125 -8.796875 \r\nQ 18.65625 -7.46875 20.515625 -2.25 \r\nQ 20.75 -1.515625 21.296875 -0.09375 \r\nL 1.609375 51.859375 \r\nL 11.078125 51.859375 \r\nL 21.875 21.828125 \r\nQ 23.96875 16.109375 25.640625 9.8125 \r\nQ 27.15625 15.875 29.25 21.625 \r\nL 40.328125 51.859375 \r\nL 49.125 51.859375 \r\nL 29.390625 -0.875 \r\nQ 26.21875 -9.421875 24.46875 -12.640625 \r\nQ 22.125 -17 19.09375 -19.015625 \r\nQ 16.0625 -21.046875 11.859375 -21.046875 \r\nQ 9.328125 -21.046875 6.203125 -19.96875 \r\nz\r\n\" id=\"ArialMT-121\"/>\r\n      <path d=\"M 42.09375 16.703125 \r\nL 51.171875 15.578125 \r\nQ 49.03125 7.625 43.21875 3.21875 \r\nQ 37.40625 -1.171875 28.375 -1.171875 \r\nQ 17 -1.171875 10.328125 5.828125 \r\nQ 3.65625 12.84375 3.65625 25.484375 \r\nQ 3.65625 38.578125 10.390625 45.796875 \r\nQ 17.140625 53.03125 27.875 53.03125 \r\nQ 38.28125 53.03125 44.875 45.953125 \r\nQ 51.46875 38.875 51.46875 26.03125 \r\nQ 51.46875 25.25 51.421875 23.6875 \r\nL 12.75 23.6875 \r\nQ 13.234375 15.140625 17.578125 10.59375 \r\nQ 21.921875 6.0625 28.421875 6.0625 \r\nQ 33.25 6.0625 36.671875 8.59375 \r\nQ 40.09375 11.140625 42.09375 16.703125 \r\nz\r\nM 13.234375 30.90625 \r\nL 42.1875 30.90625 \r\nQ 41.609375 37.453125 38.875 40.71875 \r\nQ 34.671875 45.796875 27.984375 45.796875 \r\nQ 21.921875 45.796875 17.796875 41.75 \r\nQ 13.671875 37.703125 13.234375 30.90625 \r\nz\r\n\" id=\"ArialMT-101\"/>\r\n      <path d=\"M 40.4375 6.390625 \r\nQ 35.546875 2.25 31.03125 0.53125 \r\nQ 26.515625 -1.171875 21.34375 -1.171875 \r\nQ 12.796875 -1.171875 8.203125 3 \r\nQ 3.609375 7.171875 3.609375 13.671875 \r\nQ 3.609375 17.484375 5.34375 20.625 \r\nQ 7.078125 23.78125 9.890625 25.6875 \r\nQ 12.703125 27.59375 16.21875 28.5625 \r\nQ 18.796875 29.25 24.03125 29.890625 \r\nQ 34.671875 31.15625 39.703125 32.90625 \r\nQ 39.75 34.71875 39.75 35.203125 \r\nQ 39.75 40.578125 37.25 42.78125 \r\nQ 33.890625 45.75 27.25 45.75 \r\nQ 21.046875 45.75 18.09375 43.578125 \r\nQ 15.140625 41.40625 13.71875 35.890625 \r\nL 5.125 37.0625 \r\nQ 6.296875 42.578125 8.984375 45.96875 \r\nQ 11.671875 49.359375 16.75 51.1875 \r\nQ 21.828125 53.03125 28.515625 53.03125 \r\nQ 35.15625 53.03125 39.296875 51.46875 \r\nQ 43.453125 49.90625 45.40625 47.53125 \r\nQ 47.359375 45.171875 48.140625 41.546875 \r\nQ 48.578125 39.3125 48.578125 33.453125 \r\nL 48.578125 21.734375 \r\nQ 48.578125 9.46875 49.140625 6.21875 \r\nQ 49.703125 2.984375 51.375 0 \r\nL 42.1875 0 \r\nQ 40.828125 2.734375 40.4375 6.390625 \r\nz\r\nM 39.703125 26.03125 \r\nQ 34.90625 24.078125 25.34375 22.703125 \r\nQ 19.921875 21.921875 17.671875 20.9375 \r\nQ 15.4375 19.96875 14.203125 18.09375 \r\nQ 12.984375 16.21875 12.984375 13.921875 \r\nQ 12.984375 10.40625 15.640625 8.0625 \r\nQ 18.3125 5.71875 23.4375 5.71875 \r\nQ 28.515625 5.71875 32.46875 7.9375 \r\nQ 36.421875 10.15625 38.28125 14.015625 \r\nQ 39.703125 17 39.703125 22.796875 \r\nz\r\n\" id=\"ArialMT-97\"/>\r\n      <path d=\"M 6.5 0 \r\nL 6.5 51.859375 \r\nL 14.40625 51.859375 \r\nL 14.40625 44 \r\nQ 17.4375 49.515625 20 51.265625 \r\nQ 22.5625 53.03125 25.640625 53.03125 \r\nQ 30.078125 53.03125 34.671875 50.203125 \r\nL 31.640625 42.046875 \r\nQ 28.421875 43.953125 25.203125 43.953125 \r\nQ 22.3125 43.953125 20.015625 42.21875 \r\nQ 17.71875 40.484375 16.75 37.40625 \r\nQ 15.28125 32.71875 15.28125 27.15625 \r\nL 15.28125 0 \r\nz\r\n\" id=\"ArialMT-114\"/>\r\n     </defs>\r\n     <g style=\"fill:#262626;\" transform=\"translate(202.019531 248.325938)scale(0.1 -0.1)\">\r\n      <use xlink:href=\"#ArialMT-121\"/>\r\n      <use x=\"50\" xlink:href=\"#ArialMT-101\"/>\r\n      <use x=\"105.615234\" xlink:href=\"#ArialMT-97\"/>\r\n      <use x=\"161.230469\" xlink:href=\"#ArialMT-114\"/>\r\n     </g>\r\n    </g>\r\n   </g>\r\n   <g id=\"matplotlib.axis_2\">\r\n    <g id=\"ytick_1\">\r\n     <g id=\"line2d_13\">\r\n      <path clip-path=\"url(#pc8e5101951)\" d=\"M 44.345313 197.006004 \r\nL 379.145312 197.006004 \r\n\" style=\"fill:none;stroke:#cccccc;stroke-linecap:round;stroke-width:0.8;\"/>\r\n     </g>\r\n     <g id=\"line2d_14\"/>\r\n     <g id=\"text_8\">\r\n      <!-- −60000 -->\r\n      <defs>\r\n       <path d=\"M 52.828125 31.203125 \r\nL 5.5625 31.203125 \r\nL 5.5625 39.40625 \r\nL 52.828125 39.40625 \r\nz\r\n\" id=\"ArialMT-8722\"/>\r\n      </defs>\r\n      <g style=\"fill:#262626;\" transform=\"translate(7.2 200.584911)scale(0.1 -0.1)\">\r\n       <use xlink:href=\"#ArialMT-8722\"/>\r\n       <use x=\"58.398438\" xlink:href=\"#ArialMT-54\"/>\r\n       <use x=\"114.013672\" xlink:href=\"#ArialMT-48\"/>\r\n       <use x=\"169.628906\" xlink:href=\"#ArialMT-48\"/>\r\n       <use x=\"225.244141\" xlink:href=\"#ArialMT-48\"/>\r\n       <use x=\"280.859375\" xlink:href=\"#ArialMT-48\"/>\r\n      </g>\r\n     </g>\r\n    </g>\r\n    <g id=\"ytick_2\">\r\n     <g id=\"line2d_15\">\r\n      <path clip-path=\"url(#pc8e5101951)\" d=\"M 44.345313 159.851223 \r\nL 379.145312 159.851223 \r\n\" style=\"fill:none;stroke:#cccccc;stroke-linecap:round;stroke-width:0.8;\"/>\r\n     </g>\r\n     <g id=\"line2d_16\"/>\r\n     <g id=\"text_9\">\r\n      <!-- −40000 -->\r\n      <g style=\"fill:#262626;\" transform=\"translate(7.2 163.430129)scale(0.1 -0.1)\">\r\n       <use xlink:href=\"#ArialMT-8722\"/>\r\n       <use x=\"58.398438\" xlink:href=\"#ArialMT-52\"/>\r\n       <use x=\"114.013672\" xlink:href=\"#ArialMT-48\"/>\r\n       <use x=\"169.628906\" xlink:href=\"#ArialMT-48\"/>\r\n       <use x=\"225.244141\" xlink:href=\"#ArialMT-48\"/>\r\n       <use x=\"280.859375\" xlink:href=\"#ArialMT-48\"/>\r\n      </g>\r\n     </g>\r\n    </g>\r\n    <g id=\"ytick_3\">\r\n     <g id=\"line2d_17\">\r\n      <path clip-path=\"url(#pc8e5101951)\" d=\"M 44.345313 122.696441 \r\nL 379.145312 122.696441 \r\n\" style=\"fill:none;stroke:#cccccc;stroke-linecap:round;stroke-width:0.8;\"/>\r\n     </g>\r\n     <g id=\"line2d_18\"/>\r\n     <g id=\"text_10\">\r\n      <!-- −20000 -->\r\n      <g style=\"fill:#262626;\" transform=\"translate(7.2 126.275347)scale(0.1 -0.1)\">\r\n       <use xlink:href=\"#ArialMT-8722\"/>\r\n       <use x=\"58.398438\" xlink:href=\"#ArialMT-50\"/>\r\n       <use x=\"114.013672\" xlink:href=\"#ArialMT-48\"/>\r\n       <use x=\"169.628906\" xlink:href=\"#ArialMT-48\"/>\r\n       <use x=\"225.244141\" xlink:href=\"#ArialMT-48\"/>\r\n       <use x=\"280.859375\" xlink:href=\"#ArialMT-48\"/>\r\n      </g>\r\n     </g>\r\n    </g>\r\n    <g id=\"ytick_4\">\r\n     <g id=\"line2d_19\">\r\n      <path clip-path=\"url(#pc8e5101951)\" d=\"M 44.345313 85.541659 \r\nL 379.145312 85.541659 \r\n\" style=\"fill:none;stroke:#cccccc;stroke-linecap:round;stroke-width:0.8;\"/>\r\n     </g>\r\n     <g id=\"line2d_20\"/>\r\n     <g id=\"text_11\">\r\n      <!-- 0 -->\r\n      <g style=\"fill:#262626;\" transform=\"translate(35.284375 89.120566)scale(0.1 -0.1)\">\r\n       <use xlink:href=\"#ArialMT-48\"/>\r\n      </g>\r\n     </g>\r\n    </g>\r\n    <g id=\"ytick_5\">\r\n     <g id=\"line2d_21\">\r\n      <path clip-path=\"url(#pc8e5101951)\" d=\"M 44.345313 48.386878 \r\nL 379.145312 48.386878 \r\n\" style=\"fill:none;stroke:#cccccc;stroke-linecap:round;stroke-width:0.8;\"/>\r\n     </g>\r\n     <g id=\"line2d_22\"/>\r\n     <g id=\"text_12\">\r\n      <!-- 20000 -->\r\n      <g style=\"fill:#262626;\" transform=\"translate(13.040625 51.965784)scale(0.1 -0.1)\">\r\n       <use xlink:href=\"#ArialMT-50\"/>\r\n       <use x=\"55.615234\" xlink:href=\"#ArialMT-48\"/>\r\n       <use x=\"111.230469\" xlink:href=\"#ArialMT-48\"/>\r\n       <use x=\"166.845703\" xlink:href=\"#ArialMT-48\"/>\r\n       <use x=\"222.460938\" xlink:href=\"#ArialMT-48\"/>\r\n      </g>\r\n     </g>\r\n    </g>\r\n    <g id=\"ytick_6\">\r\n     <g id=\"line2d_23\">\r\n      <path clip-path=\"url(#pc8e5101951)\" d=\"M 44.345313 11.232096 \r\nL 379.145312 11.232096 \r\n\" style=\"fill:none;stroke:#cccccc;stroke-linecap:round;stroke-width:0.8;\"/>\r\n     </g>\r\n     <g id=\"line2d_24\"/>\r\n     <g id=\"text_13\">\r\n      <!-- 40000 -->\r\n      <g style=\"fill:#262626;\" transform=\"translate(13.040625 14.811002)scale(0.1 -0.1)\">\r\n       <use xlink:href=\"#ArialMT-52\"/>\r\n       <use x=\"55.615234\" xlink:href=\"#ArialMT-48\"/>\r\n       <use x=\"111.230469\" xlink:href=\"#ArialMT-48\"/>\r\n       <use x=\"166.845703\" xlink:href=\"#ArialMT-48\"/>\r\n       <use x=\"222.460938\" xlink:href=\"#ArialMT-48\"/>\r\n      </g>\r\n     </g>\r\n    </g>\r\n   </g>\r\n   <g id=\"line2d_25\">\r\n    <path clip-path=\"url(#pc8e5101951)\" d=\"M 44.345312 214.756364 \r\nL 77.825312 213.415076 \r\nL 111.305312 115.896778 \r\nL 144.785312 101.246648 \r\nL 178.265312 84.042126 \r\nL 211.745312 64.255347 \r\nL 245.225312 39.870664 \r\nL 278.705312 20.483299 \r\nL 312.185312 40.476287 \r\nL 345.665312 29.432028 \r\nL 379.145312 17.083636 \r\n\" style=\"fill:none;stroke:#1f77b4;stroke-linecap:round;stroke-width:1.5;\"/>\r\n    <defs>\r\n     <path d=\"M 0 3 \r\nC 0.795609 3 1.55874 2.683901 2.12132 2.12132 \r\nC 2.683901 1.55874 3 0.795609 3 0 \r\nC 3 -0.795609 2.683901 -1.55874 2.12132 -2.12132 \r\nC 1.55874 -2.683901 0.795609 -3 0 -3 \r\nC -0.795609 -3 -1.55874 -2.683901 -2.12132 -2.12132 \r\nC -2.683901 -1.55874 -3 -0.795609 -3 0 \r\nC -3 0.795609 -2.683901 1.55874 -2.12132 2.12132 \r\nC -1.55874 2.683901 -0.795609 3 0 3 \r\nz\r\n\" id=\"mbbe6052a8b\" style=\"stroke:#1f77b4;\"/>\r\n    </defs>\r\n    <g clip-path=\"url(#pc8e5101951)\">\r\n     <use style=\"fill:#1f77b4;stroke:#1f77b4;\" x=\"44.345312\" xlink:href=\"#mbbe6052a8b\" y=\"214.756364\"/>\r\n     <use style=\"fill:#1f77b4;stroke:#1f77b4;\" x=\"77.825312\" xlink:href=\"#mbbe6052a8b\" y=\"213.415076\"/>\r\n     <use style=\"fill:#1f77b4;stroke:#1f77b4;\" x=\"111.305312\" xlink:href=\"#mbbe6052a8b\" y=\"115.896778\"/>\r\n     <use style=\"fill:#1f77b4;stroke:#1f77b4;\" x=\"144.785312\" xlink:href=\"#mbbe6052a8b\" y=\"101.246648\"/>\r\n     <use style=\"fill:#1f77b4;stroke:#1f77b4;\" x=\"178.265312\" xlink:href=\"#mbbe6052a8b\" y=\"84.042126\"/>\r\n     <use style=\"fill:#1f77b4;stroke:#1f77b4;\" x=\"211.745312\" xlink:href=\"#mbbe6052a8b\" y=\"64.255347\"/>\r\n     <use style=\"fill:#1f77b4;stroke:#1f77b4;\" x=\"245.225312\" xlink:href=\"#mbbe6052a8b\" y=\"39.870664\"/>\r\n     <use style=\"fill:#1f77b4;stroke:#1f77b4;\" x=\"278.705312\" xlink:href=\"#mbbe6052a8b\" y=\"20.483299\"/>\r\n     <use style=\"fill:#1f77b4;stroke:#1f77b4;\" x=\"312.185312\" xlink:href=\"#mbbe6052a8b\" y=\"40.476287\"/>\r\n     <use style=\"fill:#1f77b4;stroke:#1f77b4;\" x=\"345.665312\" xlink:href=\"#mbbe6052a8b\" y=\"29.432028\"/>\r\n     <use style=\"fill:#1f77b4;stroke:#1f77b4;\" x=\"379.145312\" xlink:href=\"#mbbe6052a8b\" y=\"17.083636\"/>\r\n    </g>\r\n   </g>\r\n   <g id=\"patch_3\">\r\n    <path d=\"M 44.345313 224.64 \r\nL 44.345313 7.2 \r\n\" style=\"fill:none;stroke:#cccccc;stroke-linecap:square;stroke-linejoin:miter;\"/>\r\n   </g>\r\n   <g id=\"patch_4\">\r\n    <path d=\"M 379.145312 224.64 \r\nL 379.145312 7.2 \r\n\" style=\"fill:none;stroke:#cccccc;stroke-linecap:square;stroke-linejoin:miter;\"/>\r\n   </g>\r\n   <g id=\"patch_5\">\r\n    <path d=\"M 44.345312 224.64 \r\nL 379.145312 224.64 \r\n\" style=\"fill:none;stroke:#cccccc;stroke-linecap:square;stroke-linejoin:miter;\"/>\r\n   </g>\r\n   <g id=\"patch_6\">\r\n    <path d=\"M 44.345312 7.2 \r\nL 379.145312 7.2 \r\n\" style=\"fill:none;stroke:#cccccc;stroke-linecap:square;stroke-linejoin:miter;\"/>\r\n   </g>\r\n  </g>\r\n </g>\r\n <defs>\r\n  <clipPath id=\"pc8e5101951\">\r\n   <rect height=\"217.44\" width=\"334.8\" x=\"44.345313\" y=\"7.2\"/>\r\n  </clipPath>\r\n </defs>\r\n</svg>\r\n",
      "image/png": "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\n"
=======
      "application/vnd.jupyter.widget-view+json": {
       "model_id": "cbf42d7da90841f9999989f5dfd8092f",
       "version_major": 2,
       "version_minor": 0
      },
      "text/plain": [
       "interactive(children=(Dropdown(description='area', index=3, options=('Region Midtjylland', 'Region Nordjylland…"
      ]
>>>>>>> f4431e1ac640bc3e06924d17c3b36c3bbbed2adf
     },
     "metadata": {}
    }
   ],
   "source": [
    "widgets.interact(plot_data_true, \n",
    "    df = widgets.fixed(data_true),\n",
    "    area = widgets.Dropdown(description='area', \n",
    "                                    options=data.area.unique(), \n",
    "                                    value='Region Hovedstaden')\n",
    "); "
   ]
  },
  {
   "cell_type": "markdown",
   "metadata": {},
   "source": [
    "## Conclusion"
   ]
  },
  {
   "cell_type": "markdown",
   "metadata": {},
   "source": [
    "We have looked into the employmentrates of descendants of non-western immigrants and the total population in Denmark at a regional level. From this we have seen that the employmentrate of the decendants is lower for all regions across the whole period 2008-2018. From the graph it seems that the decendants were impacted more by the financial crisis than the total employment rate, as the employment rate of the descendants fell more. \n",
    "\n",
    "From the income variabel we can see that the disposable income have been increasing across the timeperiod. It seems not to be affected by the financial crisis in 2012 were the employment rates fell."
   ]
  }
 ],
 "metadata": {
  "kernelspec": {
   "display_name": "Python 3.7.4 64-bit ('base': conda)",
   "language": "python",
   "name": "python37464bitbasecondab3aec9ee691549a1ae01a8ff032db0c4"
  },
  "language_info": {
   "codemirror_mode": {
    "name": "ipython",
    "version": 3
   },
   "file_extension": ".py",
   "mimetype": "text/x-python",
   "name": "python",
   "nbconvert_exporter": "python",
   "pygments_lexer": "ipython3",
   "version": "3.7.4-final"
  }
 },
 "nbformat": 4,
 "nbformat_minor": 4
}