{
 "cells": [
  {
   "cell_type": "markdown",
   "metadata": {},
   "source": [
    "# Inaugural Project"
   ]
  },
  {
   "cell_type": "markdown",
   "metadata": {},
   "source": [
    "> **Note the following:** \n",
    "> 1. This is an example of how to structure your **inaugural project**.\n",
    "> 1. Remember the general advice on structuring and commenting your code from [lecture 5](https://numeconcopenhagen.netlify.com/lectures/Workflow_and_debugging).\n",
    "> 1. Remember this [guide](https://www.markdownguide.org/basic-syntax/) on markdown and (a bit of) latex.\n",
    "> 1. Turn on automatic numbering by clicking on the small icon on top of the table of contents in the left sidebar.\n",
    "> 1. The `inauguralproject.py` file includes a function which can be used multiple times in this notebook."
   ]
  },
  {
   "cell_type": "markdown",
   "metadata": {},
   "source": [
    "Imports and set magics:"
   ]
  },
  {
   "cell_type": "code",
   "execution_count": null,
   "metadata": {},
   "outputs": [],
   "source": [
    "#test test test test"
   ]
  },
  {
   "cell_type": "code",
   "execution_count": 1,
   "metadata": {},
   "outputs": [],
   "source": [
    "import numpy as np\n",
    "\n",
    "# autoreload modules when code is run\n",
    "%load_ext autoreload\n",
    "%autoreload 2\n",
    "\n",
    "# local modules\n",
    "import inauguralproject"
   ]
  },
  {
   "cell_type": "markdown",
   "metadata": {
    "toc-hr-collapsed": true
   },
   "source": [
    "# Question 1"
   ]
  },
  {
   "cell_type": "markdown",
   "metadata": {},
   "source": [
    "BRIEFLY EXPLAIN HOW YOU SOLVE THE MODEL."
   ]
  },
  {
   "cell_type": "code",
   "execution_count": null,
   "metadata": {},
   "outputs": [
    {
     "ename": "Error",
     "evalue": "Activating Python 3.7.4 64-bit ('base': conda) to run Jupyter failed with Error: Command failed: C:/Anaconda/Scripts/activate && conda activate base && echo 'e8b39361-0157-4923-80e1-22d70d46dee6' && python c:/Users/Søren/.vscode/extensions/ms-python.python-2020.2.64397/pythonFiles/printEnvVariables.py\nProcessen kan ikke f� adgang til filen, da den bruges af en anden proces.\r\nProcessen kan ikke f� adgang til filen, da den bruges af en anden proces.\r\nThe system cannot find the file C:\\Users\\SREN~1\\AppData\\Local\\Temp\\conda-30707-18966.tmp.\r\nProcessen kan ikke f� adgang til filen, da den bruges af en anden proces.\r\n'conda' is not recognized as an internal or external command,\r\noperable program or batch file.\r\n.",
     "output_type": "error",
     "traceback": [
      "Error: Activating Python 3.7.4 64-bit ('base': conda) to run Jupyter failed with Error: Command failed: C:/Anaconda/Scripts/activate && conda activate base && echo 'e8b39361-0157-4923-80e1-22d70d46dee6' && python c:/Users/Søren/.vscode/extensions/ms-python.python-2020.2.64397/pythonFiles/printEnvVariables.py",
      "Processen kan ikke f� adgang til filen, da den bruges af en anden proces.",
      "Processen kan ikke f� adgang til filen, da den bruges af en anden proces.",
      "The system cannot find the file C:\\Users\\SREN~1\\AppData\\Local\\Temp\\conda-30707-18966.tmp.",
      "Processen kan ikke f� adgang til filen, da den bruges af en anden proces.",
      "'conda' is not recognized as an internal or external command,",
      "operable program or batch file.",
      ".",
      "at A.checkUsable (c:\\Users\\Søren\\.vscode\\extensions\\ms-python.python-2020.2.64397\\out\\client\\extension.js:1:794715)"
     ]
    }
   ],
   "source": [
    "# code for solving the model (remember documentation and comments)\n",
    "import math\n",
    "def u_func(w, l, m=1, nu=10, epsilon=0.3, tau0=0.4, tau1=0.1, kappa=0.4):\n",
    "    return math.log10( m+w*l-(tau0*w*l+tau1*max(w*l-kappa,0)) ) - nu*l**(1+1/epsilon)/(1+1/epsilon)\n",
    "\n",
    "w = 1\n",
    "l = 1\n",
    "u = u_func(w,l)\n",
    "\n",
    "print u\n",
    "\n",
    "\n",
    "#a = np.array([1,2,3])\n",
    "#b = inauguralproject.square(a)\n",
    "#print(b)"
   ]
  },
  {
   "cell_type": "markdown",
   "metadata": {},
   "source": [
    "# Question 2"
   ]
  },
  {
   "cell_type": "markdown",
   "metadata": {},
   "source": [
    "ADD ANSWER."
   ]
  },
  {
   "cell_type": "code",
   "execution_count": null,
   "metadata": {},
   "outputs": [
    {
     "ename": "Error",
     "evalue": "Activating Python 3.7.4 64-bit ('base': conda) to run Jupyter failed with Error: Command failed: C:/Anaconda/Scripts/activate && conda activate base && echo 'e8b39361-0157-4923-80e1-22d70d46dee6' && python c:/Users/Søren/.vscode/extensions/ms-python.python-2020.2.64397/pythonFiles/printEnvVariables.py\nProcessen kan ikke f� adgang til filen, da den bruges af en anden proces.\r\nProcessen kan ikke f� adgang til filen, da den bruges af en anden proces.\r\nThe system cannot find the file C:\\Users\\SREN~1\\AppData\\Local\\Temp\\conda-30707-18966.tmp.\r\nProcessen kan ikke f� adgang til filen, da den bruges af en anden proces.\r\n'conda' is not recognized as an internal or external command,\r\noperable program or batch file.\r\n.",
     "output_type": "error",
     "traceback": [
      "Error: Activating Python 3.7.4 64-bit ('base': conda) to run Jupyter failed with Error: Command failed: C:/Anaconda/Scripts/activate && conda activate base && echo 'e8b39361-0157-4923-80e1-22d70d46dee6' && python c:/Users/Søren/.vscode/extensions/ms-python.python-2020.2.64397/pythonFiles/printEnvVariables.py",
      "Processen kan ikke f� adgang til filen, da den bruges af en anden proces.",
      "Processen kan ikke f� adgang til filen, da den bruges af en anden proces.",
      "The system cannot find the file C:\\Users\\SREN~1\\AppData\\Local\\Temp\\conda-30707-18966.tmp.",
      "Processen kan ikke f� adgang til filen, da den bruges af en anden proces.",
      "'conda' is not recognized as an internal or external command,",
      "operable program or batch file.",
      ".",
      "at A.checkUsable (c:\\Users\\Søren\\.vscode\\extensions\\ms-python.python-2020.2.64397\\out\\client\\extension.js:1:794715)"
     ]
    }
   ],
   "source": [
    "# code"
   ]
  },
  {
   "cell_type": "markdown",
   "metadata": {},
   "source": [
    "# Question 3"
   ]
  },
  {
   "cell_type": "markdown",
   "metadata": {},
   "source": [
    "ADD ANSWER."
   ]
  },
  {
   "cell_type": "code",
   "execution_count": null,
   "metadata": {},
   "outputs": [
    {
     "ename": "Error",
     "evalue": "Activating Python 3.7.4 64-bit ('base': conda) to run Jupyter failed with Error: Command failed: C:/Anaconda/Scripts/activate && conda activate base && echo 'e8b39361-0157-4923-80e1-22d70d46dee6' && python c:/Users/Søren/.vscode/extensions/ms-python.python-2020.2.64397/pythonFiles/printEnvVariables.py\nProcessen kan ikke f� adgang til filen, da den bruges af en anden proces.\r\nProcessen kan ikke f� adgang til filen, da den bruges af en anden proces.\r\nThe system cannot find the file C:\\Users\\SREN~1\\AppData\\Local\\Temp\\conda-30707-18966.tmp.\r\nProcessen kan ikke f� adgang til filen, da den bruges af en anden proces.\r\n'conda' is not recognized as an internal or external command,\r\noperable program or batch file.\r\n.",
     "output_type": "error",
     "traceback": [
      "Error: Activating Python 3.7.4 64-bit ('base': conda) to run Jupyter failed with Error: Command failed: C:/Anaconda/Scripts/activate && conda activate base && echo 'e8b39361-0157-4923-80e1-22d70d46dee6' && python c:/Users/Søren/.vscode/extensions/ms-python.python-2020.2.64397/pythonFiles/printEnvVariables.py",
      "Processen kan ikke f� adgang til filen, da den bruges af en anden proces.",
      "Processen kan ikke f� adgang til filen, da den bruges af en anden proces.",
      "The system cannot find the file C:\\Users\\SREN~1\\AppData\\Local\\Temp\\conda-30707-18966.tmp.",
      "Processen kan ikke f� adgang til filen, da den bruges af en anden proces.",
      "'conda' is not recognized as an internal or external command,",
      "operable program or batch file.",
      ".",
      "at A.checkUsable (c:\\Users\\Søren\\.vscode\\extensions\\ms-python.python-2020.2.64397\\out\\client\\extension.js:1:794715)"
     ]
    }
   ],
   "source": [
    "# code"
   ]
  },
  {
   "cell_type": "markdown",
   "metadata": {},
   "source": [
    "# Question 4"
   ]
  },
  {
   "cell_type": "markdown",
   "metadata": {},
   "source": [
    "ADD ANSWER."
   ]
  },
  {
   "cell_type": "code",
   "execution_count": null,
   "metadata": {},
   "outputs": [
    {
     "ename": "Error",
     "evalue": "Activating Python 3.7.4 64-bit ('base': conda) to run Jupyter failed with Error: Command failed: C:/Anaconda/Scripts/activate && conda activate base && echo 'e8b39361-0157-4923-80e1-22d70d46dee6' && python c:/Users/Søren/.vscode/extensions/ms-python.python-2020.2.64397/pythonFiles/printEnvVariables.py\nProcessen kan ikke f� adgang til filen, da den bruges af en anden proces.\r\nProcessen kan ikke f� adgang til filen, da den bruges af en anden proces.\r\nThe system cannot find the file C:\\Users\\SREN~1\\AppData\\Local\\Temp\\conda-30707-18966.tmp.\r\nProcessen kan ikke f� adgang til filen, da den bruges af en anden proces.\r\n'conda' is not recognized as an internal or external command,\r\noperable program or batch file.\r\n.",
     "output_type": "error",
     "traceback": [
      "Error: Activating Python 3.7.4 64-bit ('base': conda) to run Jupyter failed with Error: Command failed: C:/Anaconda/Scripts/activate && conda activate base && echo 'e8b39361-0157-4923-80e1-22d70d46dee6' && python c:/Users/Søren/.vscode/extensions/ms-python.python-2020.2.64397/pythonFiles/printEnvVariables.py",
      "Processen kan ikke f� adgang til filen, da den bruges af en anden proces.",
      "Processen kan ikke f� adgang til filen, da den bruges af en anden proces.",
      "The system cannot find the file C:\\Users\\SREN~1\\AppData\\Local\\Temp\\conda-30707-18966.tmp.",
      "Processen kan ikke f� adgang til filen, da den bruges af en anden proces.",
      "'conda' is not recognized as an internal or external command,",
      "operable program or batch file.",
      ".",
      "at A.checkUsable (c:\\Users\\Søren\\.vscode\\extensions\\ms-python.python-2020.2.64397\\out\\client\\extension.js:1:794715)"
     ]
    }
   ],
   "source": [
    "# code"
   ]
  },
  {
   "cell_type": "markdown",
   "metadata": {},
   "source": [
    "# Question 5"
   ]
  },
  {
   "cell_type": "markdown",
   "metadata": {},
   "source": [
    "ADD ANSWER."
   ]
  },
  {
   "cell_type": "code",
   "execution_count": null,
   "metadata": {},
   "outputs": [
    {
     "ename": "Error",
     "evalue": "Activating Python 3.7.4 64-bit ('base': conda) to run Jupyter failed with Error: Command failed: C:/Anaconda/Scripts/activate && conda activate base && echo 'e8b39361-0157-4923-80e1-22d70d46dee6' && python c:/Users/Søren/.vscode/extensions/ms-python.python-2020.2.64397/pythonFiles/printEnvVariables.py\nProcessen kan ikke f� adgang til filen, da den bruges af en anden proces.\r\nProcessen kan ikke f� adgang til filen, da den bruges af en anden proces.\r\nThe system cannot find the file C:\\Users\\SREN~1\\AppData\\Local\\Temp\\conda-30707-18966.tmp.\r\nProcessen kan ikke f� adgang til filen, da den bruges af en anden proces.\r\n'conda' is not recognized as an internal or external command,\r\noperable program or batch file.\r\n.",
     "output_type": "error",
     "traceback": [
      "Error: Activating Python 3.7.4 64-bit ('base': conda) to run Jupyter failed with Error: Command failed: C:/Anaconda/Scripts/activate && conda activate base && echo 'e8b39361-0157-4923-80e1-22d70d46dee6' && python c:/Users/Søren/.vscode/extensions/ms-python.python-2020.2.64397/pythonFiles/printEnvVariables.py",
      "Processen kan ikke f� adgang til filen, da den bruges af en anden proces.",
      "Processen kan ikke f� adgang til filen, da den bruges af en anden proces.",
      "The system cannot find the file C:\\Users\\SREN~1\\AppData\\Local\\Temp\\conda-30707-18966.tmp.",
      "Processen kan ikke f� adgang til filen, da den bruges af en anden proces.",
      "'conda' is not recognized as an internal or external command,",
      "operable program or batch file.",
      ".",
      "at A.checkUsable (c:\\Users\\Søren\\.vscode\\extensions\\ms-python.python-2020.2.64397\\out\\client\\extension.js:1:794715)"
     ]
    }
   ],
   "source": [
    "# code"
   ]
  },
  {
   "cell_type": "markdown",
   "metadata": {},
   "source": [
    "# Conclusion"
   ]
  },
  {
   "cell_type": "markdown",
   "metadata": {},
   "source": [
    "ADD CONCISE CONLUSION."
   ]
  }
 ],
 "metadata": {
  "kernelspec": {
   "display_name": "Python 3",
   "language": "python",
   "name": "python3"
  },
  "language_info": {
   "codemirror_mode": {
    "name": "ipython",
    "version": 3
   },
   "file_extension": ".py",
   "mimetype": "text/x-python",
   "name": "python",
   "nbconvert_exporter": "python",
   "pygments_lexer": "ipython3",
   "version": "3.7.4"
  },
  "toc-autonumbering": true
 },
 "nbformat": 4,
 "nbformat_minor": 4
}